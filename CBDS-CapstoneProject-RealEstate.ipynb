{
  "cells": [
    {
      "cell_type": "markdown",
      "metadata": {
        "id": "a3AOXNNsY5Jh"
      },
      "source": [
        "# Problem Statement:\n",
        "\n",
        "A banking institution requires actionable insights from the perspective of Mortgage-Backed Securities, Geographic Business Investment and Real Estate Analysis. \n",
        "\n",
        "The objective is to identify white spaces/potential business in the mortgage loan. The mortgage bank would like to identify potential monthly mortgage expenses for each of region based on factors which are primarily monthly family income in a region and rented value of the real estate. Some of the regions are growing rapidly and Competitor banks are selling mortgage loans to subprime customers at a lower interest rate. The bank is strategizing for better market penetration and targeting new customers. A statistical model needs to be created to predict the potential demand in dollars amount of loan for each of the region in the USA. Also, there is a need to create a dashboard which would refresh periodically post data retrieval from the agencies. This would help to monitor the key metrics and trends.\n"
      ]
    },
    {
      "cell_type": "code",
      "execution_count": 51,
      "metadata": {
        "id": "ua-DdoT-Y5Jj"
      },
      "outputs": [],
      "source": [
        "import numpy as np\n",
        "import matplotlib.pyplot as plt\n",
        "import pandas as pd\n",
        "pd.set_option('display.max_rows', 10)\n",
        "%matplotlib inline\n",
        "import warnings\n",
        "warnings.filterwarnings('ignore')"
      ]
    },
    {
      "cell_type": "markdown",
      "metadata": {
        "tags": [],
        "id": "gQGNgElAY5Jk"
      },
      "source": [
        "1.\tImport data "
      ]
    },
    {
      "cell_type": "code",
      "source": [
        "# \n",
        "from google.colab import files\n",
        "# \n",
        "uploaded = files.upload()"
      ],
      "metadata": {
        "id": "M_2uGgb1ZzJ4",
        "colab": {
          "base_uri": "https://localhost:8080/",
          "height": 39
        },
        "outputId": "df76ba7f-48b0-4577-8ce2-701ae8577b71"
      },
      "execution_count": 52,
      "outputs": [
        {
          "output_type": "display_data",
          "data": {
            "text/plain": [
              "<IPython.core.display.HTML object>"
            ],
            "text/html": [
              "\n",
              "     <input type=\"file\" id=\"files-96bbc49e-ae6c-4dc1-aa72-62606e9796a1\" name=\"files[]\" multiple disabled\n",
              "        style=\"border:none\" />\n",
              "     <output id=\"result-96bbc49e-ae6c-4dc1-aa72-62606e9796a1\">\n",
              "      Upload widget is only available when the cell has been executed in the\n",
              "      current browser session. Please rerun this cell to enable.\n",
              "      </output>\n",
              "      <script>// Copyright 2017 Google LLC\n",
              "//\n",
              "// Licensed under the Apache License, Version 2.0 (the \"License\");\n",
              "// you may not use this file except in compliance with the License.\n",
              "// You may obtain a copy of the License at\n",
              "//\n",
              "//      http://www.apache.org/licenses/LICENSE-2.0\n",
              "//\n",
              "// Unless required by applicable law or agreed to in writing, software\n",
              "// distributed under the License is distributed on an \"AS IS\" BASIS,\n",
              "// WITHOUT WARRANTIES OR CONDITIONS OF ANY KIND, either express or implied.\n",
              "// See the License for the specific language governing permissions and\n",
              "// limitations under the License.\n",
              "\n",
              "/**\n",
              " * @fileoverview Helpers for google.colab Python module.\n",
              " */\n",
              "(function(scope) {\n",
              "function span(text, styleAttributes = {}) {\n",
              "  const element = document.createElement('span');\n",
              "  element.textContent = text;\n",
              "  for (const key of Object.keys(styleAttributes)) {\n",
              "    element.style[key] = styleAttributes[key];\n",
              "  }\n",
              "  return element;\n",
              "}\n",
              "\n",
              "// Max number of bytes which will be uploaded at a time.\n",
              "const MAX_PAYLOAD_SIZE = 100 * 1024;\n",
              "\n",
              "function _uploadFiles(inputId, outputId) {\n",
              "  const steps = uploadFilesStep(inputId, outputId);\n",
              "  const outputElement = document.getElementById(outputId);\n",
              "  // Cache steps on the outputElement to make it available for the next call\n",
              "  // to uploadFilesContinue from Python.\n",
              "  outputElement.steps = steps;\n",
              "\n",
              "  return _uploadFilesContinue(outputId);\n",
              "}\n",
              "\n",
              "// This is roughly an async generator (not supported in the browser yet),\n",
              "// where there are multiple asynchronous steps and the Python side is going\n",
              "// to poll for completion of each step.\n",
              "// This uses a Promise to block the python side on completion of each step,\n",
              "// then passes the result of the previous step as the input to the next step.\n",
              "function _uploadFilesContinue(outputId) {\n",
              "  const outputElement = document.getElementById(outputId);\n",
              "  const steps = outputElement.steps;\n",
              "\n",
              "  const next = steps.next(outputElement.lastPromiseValue);\n",
              "  return Promise.resolve(next.value.promise).then((value) => {\n",
              "    // Cache the last promise value to make it available to the next\n",
              "    // step of the generator.\n",
              "    outputElement.lastPromiseValue = value;\n",
              "    return next.value.response;\n",
              "  });\n",
              "}\n",
              "\n",
              "/**\n",
              " * Generator function which is called between each async step of the upload\n",
              " * process.\n",
              " * @param {string} inputId Element ID of the input file picker element.\n",
              " * @param {string} outputId Element ID of the output display.\n",
              " * @return {!Iterable<!Object>} Iterable of next steps.\n",
              " */\n",
              "function* uploadFilesStep(inputId, outputId) {\n",
              "  const inputElement = document.getElementById(inputId);\n",
              "  inputElement.disabled = false;\n",
              "\n",
              "  const outputElement = document.getElementById(outputId);\n",
              "  outputElement.innerHTML = '';\n",
              "\n",
              "  const pickedPromise = new Promise((resolve) => {\n",
              "    inputElement.addEventListener('change', (e) => {\n",
              "      resolve(e.target.files);\n",
              "    });\n",
              "  });\n",
              "\n",
              "  const cancel = document.createElement('button');\n",
              "  inputElement.parentElement.appendChild(cancel);\n",
              "  cancel.textContent = 'Cancel upload';\n",
              "  const cancelPromise = new Promise((resolve) => {\n",
              "    cancel.onclick = () => {\n",
              "      resolve(null);\n",
              "    };\n",
              "  });\n",
              "\n",
              "  // Wait for the user to pick the files.\n",
              "  const files = yield {\n",
              "    promise: Promise.race([pickedPromise, cancelPromise]),\n",
              "    response: {\n",
              "      action: 'starting',\n",
              "    }\n",
              "  };\n",
              "\n",
              "  cancel.remove();\n",
              "\n",
              "  // Disable the input element since further picks are not allowed.\n",
              "  inputElement.disabled = true;\n",
              "\n",
              "  if (!files) {\n",
              "    return {\n",
              "      response: {\n",
              "        action: 'complete',\n",
              "      }\n",
              "    };\n",
              "  }\n",
              "\n",
              "  for (const file of files) {\n",
              "    const li = document.createElement('li');\n",
              "    li.append(span(file.name, {fontWeight: 'bold'}));\n",
              "    li.append(span(\n",
              "        `(${file.type || 'n/a'}) - ${file.size} bytes, ` +\n",
              "        `last modified: ${\n",
              "            file.lastModifiedDate ? file.lastModifiedDate.toLocaleDateString() :\n",
              "                                    'n/a'} - `));\n",
              "    const percent = span('0% done');\n",
              "    li.appendChild(percent);\n",
              "\n",
              "    outputElement.appendChild(li);\n",
              "\n",
              "    const fileDataPromise = new Promise((resolve) => {\n",
              "      const reader = new FileReader();\n",
              "      reader.onload = (e) => {\n",
              "        resolve(e.target.result);\n",
              "      };\n",
              "      reader.readAsArrayBuffer(file);\n",
              "    });\n",
              "    // Wait for the data to be ready.\n",
              "    let fileData = yield {\n",
              "      promise: fileDataPromise,\n",
              "      response: {\n",
              "        action: 'continue',\n",
              "      }\n",
              "    };\n",
              "\n",
              "    // Use a chunked sending to avoid message size limits. See b/62115660.\n",
              "    let position = 0;\n",
              "    do {\n",
              "      const length = Math.min(fileData.byteLength - position, MAX_PAYLOAD_SIZE);\n",
              "      const chunk = new Uint8Array(fileData, position, length);\n",
              "      position += length;\n",
              "\n",
              "      const base64 = btoa(String.fromCharCode.apply(null, chunk));\n",
              "      yield {\n",
              "        response: {\n",
              "          action: 'append',\n",
              "          file: file.name,\n",
              "          data: base64,\n",
              "        },\n",
              "      };\n",
              "\n",
              "      let percentDone = fileData.byteLength === 0 ?\n",
              "          100 :\n",
              "          Math.round((position / fileData.byteLength) * 100);\n",
              "      percent.textContent = `${percentDone}% done`;\n",
              "\n",
              "    } while (position < fileData.byteLength);\n",
              "  }\n",
              "\n",
              "  // All done.\n",
              "  yield {\n",
              "    response: {\n",
              "      action: 'complete',\n",
              "    }\n",
              "  };\n",
              "}\n",
              "\n",
              "scope.google = scope.google || {};\n",
              "scope.google.colab = scope.google.colab || {};\n",
              "scope.google.colab._files = {\n",
              "  _uploadFiles,\n",
              "  _uploadFilesContinue,\n",
              "};\n",
              "})(self);\n",
              "</script> "
            ]
          },
          "metadata": {}
        }
      ]
    },
    {
      "cell_type": "code",
      "execution_count": 53,
      "metadata": {
        "tags": [],
        "colab": {
          "base_uri": "https://localhost:8080/",
          "height": 369
        },
        "id": "tBHpSUqqY5Jk",
        "outputId": "8176dd23-84c4-4cb8-964a-eaccf3e9d694"
      },
      "outputs": [
        {
          "output_type": "execute_result",
          "data": {
            "text/plain": [
              "      UID  BLOCKID  SUMLEVEL  COUNTYID  STATEID        state state_ab  \\\n",
              "0  267822      NaN       140        53       36     New York       NY   \n",
              "1  246444      NaN       140       141       18      Indiana       IN   \n",
              "2  245683      NaN       140        63       18      Indiana       IN   \n",
              "3  279653      NaN       140       127       72  Puerto Rico       PR   \n",
              "4  247218      NaN       140       161       20       Kansas       KS   \n",
              "\n",
              "         city           place   type  ... female_age_mean  female_age_median  \\\n",
              "0    Hamilton        Hamilton   City  ...        44.48629           45.33333   \n",
              "1  South Bend        Roseland   City  ...        36.48391           37.58333   \n",
              "2    Danville        Danville   City  ...        42.15810           42.83333   \n",
              "3    San Juan        Guaynabo  Urban  ...        47.77526           50.58333   \n",
              "4   Manhattan  Manhattan City   City  ...        24.17693           21.58333   \n",
              "\n",
              "   female_age_stdev  female_age_sample_weight  female_age_samples  pct_own  \\\n",
              "0          22.51276                 685.33845              2618.0  0.79046   \n",
              "1          23.43353                 267.23367              1284.0  0.52483   \n",
              "2          23.94119                 707.01963              3238.0  0.85331   \n",
              "3          24.32015                 362.20193              1559.0  0.65037   \n",
              "4          11.10484                1854.48652              3051.0  0.13046   \n",
              "\n",
              "   married  married_snp  separated  divorced  \n",
              "0  0.57851      0.01882    0.01240   0.08770  \n",
              "1  0.34886      0.01426    0.01426   0.09030  \n",
              "2  0.64745      0.02830    0.01607   0.10657  \n",
              "3  0.47257      0.02021    0.02021   0.10106  \n",
              "4  0.12356      0.00000    0.00000   0.03109  \n",
              "\n",
              "[5 rows x 80 columns]"
            ],
            "text/html": [
              "\n",
              "  <div id=\"df-17c08f40-bca5-4678-9a2c-a6c0db9688f9\">\n",
              "    <div class=\"colab-df-container\">\n",
              "      <div>\n",
              "<style scoped>\n",
              "    .dataframe tbody tr th:only-of-type {\n",
              "        vertical-align: middle;\n",
              "    }\n",
              "\n",
              "    .dataframe tbody tr th {\n",
              "        vertical-align: top;\n",
              "    }\n",
              "\n",
              "    .dataframe thead th {\n",
              "        text-align: right;\n",
              "    }\n",
              "</style>\n",
              "<table border=\"1\" class=\"dataframe\">\n",
              "  <thead>\n",
              "    <tr style=\"text-align: right;\">\n",
              "      <th></th>\n",
              "      <th>UID</th>\n",
              "      <th>BLOCKID</th>\n",
              "      <th>SUMLEVEL</th>\n",
              "      <th>COUNTYID</th>\n",
              "      <th>STATEID</th>\n",
              "      <th>state</th>\n",
              "      <th>state_ab</th>\n",
              "      <th>city</th>\n",
              "      <th>place</th>\n",
              "      <th>type</th>\n",
              "      <th>...</th>\n",
              "      <th>female_age_mean</th>\n",
              "      <th>female_age_median</th>\n",
              "      <th>female_age_stdev</th>\n",
              "      <th>female_age_sample_weight</th>\n",
              "      <th>female_age_samples</th>\n",
              "      <th>pct_own</th>\n",
              "      <th>married</th>\n",
              "      <th>married_snp</th>\n",
              "      <th>separated</th>\n",
              "      <th>divorced</th>\n",
              "    </tr>\n",
              "  </thead>\n",
              "  <tbody>\n",
              "    <tr>\n",
              "      <th>0</th>\n",
              "      <td>267822</td>\n",
              "      <td>NaN</td>\n",
              "      <td>140</td>\n",
              "      <td>53</td>\n",
              "      <td>36</td>\n",
              "      <td>New York</td>\n",
              "      <td>NY</td>\n",
              "      <td>Hamilton</td>\n",
              "      <td>Hamilton</td>\n",
              "      <td>City</td>\n",
              "      <td>...</td>\n",
              "      <td>44.48629</td>\n",
              "      <td>45.33333</td>\n",
              "      <td>22.51276</td>\n",
              "      <td>685.33845</td>\n",
              "      <td>2618.0</td>\n",
              "      <td>0.79046</td>\n",
              "      <td>0.57851</td>\n",
              "      <td>0.01882</td>\n",
              "      <td>0.01240</td>\n",
              "      <td>0.08770</td>\n",
              "    </tr>\n",
              "    <tr>\n",
              "      <th>1</th>\n",
              "      <td>246444</td>\n",
              "      <td>NaN</td>\n",
              "      <td>140</td>\n",
              "      <td>141</td>\n",
              "      <td>18</td>\n",
              "      <td>Indiana</td>\n",
              "      <td>IN</td>\n",
              "      <td>South Bend</td>\n",
              "      <td>Roseland</td>\n",
              "      <td>City</td>\n",
              "      <td>...</td>\n",
              "      <td>36.48391</td>\n",
              "      <td>37.58333</td>\n",
              "      <td>23.43353</td>\n",
              "      <td>267.23367</td>\n",
              "      <td>1284.0</td>\n",
              "      <td>0.52483</td>\n",
              "      <td>0.34886</td>\n",
              "      <td>0.01426</td>\n",
              "      <td>0.01426</td>\n",
              "      <td>0.09030</td>\n",
              "    </tr>\n",
              "    <tr>\n",
              "      <th>2</th>\n",
              "      <td>245683</td>\n",
              "      <td>NaN</td>\n",
              "      <td>140</td>\n",
              "      <td>63</td>\n",
              "      <td>18</td>\n",
              "      <td>Indiana</td>\n",
              "      <td>IN</td>\n",
              "      <td>Danville</td>\n",
              "      <td>Danville</td>\n",
              "      <td>City</td>\n",
              "      <td>...</td>\n",
              "      <td>42.15810</td>\n",
              "      <td>42.83333</td>\n",
              "      <td>23.94119</td>\n",
              "      <td>707.01963</td>\n",
              "      <td>3238.0</td>\n",
              "      <td>0.85331</td>\n",
              "      <td>0.64745</td>\n",
              "      <td>0.02830</td>\n",
              "      <td>0.01607</td>\n",
              "      <td>0.10657</td>\n",
              "    </tr>\n",
              "    <tr>\n",
              "      <th>3</th>\n",
              "      <td>279653</td>\n",
              "      <td>NaN</td>\n",
              "      <td>140</td>\n",
              "      <td>127</td>\n",
              "      <td>72</td>\n",
              "      <td>Puerto Rico</td>\n",
              "      <td>PR</td>\n",
              "      <td>San Juan</td>\n",
              "      <td>Guaynabo</td>\n",
              "      <td>Urban</td>\n",
              "      <td>...</td>\n",
              "      <td>47.77526</td>\n",
              "      <td>50.58333</td>\n",
              "      <td>24.32015</td>\n",
              "      <td>362.20193</td>\n",
              "      <td>1559.0</td>\n",
              "      <td>0.65037</td>\n",
              "      <td>0.47257</td>\n",
              "      <td>0.02021</td>\n",
              "      <td>0.02021</td>\n",
              "      <td>0.10106</td>\n",
              "    </tr>\n",
              "    <tr>\n",
              "      <th>4</th>\n",
              "      <td>247218</td>\n",
              "      <td>NaN</td>\n",
              "      <td>140</td>\n",
              "      <td>161</td>\n",
              "      <td>20</td>\n",
              "      <td>Kansas</td>\n",
              "      <td>KS</td>\n",
              "      <td>Manhattan</td>\n",
              "      <td>Manhattan City</td>\n",
              "      <td>City</td>\n",
              "      <td>...</td>\n",
              "      <td>24.17693</td>\n",
              "      <td>21.58333</td>\n",
              "      <td>11.10484</td>\n",
              "      <td>1854.48652</td>\n",
              "      <td>3051.0</td>\n",
              "      <td>0.13046</td>\n",
              "      <td>0.12356</td>\n",
              "      <td>0.00000</td>\n",
              "      <td>0.00000</td>\n",
              "      <td>0.03109</td>\n",
              "    </tr>\n",
              "  </tbody>\n",
              "</table>\n",
              "<p>5 rows × 80 columns</p>\n",
              "</div>\n",
              "      <button class=\"colab-df-convert\" onclick=\"convertToInteractive('df-17c08f40-bca5-4678-9a2c-a6c0db9688f9')\"\n",
              "              title=\"Convert this dataframe to an interactive table.\"\n",
              "              style=\"display:none;\">\n",
              "        \n",
              "  <svg xmlns=\"http://www.w3.org/2000/svg\" height=\"24px\"viewBox=\"0 0 24 24\"\n",
              "       width=\"24px\">\n",
              "    <path d=\"M0 0h24v24H0V0z\" fill=\"none\"/>\n",
              "    <path d=\"M18.56 5.44l.94 2.06.94-2.06 2.06-.94-2.06-.94-.94-2.06-.94 2.06-2.06.94zm-11 1L8.5 8.5l.94-2.06 2.06-.94-2.06-.94L8.5 2.5l-.94 2.06-2.06.94zm10 10l.94 2.06.94-2.06 2.06-.94-2.06-.94-.94-2.06-.94 2.06-2.06.94z\"/><path d=\"M17.41 7.96l-1.37-1.37c-.4-.4-.92-.59-1.43-.59-.52 0-1.04.2-1.43.59L10.3 9.45l-7.72 7.72c-.78.78-.78 2.05 0 2.83L4 21.41c.39.39.9.59 1.41.59.51 0 1.02-.2 1.41-.59l7.78-7.78 2.81-2.81c.8-.78.8-2.07 0-2.86zM5.41 20L4 18.59l7.72-7.72 1.47 1.35L5.41 20z\"/>\n",
              "  </svg>\n",
              "      </button>\n",
              "      \n",
              "  <style>\n",
              "    .colab-df-container {\n",
              "      display:flex;\n",
              "      flex-wrap:wrap;\n",
              "      gap: 12px;\n",
              "    }\n",
              "\n",
              "    .colab-df-convert {\n",
              "      background-color: #E8F0FE;\n",
              "      border: none;\n",
              "      border-radius: 50%;\n",
              "      cursor: pointer;\n",
              "      display: none;\n",
              "      fill: #1967D2;\n",
              "      height: 32px;\n",
              "      padding: 0 0 0 0;\n",
              "      width: 32px;\n",
              "    }\n",
              "\n",
              "    .colab-df-convert:hover {\n",
              "      background-color: #E2EBFA;\n",
              "      box-shadow: 0px 1px 2px rgba(60, 64, 67, 0.3), 0px 1px 3px 1px rgba(60, 64, 67, 0.15);\n",
              "      fill: #174EA6;\n",
              "    }\n",
              "\n",
              "    [theme=dark] .colab-df-convert {\n",
              "      background-color: #3B4455;\n",
              "      fill: #D2E3FC;\n",
              "    }\n",
              "\n",
              "    [theme=dark] .colab-df-convert:hover {\n",
              "      background-color: #434B5C;\n",
              "      box-shadow: 0px 1px 3px 1px rgba(0, 0, 0, 0.15);\n",
              "      filter: drop-shadow(0px 1px 2px rgba(0, 0, 0, 0.3));\n",
              "      fill: #FFFFFF;\n",
              "    }\n",
              "  </style>\n",
              "\n",
              "      <script>\n",
              "        const buttonEl =\n",
              "          document.querySelector('#df-17c08f40-bca5-4678-9a2c-a6c0db9688f9 button.colab-df-convert');\n",
              "        buttonEl.style.display =\n",
              "          google.colab.kernel.accessAllowed ? 'block' : 'none';\n",
              "\n",
              "        async function convertToInteractive(key) {\n",
              "          const element = document.querySelector('#df-17c08f40-bca5-4678-9a2c-a6c0db9688f9');\n",
              "          const dataTable =\n",
              "            await google.colab.kernel.invokeFunction('convertToInteractive',\n",
              "                                                     [key], {});\n",
              "          if (!dataTable) return;\n",
              "\n",
              "          const docLinkHtml = 'Like what you see? Visit the ' +\n",
              "            '<a target=\"_blank\" href=https://colab.research.google.com/notebooks/data_table.ipynb>data table notebook</a>'\n",
              "            + ' to learn more about interactive tables.';\n",
              "          element.innerHTML = '';\n",
              "          dataTable['output_type'] = 'display_data';\n",
              "          await google.colab.output.renderOutput(dataTable, element);\n",
              "          const docLink = document.createElement('div');\n",
              "          docLink.innerHTML = docLinkHtml;\n",
              "          element.appendChild(docLink);\n",
              "        }\n",
              "      </script>\n",
              "    </div>\n",
              "  </div>\n",
              "  "
            ]
          },
          "metadata": {},
          "execution_count": 53
        }
      ],
      "source": [
        "df=pd.read_csv(\"train.csv\")\n",
        "df.head()"
      ]
    },
    {
      "cell_type": "code",
      "execution_count": 54,
      "metadata": {
        "colab": {
          "base_uri": "https://localhost:8080/",
          "height": 0
        },
        "id": "j7amcs5IY5Jl",
        "outputId": "0a9f9389-1876-4362-dab6-e1a8625a0171"
      },
      "outputs": [
        {
          "output_type": "execute_result",
          "data": {
            "text/plain": [
              "(27321, 80)"
            ]
          },
          "metadata": {},
          "execution_count": 54
        }
      ],
      "source": [
        "# Check dimensionality of your data frame using shape\n",
        "# This data frame has 27,321 observations or rows and 80 variables or columns \n",
        "df.shape"
      ]
    },
    {
      "cell_type": "code",
      "execution_count": 55,
      "metadata": {
        "tags": [],
        "colab": {
          "base_uri": "https://localhost:8080/",
          "height": 0
        },
        "id": "rZs1SLWyY5Jm",
        "outputId": "759ade5f-765f-42a6-bbd9-45a200fa2596"
      },
      "outputs": [
        {
          "output_type": "stream",
          "name": "stdout",
          "text": [
            "False    27161\n",
            "True       160\n",
            "dtype: int64\n",
            "1623     True\n",
            "1907     True\n",
            "2447     True\n",
            "4161     True\n",
            "5066     True\n",
            "         ... \n",
            "26769    True\n",
            "26872    True\n",
            "26910    True\n",
            "27175    True\n",
            "27176    True\n",
            "Length: 160, dtype: bool\n"
          ]
        }
      ],
      "source": [
        "# Check for duplicates\n",
        "dups = df.duplicated(keep='first')\n",
        "print(dups.value_counts())\n",
        "print(dups[dups == True])"
      ]
    },
    {
      "cell_type": "code",
      "execution_count": 56,
      "metadata": {
        "id": "792iObquY5Jm"
      },
      "outputs": [],
      "source": [
        "# There are 160 duplicate rows\n",
        "# Keep first record of all duplicated rows\n",
        "df.drop_duplicates(inplace=True)"
      ]
    },
    {
      "cell_type": "code",
      "execution_count": 57,
      "metadata": {
        "colab": {
          "base_uri": "https://localhost:8080/",
          "height": 0
        },
        "id": "VzejQlrdY5Jm",
        "outputId": "ed6169c0-6123-4de7-cfed-589271ea45bb"
      },
      "outputs": [
        {
          "output_type": "execute_result",
          "data": {
            "text/plain": [
              "(27161, 80)"
            ]
          },
          "metadata": {},
          "execution_count": 57
        }
      ],
      "source": [
        "# Recheck the dimensionality of the data\n",
        "df.shape"
      ]
    },
    {
      "cell_type": "markdown",
      "metadata": {
        "id": "a124i7noY5Jn"
      },
      "source": [
        "    2.\tFigure out the primary key and look for the requirement of indexing"
      ]
    },
    {
      "cell_type": "code",
      "execution_count": 58,
      "metadata": {
        "tags": [],
        "colab": {
          "base_uri": "https://localhost:8080/",
          "height": 0
        },
        "id": "dtKvLh9ZY5Jo",
        "outputId": "a9742711-87e2-465d-b107-854d60845b56"
      },
      "outputs": [
        {
          "output_type": "execute_result",
          "data": {
            "text/plain": [
              "UID            27161\n",
              "BLOCKID            0\n",
              "SUMLEVEL           1\n",
              "COUNTYID         296\n",
              "STATEID           52\n",
              "               ...  \n",
              "pct_own        22302\n",
              "married        20282\n",
              "married_snp    10350\n",
              "separated       6190\n",
              "divorced       13688\n",
              "Length: 80, dtype: int64"
            ]
          },
          "metadata": {},
          "execution_count": 58
        }
      ],
      "source": [
        "# Check varialbes for unique values\n",
        "df.nunique()"
      ]
    },
    {
      "cell_type": "code",
      "execution_count": 59,
      "metadata": {
        "colab": {
          "base_uri": "https://localhost:8080/",
          "height": 400
        },
        "id": "JhTvYf4TY5Jp",
        "outputId": "ddd6a2b1-d557-4a47-e748-960c3ac16b8d"
      },
      "outputs": [
        {
          "output_type": "execute_result",
          "data": {
            "text/plain": [
              "        BLOCKID  SUMLEVEL  COUNTYID  STATEID        state state_ab  \\\n",
              "UID                                                                  \n",
              "267822      NaN       140        53       36     New York       NY   \n",
              "246444      NaN       140       141       18      Indiana       IN   \n",
              "245683      NaN       140        63       18      Indiana       IN   \n",
              "279653      NaN       140       127       72  Puerto Rico       PR   \n",
              "247218      NaN       140       161       20       Kansas       KS   \n",
              "\n",
              "              city           place   type primary  ...  female_age_mean  \\\n",
              "UID                                                ...                    \n",
              "267822    Hamilton        Hamilton   City   tract  ...         44.48629   \n",
              "246444  South Bend        Roseland   City   tract  ...         36.48391   \n",
              "245683    Danville        Danville   City   tract  ...         42.15810   \n",
              "279653    San Juan        Guaynabo  Urban   tract  ...         47.77526   \n",
              "247218   Manhattan  Manhattan City   City   tract  ...         24.17693   \n",
              "\n",
              "        female_age_median  female_age_stdev  female_age_sample_weight  \\\n",
              "UID                                                                     \n",
              "267822           45.33333          22.51276                 685.33845   \n",
              "246444           37.58333          23.43353                 267.23367   \n",
              "245683           42.83333          23.94119                 707.01963   \n",
              "279653           50.58333          24.32015                 362.20193   \n",
              "247218           21.58333          11.10484                1854.48652   \n",
              "\n",
              "        female_age_samples  pct_own  married  married_snp  separated  divorced  \n",
              "UID                                                                             \n",
              "267822              2618.0  0.79046  0.57851      0.01882    0.01240   0.08770  \n",
              "246444              1284.0  0.52483  0.34886      0.01426    0.01426   0.09030  \n",
              "245683              3238.0  0.85331  0.64745      0.02830    0.01607   0.10657  \n",
              "279653              1559.0  0.65037  0.47257      0.02021    0.02021   0.10106  \n",
              "247218              3051.0  0.13046  0.12356      0.00000    0.00000   0.03109  \n",
              "\n",
              "[5 rows x 79 columns]"
            ],
            "text/html": [
              "\n",
              "  <div id=\"df-45f79738-98c0-4c2b-8510-131dc142a229\">\n",
              "    <div class=\"colab-df-container\">\n",
              "      <div>\n",
              "<style scoped>\n",
              "    .dataframe tbody tr th:only-of-type {\n",
              "        vertical-align: middle;\n",
              "    }\n",
              "\n",
              "    .dataframe tbody tr th {\n",
              "        vertical-align: top;\n",
              "    }\n",
              "\n",
              "    .dataframe thead th {\n",
              "        text-align: right;\n",
              "    }\n",
              "</style>\n",
              "<table border=\"1\" class=\"dataframe\">\n",
              "  <thead>\n",
              "    <tr style=\"text-align: right;\">\n",
              "      <th></th>\n",
              "      <th>BLOCKID</th>\n",
              "      <th>SUMLEVEL</th>\n",
              "      <th>COUNTYID</th>\n",
              "      <th>STATEID</th>\n",
              "      <th>state</th>\n",
              "      <th>state_ab</th>\n",
              "      <th>city</th>\n",
              "      <th>place</th>\n",
              "      <th>type</th>\n",
              "      <th>primary</th>\n",
              "      <th>...</th>\n",
              "      <th>female_age_mean</th>\n",
              "      <th>female_age_median</th>\n",
              "      <th>female_age_stdev</th>\n",
              "      <th>female_age_sample_weight</th>\n",
              "      <th>female_age_samples</th>\n",
              "      <th>pct_own</th>\n",
              "      <th>married</th>\n",
              "      <th>married_snp</th>\n",
              "      <th>separated</th>\n",
              "      <th>divorced</th>\n",
              "    </tr>\n",
              "    <tr>\n",
              "      <th>UID</th>\n",
              "      <th></th>\n",
              "      <th></th>\n",
              "      <th></th>\n",
              "      <th></th>\n",
              "      <th></th>\n",
              "      <th></th>\n",
              "      <th></th>\n",
              "      <th></th>\n",
              "      <th></th>\n",
              "      <th></th>\n",
              "      <th></th>\n",
              "      <th></th>\n",
              "      <th></th>\n",
              "      <th></th>\n",
              "      <th></th>\n",
              "      <th></th>\n",
              "      <th></th>\n",
              "      <th></th>\n",
              "      <th></th>\n",
              "      <th></th>\n",
              "      <th></th>\n",
              "    </tr>\n",
              "  </thead>\n",
              "  <tbody>\n",
              "    <tr>\n",
              "      <th>267822</th>\n",
              "      <td>NaN</td>\n",
              "      <td>140</td>\n",
              "      <td>53</td>\n",
              "      <td>36</td>\n",
              "      <td>New York</td>\n",
              "      <td>NY</td>\n",
              "      <td>Hamilton</td>\n",
              "      <td>Hamilton</td>\n",
              "      <td>City</td>\n",
              "      <td>tract</td>\n",
              "      <td>...</td>\n",
              "      <td>44.48629</td>\n",
              "      <td>45.33333</td>\n",
              "      <td>22.51276</td>\n",
              "      <td>685.33845</td>\n",
              "      <td>2618.0</td>\n",
              "      <td>0.79046</td>\n",
              "      <td>0.57851</td>\n",
              "      <td>0.01882</td>\n",
              "      <td>0.01240</td>\n",
              "      <td>0.08770</td>\n",
              "    </tr>\n",
              "    <tr>\n",
              "      <th>246444</th>\n",
              "      <td>NaN</td>\n",
              "      <td>140</td>\n",
              "      <td>141</td>\n",
              "      <td>18</td>\n",
              "      <td>Indiana</td>\n",
              "      <td>IN</td>\n",
              "      <td>South Bend</td>\n",
              "      <td>Roseland</td>\n",
              "      <td>City</td>\n",
              "      <td>tract</td>\n",
              "      <td>...</td>\n",
              "      <td>36.48391</td>\n",
              "      <td>37.58333</td>\n",
              "      <td>23.43353</td>\n",
              "      <td>267.23367</td>\n",
              "      <td>1284.0</td>\n",
              "      <td>0.52483</td>\n",
              "      <td>0.34886</td>\n",
              "      <td>0.01426</td>\n",
              "      <td>0.01426</td>\n",
              "      <td>0.09030</td>\n",
              "    </tr>\n",
              "    <tr>\n",
              "      <th>245683</th>\n",
              "      <td>NaN</td>\n",
              "      <td>140</td>\n",
              "      <td>63</td>\n",
              "      <td>18</td>\n",
              "      <td>Indiana</td>\n",
              "      <td>IN</td>\n",
              "      <td>Danville</td>\n",
              "      <td>Danville</td>\n",
              "      <td>City</td>\n",
              "      <td>tract</td>\n",
              "      <td>...</td>\n",
              "      <td>42.15810</td>\n",
              "      <td>42.83333</td>\n",
              "      <td>23.94119</td>\n",
              "      <td>707.01963</td>\n",
              "      <td>3238.0</td>\n",
              "      <td>0.85331</td>\n",
              "      <td>0.64745</td>\n",
              "      <td>0.02830</td>\n",
              "      <td>0.01607</td>\n",
              "      <td>0.10657</td>\n",
              "    </tr>\n",
              "    <tr>\n",
              "      <th>279653</th>\n",
              "      <td>NaN</td>\n",
              "      <td>140</td>\n",
              "      <td>127</td>\n",
              "      <td>72</td>\n",
              "      <td>Puerto Rico</td>\n",
              "      <td>PR</td>\n",
              "      <td>San Juan</td>\n",
              "      <td>Guaynabo</td>\n",
              "      <td>Urban</td>\n",
              "      <td>tract</td>\n",
              "      <td>...</td>\n",
              "      <td>47.77526</td>\n",
              "      <td>50.58333</td>\n",
              "      <td>24.32015</td>\n",
              "      <td>362.20193</td>\n",
              "      <td>1559.0</td>\n",
              "      <td>0.65037</td>\n",
              "      <td>0.47257</td>\n",
              "      <td>0.02021</td>\n",
              "      <td>0.02021</td>\n",
              "      <td>0.10106</td>\n",
              "    </tr>\n",
              "    <tr>\n",
              "      <th>247218</th>\n",
              "      <td>NaN</td>\n",
              "      <td>140</td>\n",
              "      <td>161</td>\n",
              "      <td>20</td>\n",
              "      <td>Kansas</td>\n",
              "      <td>KS</td>\n",
              "      <td>Manhattan</td>\n",
              "      <td>Manhattan City</td>\n",
              "      <td>City</td>\n",
              "      <td>tract</td>\n",
              "      <td>...</td>\n",
              "      <td>24.17693</td>\n",
              "      <td>21.58333</td>\n",
              "      <td>11.10484</td>\n",
              "      <td>1854.48652</td>\n",
              "      <td>3051.0</td>\n",
              "      <td>0.13046</td>\n",
              "      <td>0.12356</td>\n",
              "      <td>0.00000</td>\n",
              "      <td>0.00000</td>\n",
              "      <td>0.03109</td>\n",
              "    </tr>\n",
              "  </tbody>\n",
              "</table>\n",
              "<p>5 rows × 79 columns</p>\n",
              "</div>\n",
              "      <button class=\"colab-df-convert\" onclick=\"convertToInteractive('df-45f79738-98c0-4c2b-8510-131dc142a229')\"\n",
              "              title=\"Convert this dataframe to an interactive table.\"\n",
              "              style=\"display:none;\">\n",
              "        \n",
              "  <svg xmlns=\"http://www.w3.org/2000/svg\" height=\"24px\"viewBox=\"0 0 24 24\"\n",
              "       width=\"24px\">\n",
              "    <path d=\"M0 0h24v24H0V0z\" fill=\"none\"/>\n",
              "    <path d=\"M18.56 5.44l.94 2.06.94-2.06 2.06-.94-2.06-.94-.94-2.06-.94 2.06-2.06.94zm-11 1L8.5 8.5l.94-2.06 2.06-.94-2.06-.94L8.5 2.5l-.94 2.06-2.06.94zm10 10l.94 2.06.94-2.06 2.06-.94-2.06-.94-.94-2.06-.94 2.06-2.06.94z\"/><path d=\"M17.41 7.96l-1.37-1.37c-.4-.4-.92-.59-1.43-.59-.52 0-1.04.2-1.43.59L10.3 9.45l-7.72 7.72c-.78.78-.78 2.05 0 2.83L4 21.41c.39.39.9.59 1.41.59.51 0 1.02-.2 1.41-.59l7.78-7.78 2.81-2.81c.8-.78.8-2.07 0-2.86zM5.41 20L4 18.59l7.72-7.72 1.47 1.35L5.41 20z\"/>\n",
              "  </svg>\n",
              "      </button>\n",
              "      \n",
              "  <style>\n",
              "    .colab-df-container {\n",
              "      display:flex;\n",
              "      flex-wrap:wrap;\n",
              "      gap: 12px;\n",
              "    }\n",
              "\n",
              "    .colab-df-convert {\n",
              "      background-color: #E8F0FE;\n",
              "      border: none;\n",
              "      border-radius: 50%;\n",
              "      cursor: pointer;\n",
              "      display: none;\n",
              "      fill: #1967D2;\n",
              "      height: 32px;\n",
              "      padding: 0 0 0 0;\n",
              "      width: 32px;\n",
              "    }\n",
              "\n",
              "    .colab-df-convert:hover {\n",
              "      background-color: #E2EBFA;\n",
              "      box-shadow: 0px 1px 2px rgba(60, 64, 67, 0.3), 0px 1px 3px 1px rgba(60, 64, 67, 0.15);\n",
              "      fill: #174EA6;\n",
              "    }\n",
              "\n",
              "    [theme=dark] .colab-df-convert {\n",
              "      background-color: #3B4455;\n",
              "      fill: #D2E3FC;\n",
              "    }\n",
              "\n",
              "    [theme=dark] .colab-df-convert:hover {\n",
              "      background-color: #434B5C;\n",
              "      box-shadow: 0px 1px 3px 1px rgba(0, 0, 0, 0.15);\n",
              "      filter: drop-shadow(0px 1px 2px rgba(0, 0, 0, 0.3));\n",
              "      fill: #FFFFFF;\n",
              "    }\n",
              "  </style>\n",
              "\n",
              "      <script>\n",
              "        const buttonEl =\n",
              "          document.querySelector('#df-45f79738-98c0-4c2b-8510-131dc142a229 button.colab-df-convert');\n",
              "        buttonEl.style.display =\n",
              "          google.colab.kernel.accessAllowed ? 'block' : 'none';\n",
              "\n",
              "        async function convertToInteractive(key) {\n",
              "          const element = document.querySelector('#df-45f79738-98c0-4c2b-8510-131dc142a229');\n",
              "          const dataTable =\n",
              "            await google.colab.kernel.invokeFunction('convertToInteractive',\n",
              "                                                     [key], {});\n",
              "          if (!dataTable) return;\n",
              "\n",
              "          const docLinkHtml = 'Like what you see? Visit the ' +\n",
              "            '<a target=\"_blank\" href=https://colab.research.google.com/notebooks/data_table.ipynb>data table notebook</a>'\n",
              "            + ' to learn more about interactive tables.';\n",
              "          element.innerHTML = '';\n",
              "          dataTable['output_type'] = 'display_data';\n",
              "          await google.colab.output.renderOutput(dataTable, element);\n",
              "          const docLink = document.createElement('div');\n",
              "          docLink.innerHTML = docLinkHtml;\n",
              "          element.appendChild(docLink);\n",
              "        }\n",
              "      </script>\n",
              "    </div>\n",
              "  </div>\n",
              "  "
            ]
          },
          "metadata": {},
          "execution_count": 59
        }
      ],
      "source": [
        "# After removing duplicate records, I can now use UID as my primary key for indexing\n",
        "# set UID as my index\n",
        "df.set_index('UID',inplace = True)\n",
        "df.head()"
      ]
    },
    {
      "cell_type": "code",
      "execution_count": null,
      "metadata": {
        "tags": [],
        "id": "59gKOyxvY5Jq"
      },
      "outputs": [],
      "source": [
        "df.info()"
      ]
    },
    {
      "cell_type": "markdown",
      "metadata": {
        "id": "u5oCmnwRY5Jq"
      },
      "source": [
        "    3.\tGauge the fill rate of the variables and devise plans for missing value treatment. Please explain explicitly the reason for the treatment chosen for each variable. "
      ]
    },
    {
      "cell_type": "code",
      "execution_count": 61,
      "metadata": {
        "tags": [],
        "colab": {
          "base_uri": "https://localhost:8080/",
          "height": 0
        },
        "id": "MKn9FkY4Y5Jq",
        "outputId": "c12de11d-55c6-4f0e-db33-5f141fd29f64"
      },
      "outputs": [
        {
          "output_type": "execute_result",
          "data": {
            "text/plain": [
              "42434"
            ]
          },
          "metadata": {},
          "execution_count": 61
        }
      ],
      "source": [
        "df.isnull().sum().sum()"
      ]
    },
    {
      "cell_type": "code",
      "execution_count": 62,
      "metadata": {
        "colab": {
          "base_uri": "https://localhost:8080/",
          "height": 0
        },
        "id": "p_O8UDOgY5Jr",
        "outputId": "0e58e976-78d5-4c37-984e-f82c32f12176"
      },
      "outputs": [
        {
          "output_type": "execute_result",
          "data": {
            "text/plain": [
              "BLOCKID        27161\n",
              "SUMLEVEL           0\n",
              "COUNTYID           0\n",
              "STATEID            0\n",
              "state              0\n",
              "               ...  \n",
              "pct_own          207\n",
              "married          150\n",
              "married_snp      150\n",
              "separated        150\n",
              "divorced         150\n",
              "Length: 79, dtype: int64"
            ]
          },
          "metadata": {},
          "execution_count": 62
        }
      ],
      "source": [
        "df.isnull().sum()"
      ]
    },
    {
      "cell_type": "code",
      "execution_count": 63,
      "metadata": {
        "id": "1a2UYlfEY5Jr"
      },
      "outputs": [],
      "source": [
        "# Drop fields\n",
        "# drop BLOCKID since it has many nulls\n",
        "# drop SUMLEVEL since it is populated with a constant for all rows\n",
        "df.drop(columns=['BLOCKID', 'SUMLEVEL'], inplace = True)"
      ]
    },
    {
      "cell_type": "code",
      "execution_count": 64,
      "metadata": {
        "tags": [],
        "colab": {
          "base_uri": "https://localhost:8080/",
          "height": 0
        },
        "id": "IH7g3eiRY5Js",
        "outputId": "3bf6d862-fa65-406b-d5ce-0906fad3a00a"
      },
      "outputs": [
        {
          "output_type": "execute_result",
          "data": {
            "text/plain": [
              "COUNTYID         0\n",
              "STATEID          0\n",
              "state            0\n",
              "state_ab         0\n",
              "city             0\n",
              "              ... \n",
              "pct_own        207\n",
              "married        150\n",
              "married_snp    150\n",
              "separated      150\n",
              "divorced       150\n",
              "Length: 77, dtype: int64"
            ]
          },
          "metadata": {},
          "execution_count": 64
        }
      ],
      "source": [
        "df.isnull().sum()"
      ]
    },
    {
      "cell_type": "code",
      "execution_count": 65,
      "metadata": {
        "colab": {
          "base_uri": "https://localhost:8080/",
          "height": 0
        },
        "id": "OefXncxlY5Js",
        "outputId": "e3b73e08-0490-4b73-e227-1d52560d8162"
      },
      "outputs": [
        {
          "output_type": "execute_result",
          "data": {
            "text/plain": [
              "(26585, 77)"
            ]
          },
          "metadata": {},
          "execution_count": 65
        }
      ],
      "source": [
        "# either replace numeric values with mean or drop records if small amount of missing values\n",
        "df.dropna(inplace = True)\n",
        "df.shape"
      ]
    },
    {
      "cell_type": "code",
      "execution_count": 66,
      "metadata": {
        "colab": {
          "base_uri": "https://localhost:8080/",
          "height": 0
        },
        "id": "TLAyTvd0Y5Jt",
        "outputId": "3c827536-a9b9-4221-f41a-d7b7b08123cf"
      },
      "outputs": [
        {
          "output_type": "execute_result",
          "data": {
            "text/plain": [
              "0"
            ]
          },
          "metadata": {},
          "execution_count": 66
        }
      ],
      "source": [
        "df.isnull().sum().sum()"
      ]
    },
    {
      "cell_type": "code",
      "execution_count": 67,
      "metadata": {
        "id": "V5j6iiDDY5Jt"
      },
      "outputs": [],
      "source": [
        "# 576 Records that contained NAs dropped. This accounts to 2.1% of the data. This is OK."
      ]
    },
    {
      "cell_type": "markdown",
      "metadata": {
        "id": "lnZWWld7Y5Jt"
      },
      "source": [
        "### Exploratory Analysis"
      ]
    },
    {
      "cell_type": "markdown",
      "metadata": {
        "id": "LRJ7yB4YY5Ju"
      },
      "source": [
        "  4.\tUnderstanding homeowner costs are incredibly valuable because it is positively correlated to consumer spending which drives the economy through disposable income. Perform debt analysis. You may want to follow the following steps:\n",
        "  (my note:we want to explore locations where debt is not too high because that would mean less consumer spending;less homeowner costs means more consumer spending)"
      ]
    },
    {
      "cell_type": "markdown",
      "metadata": {
        "id": "QGThgg1OY5Ju"
      },
      "source": [
        "*  (a) Explore the top 2,500 locations where the percentage of households with a second mortgage is the highest and percent ownership is above 10%. Visualize using geo-map. You may keep the upper limit for the percent of households with a second mortgage to roughly 50%.\n"
      ]
    },
    {
      "cell_type": "code",
      "execution_count": 68,
      "metadata": {
        "colab": {
          "base_uri": "https://localhost:8080/",
          "height": 589
        },
        "id": "ARlsT-o3Y5Ju",
        "outputId": "a94d0c61-782c-4545-c1d3-652924a67deb"
      },
      "outputs": [
        {
          "output_type": "execute_result",
          "data": {
            "text/plain": [
              "        COUNTYID  STATEID         state state_ab         city  \\\n",
              "UID                                                             \n",
              "267822        53       36      New York       NY     Hamilton   \n",
              "246444       141       18       Indiana       IN   South Bend   \n",
              "245683        63       18       Indiana       IN     Danville   \n",
              "279653       127       72   Puerto Rico       PR     San Juan   \n",
              "247218       161       20        Kansas       KS    Manhattan   \n",
              "...          ...      ...           ...      ...          ...   \n",
              "279212        43       72   Puerto Rico       PR        Coamo   \n",
              "277856        91       42  Pennsylvania       PA    Blue Bell   \n",
              "233000        87        8      Colorado       CO      Weldona   \n",
              "287425       439       48         Texas       TX  Colleyville   \n",
              "265371         3       32        Nevada       NV    Las Vegas   \n",
              "\n",
              "                   place     type primary  zip_code  area_code  ...  \\\n",
              "UID                                                             ...   \n",
              "267822          Hamilton     City   tract     13346        315  ...   \n",
              "246444          Roseland     City   tract     46616        574  ...   \n",
              "245683          Danville     City   tract     46122        317  ...   \n",
              "279653          Guaynabo    Urban   tract       927        787  ...   \n",
              "247218    Manhattan City     City   tract     66502        785  ...   \n",
              "...                  ...      ...     ...       ...        ...  ...   \n",
              "279212             Coamo    Urban   tract       769        787  ...   \n",
              "277856         Blue Bell  Borough   tract     19422        215  ...   \n",
              "233000      Saddle Ridge     City   tract     80653        970  ...   \n",
              "287425  Colleyville City     Town   tract     76034        817  ...   \n",
              "265371          Paradise     City   tract     89123        702  ...   \n",
              "\n",
              "        female_age_mean  female_age_median  female_age_stdev  \\\n",
              "UID                                                            \n",
              "267822         44.48629           45.33333          22.51276   \n",
              "246444         36.48391           37.58333          23.43353   \n",
              "245683         42.15810           42.83333          23.94119   \n",
              "279653         47.77526           50.58333          24.32015   \n",
              "247218         24.17693           21.58333          11.10484   \n",
              "...                 ...                ...               ...   \n",
              "279212         42.73154           40.16667          24.79821   \n",
              "277856         38.21269           39.50000          21.84826   \n",
              "233000         43.40218           46.33333          23.40858   \n",
              "287425         39.25921           43.41667          21.36235   \n",
              "265371         34.45345           29.83333          19.77208   \n",
              "\n",
              "        female_age_sample_weight  female_age_samples  pct_own  married  \\\n",
              "UID                                                                      \n",
              "267822                 685.33845              2618.0  0.79046  0.57851   \n",
              "246444                 267.23367              1284.0  0.52483  0.34886   \n",
              "245683                 707.01963              3238.0  0.85331  0.64745   \n",
              "279653                 362.20193              1559.0  0.65037  0.47257   \n",
              "247218                1854.48652              3051.0  0.13046  0.12356   \n",
              "...                          ...                 ...      ...      ...   \n",
              "279212                 230.87898               938.0  0.60422  0.24603   \n",
              "277856                 496.20427              2039.0  0.68072  0.61127   \n",
              "233000                 316.52078              1364.0  0.78508  0.70451   \n",
              "287425                1373.94120              5815.0  0.93970  0.75503   \n",
              "265371                 526.73261              1911.0  0.27912  0.34426   \n",
              "\n",
              "        married_snp  separated  divorced  \n",
              "UID                                       \n",
              "267822      0.01882    0.01240   0.08770  \n",
              "246444      0.01426    0.01426   0.09030  \n",
              "245683      0.02830    0.01607   0.10657  \n",
              "279653      0.02021    0.02021   0.10106  \n",
              "247218      0.00000    0.00000   0.03109  \n",
              "...             ...        ...       ...  \n",
              "279212      0.03042    0.02249   0.14683  \n",
              "277856      0.05003    0.02473   0.04888  \n",
              "233000      0.01386    0.00520   0.07712  \n",
              "287425      0.02287    0.00915   0.05261  \n",
              "265371      0.03825    0.03005   0.13320  \n",
              "\n",
              "[26585 rows x 77 columns]"
            ],
            "text/html": [
              "\n",
              "  <div id=\"df-0d18f84e-af3f-450d-ac9e-9a49bfb41b16\">\n",
              "    <div class=\"colab-df-container\">\n",
              "      <div>\n",
              "<style scoped>\n",
              "    .dataframe tbody tr th:only-of-type {\n",
              "        vertical-align: middle;\n",
              "    }\n",
              "\n",
              "    .dataframe tbody tr th {\n",
              "        vertical-align: top;\n",
              "    }\n",
              "\n",
              "    .dataframe thead th {\n",
              "        text-align: right;\n",
              "    }\n",
              "</style>\n",
              "<table border=\"1\" class=\"dataframe\">\n",
              "  <thead>\n",
              "    <tr style=\"text-align: right;\">\n",
              "      <th></th>\n",
              "      <th>COUNTYID</th>\n",
              "      <th>STATEID</th>\n",
              "      <th>state</th>\n",
              "      <th>state_ab</th>\n",
              "      <th>city</th>\n",
              "      <th>place</th>\n",
              "      <th>type</th>\n",
              "      <th>primary</th>\n",
              "      <th>zip_code</th>\n",
              "      <th>area_code</th>\n",
              "      <th>...</th>\n",
              "      <th>female_age_mean</th>\n",
              "      <th>female_age_median</th>\n",
              "      <th>female_age_stdev</th>\n",
              "      <th>female_age_sample_weight</th>\n",
              "      <th>female_age_samples</th>\n",
              "      <th>pct_own</th>\n",
              "      <th>married</th>\n",
              "      <th>married_snp</th>\n",
              "      <th>separated</th>\n",
              "      <th>divorced</th>\n",
              "    </tr>\n",
              "    <tr>\n",
              "      <th>UID</th>\n",
              "      <th></th>\n",
              "      <th></th>\n",
              "      <th></th>\n",
              "      <th></th>\n",
              "      <th></th>\n",
              "      <th></th>\n",
              "      <th></th>\n",
              "      <th></th>\n",
              "      <th></th>\n",
              "      <th></th>\n",
              "      <th></th>\n",
              "      <th></th>\n",
              "      <th></th>\n",
              "      <th></th>\n",
              "      <th></th>\n",
              "      <th></th>\n",
              "      <th></th>\n",
              "      <th></th>\n",
              "      <th></th>\n",
              "      <th></th>\n",
              "      <th></th>\n",
              "    </tr>\n",
              "  </thead>\n",
              "  <tbody>\n",
              "    <tr>\n",
              "      <th>267822</th>\n",
              "      <td>53</td>\n",
              "      <td>36</td>\n",
              "      <td>New York</td>\n",
              "      <td>NY</td>\n",
              "      <td>Hamilton</td>\n",
              "      <td>Hamilton</td>\n",
              "      <td>City</td>\n",
              "      <td>tract</td>\n",
              "      <td>13346</td>\n",
              "      <td>315</td>\n",
              "      <td>...</td>\n",
              "      <td>44.48629</td>\n",
              "      <td>45.33333</td>\n",
              "      <td>22.51276</td>\n",
              "      <td>685.33845</td>\n",
              "      <td>2618.0</td>\n",
              "      <td>0.79046</td>\n",
              "      <td>0.57851</td>\n",
              "      <td>0.01882</td>\n",
              "      <td>0.01240</td>\n",
              "      <td>0.08770</td>\n",
              "    </tr>\n",
              "    <tr>\n",
              "      <th>246444</th>\n",
              "      <td>141</td>\n",
              "      <td>18</td>\n",
              "      <td>Indiana</td>\n",
              "      <td>IN</td>\n",
              "      <td>South Bend</td>\n",
              "      <td>Roseland</td>\n",
              "      <td>City</td>\n",
              "      <td>tract</td>\n",
              "      <td>46616</td>\n",
              "      <td>574</td>\n",
              "      <td>...</td>\n",
              "      <td>36.48391</td>\n",
              "      <td>37.58333</td>\n",
              "      <td>23.43353</td>\n",
              "      <td>267.23367</td>\n",
              "      <td>1284.0</td>\n",
              "      <td>0.52483</td>\n",
              "      <td>0.34886</td>\n",
              "      <td>0.01426</td>\n",
              "      <td>0.01426</td>\n",
              "      <td>0.09030</td>\n",
              "    </tr>\n",
              "    <tr>\n",
              "      <th>245683</th>\n",
              "      <td>63</td>\n",
              "      <td>18</td>\n",
              "      <td>Indiana</td>\n",
              "      <td>IN</td>\n",
              "      <td>Danville</td>\n",
              "      <td>Danville</td>\n",
              "      <td>City</td>\n",
              "      <td>tract</td>\n",
              "      <td>46122</td>\n",
              "      <td>317</td>\n",
              "      <td>...</td>\n",
              "      <td>42.15810</td>\n",
              "      <td>42.83333</td>\n",
              "      <td>23.94119</td>\n",
              "      <td>707.01963</td>\n",
              "      <td>3238.0</td>\n",
              "      <td>0.85331</td>\n",
              "      <td>0.64745</td>\n",
              "      <td>0.02830</td>\n",
              "      <td>0.01607</td>\n",
              "      <td>0.10657</td>\n",
              "    </tr>\n",
              "    <tr>\n",
              "      <th>279653</th>\n",
              "      <td>127</td>\n",
              "      <td>72</td>\n",
              "      <td>Puerto Rico</td>\n",
              "      <td>PR</td>\n",
              "      <td>San Juan</td>\n",
              "      <td>Guaynabo</td>\n",
              "      <td>Urban</td>\n",
              "      <td>tract</td>\n",
              "      <td>927</td>\n",
              "      <td>787</td>\n",
              "      <td>...</td>\n",
              "      <td>47.77526</td>\n",
              "      <td>50.58333</td>\n",
              "      <td>24.32015</td>\n",
              "      <td>362.20193</td>\n",
              "      <td>1559.0</td>\n",
              "      <td>0.65037</td>\n",
              "      <td>0.47257</td>\n",
              "      <td>0.02021</td>\n",
              "      <td>0.02021</td>\n",
              "      <td>0.10106</td>\n",
              "    </tr>\n",
              "    <tr>\n",
              "      <th>247218</th>\n",
              "      <td>161</td>\n",
              "      <td>20</td>\n",
              "      <td>Kansas</td>\n",
              "      <td>KS</td>\n",
              "      <td>Manhattan</td>\n",
              "      <td>Manhattan City</td>\n",
              "      <td>City</td>\n",
              "      <td>tract</td>\n",
              "      <td>66502</td>\n",
              "      <td>785</td>\n",
              "      <td>...</td>\n",
              "      <td>24.17693</td>\n",
              "      <td>21.58333</td>\n",
              "      <td>11.10484</td>\n",
              "      <td>1854.48652</td>\n",
              "      <td>3051.0</td>\n",
              "      <td>0.13046</td>\n",
              "      <td>0.12356</td>\n",
              "      <td>0.00000</td>\n",
              "      <td>0.00000</td>\n",
              "      <td>0.03109</td>\n",
              "    </tr>\n",
              "    <tr>\n",
              "      <th>...</th>\n",
              "      <td>...</td>\n",
              "      <td>...</td>\n",
              "      <td>...</td>\n",
              "      <td>...</td>\n",
              "      <td>...</td>\n",
              "      <td>...</td>\n",
              "      <td>...</td>\n",
              "      <td>...</td>\n",
              "      <td>...</td>\n",
              "      <td>...</td>\n",
              "      <td>...</td>\n",
              "      <td>...</td>\n",
              "      <td>...</td>\n",
              "      <td>...</td>\n",
              "      <td>...</td>\n",
              "      <td>...</td>\n",
              "      <td>...</td>\n",
              "      <td>...</td>\n",
              "      <td>...</td>\n",
              "      <td>...</td>\n",
              "      <td>...</td>\n",
              "    </tr>\n",
              "    <tr>\n",
              "      <th>279212</th>\n",
              "      <td>43</td>\n",
              "      <td>72</td>\n",
              "      <td>Puerto Rico</td>\n",
              "      <td>PR</td>\n",
              "      <td>Coamo</td>\n",
              "      <td>Coamo</td>\n",
              "      <td>Urban</td>\n",
              "      <td>tract</td>\n",
              "      <td>769</td>\n",
              "      <td>787</td>\n",
              "      <td>...</td>\n",
              "      <td>42.73154</td>\n",
              "      <td>40.16667</td>\n",
              "      <td>24.79821</td>\n",
              "      <td>230.87898</td>\n",
              "      <td>938.0</td>\n",
              "      <td>0.60422</td>\n",
              "      <td>0.24603</td>\n",
              "      <td>0.03042</td>\n",
              "      <td>0.02249</td>\n",
              "      <td>0.14683</td>\n",
              "    </tr>\n",
              "    <tr>\n",
              "      <th>277856</th>\n",
              "      <td>91</td>\n",
              "      <td>42</td>\n",
              "      <td>Pennsylvania</td>\n",
              "      <td>PA</td>\n",
              "      <td>Blue Bell</td>\n",
              "      <td>Blue Bell</td>\n",
              "      <td>Borough</td>\n",
              "      <td>tract</td>\n",
              "      <td>19422</td>\n",
              "      <td>215</td>\n",
              "      <td>...</td>\n",
              "      <td>38.21269</td>\n",
              "      <td>39.50000</td>\n",
              "      <td>21.84826</td>\n",
              "      <td>496.20427</td>\n",
              "      <td>2039.0</td>\n",
              "      <td>0.68072</td>\n",
              "      <td>0.61127</td>\n",
              "      <td>0.05003</td>\n",
              "      <td>0.02473</td>\n",
              "      <td>0.04888</td>\n",
              "    </tr>\n",
              "    <tr>\n",
              "      <th>233000</th>\n",
              "      <td>87</td>\n",
              "      <td>8</td>\n",
              "      <td>Colorado</td>\n",
              "      <td>CO</td>\n",
              "      <td>Weldona</td>\n",
              "      <td>Saddle Ridge</td>\n",
              "      <td>City</td>\n",
              "      <td>tract</td>\n",
              "      <td>80653</td>\n",
              "      <td>970</td>\n",
              "      <td>...</td>\n",
              "      <td>43.40218</td>\n",
              "      <td>46.33333</td>\n",
              "      <td>23.40858</td>\n",
              "      <td>316.52078</td>\n",
              "      <td>1364.0</td>\n",
              "      <td>0.78508</td>\n",
              "      <td>0.70451</td>\n",
              "      <td>0.01386</td>\n",
              "      <td>0.00520</td>\n",
              "      <td>0.07712</td>\n",
              "    </tr>\n",
              "    <tr>\n",
              "      <th>287425</th>\n",
              "      <td>439</td>\n",
              "      <td>48</td>\n",
              "      <td>Texas</td>\n",
              "      <td>TX</td>\n",
              "      <td>Colleyville</td>\n",
              "      <td>Colleyville City</td>\n",
              "      <td>Town</td>\n",
              "      <td>tract</td>\n",
              "      <td>76034</td>\n",
              "      <td>817</td>\n",
              "      <td>...</td>\n",
              "      <td>39.25921</td>\n",
              "      <td>43.41667</td>\n",
              "      <td>21.36235</td>\n",
              "      <td>1373.94120</td>\n",
              "      <td>5815.0</td>\n",
              "      <td>0.93970</td>\n",
              "      <td>0.75503</td>\n",
              "      <td>0.02287</td>\n",
              "      <td>0.00915</td>\n",
              "      <td>0.05261</td>\n",
              "    </tr>\n",
              "    <tr>\n",
              "      <th>265371</th>\n",
              "      <td>3</td>\n",
              "      <td>32</td>\n",
              "      <td>Nevada</td>\n",
              "      <td>NV</td>\n",
              "      <td>Las Vegas</td>\n",
              "      <td>Paradise</td>\n",
              "      <td>City</td>\n",
              "      <td>tract</td>\n",
              "      <td>89123</td>\n",
              "      <td>702</td>\n",
              "      <td>...</td>\n",
              "      <td>34.45345</td>\n",
              "      <td>29.83333</td>\n",
              "      <td>19.77208</td>\n",
              "      <td>526.73261</td>\n",
              "      <td>1911.0</td>\n",
              "      <td>0.27912</td>\n",
              "      <td>0.34426</td>\n",
              "      <td>0.03825</td>\n",
              "      <td>0.03005</td>\n",
              "      <td>0.13320</td>\n",
              "    </tr>\n",
              "  </tbody>\n",
              "</table>\n",
              "<p>26585 rows × 77 columns</p>\n",
              "</div>\n",
              "      <button class=\"colab-df-convert\" onclick=\"convertToInteractive('df-0d18f84e-af3f-450d-ac9e-9a49bfb41b16')\"\n",
              "              title=\"Convert this dataframe to an interactive table.\"\n",
              "              style=\"display:none;\">\n",
              "        \n",
              "  <svg xmlns=\"http://www.w3.org/2000/svg\" height=\"24px\"viewBox=\"0 0 24 24\"\n",
              "       width=\"24px\">\n",
              "    <path d=\"M0 0h24v24H0V0z\" fill=\"none\"/>\n",
              "    <path d=\"M18.56 5.44l.94 2.06.94-2.06 2.06-.94-2.06-.94-.94-2.06-.94 2.06-2.06.94zm-11 1L8.5 8.5l.94-2.06 2.06-.94-2.06-.94L8.5 2.5l-.94 2.06-2.06.94zm10 10l.94 2.06.94-2.06 2.06-.94-2.06-.94-.94-2.06-.94 2.06-2.06.94z\"/><path d=\"M17.41 7.96l-1.37-1.37c-.4-.4-.92-.59-1.43-.59-.52 0-1.04.2-1.43.59L10.3 9.45l-7.72 7.72c-.78.78-.78 2.05 0 2.83L4 21.41c.39.39.9.59 1.41.59.51 0 1.02-.2 1.41-.59l7.78-7.78 2.81-2.81c.8-.78.8-2.07 0-2.86zM5.41 20L4 18.59l7.72-7.72 1.47 1.35L5.41 20z\"/>\n",
              "  </svg>\n",
              "      </button>\n",
              "      \n",
              "  <style>\n",
              "    .colab-df-container {\n",
              "      display:flex;\n",
              "      flex-wrap:wrap;\n",
              "      gap: 12px;\n",
              "    }\n",
              "\n",
              "    .colab-df-convert {\n",
              "      background-color: #E8F0FE;\n",
              "      border: none;\n",
              "      border-radius: 50%;\n",
              "      cursor: pointer;\n",
              "      display: none;\n",
              "      fill: #1967D2;\n",
              "      height: 32px;\n",
              "      padding: 0 0 0 0;\n",
              "      width: 32px;\n",
              "    }\n",
              "\n",
              "    .colab-df-convert:hover {\n",
              "      background-color: #E2EBFA;\n",
              "      box-shadow: 0px 1px 2px rgba(60, 64, 67, 0.3), 0px 1px 3px 1px rgba(60, 64, 67, 0.15);\n",
              "      fill: #174EA6;\n",
              "    }\n",
              "\n",
              "    [theme=dark] .colab-df-convert {\n",
              "      background-color: #3B4455;\n",
              "      fill: #D2E3FC;\n",
              "    }\n",
              "\n",
              "    [theme=dark] .colab-df-convert:hover {\n",
              "      background-color: #434B5C;\n",
              "      box-shadow: 0px 1px 3px 1px rgba(0, 0, 0, 0.15);\n",
              "      filter: drop-shadow(0px 1px 2px rgba(0, 0, 0, 0.3));\n",
              "      fill: #FFFFFF;\n",
              "    }\n",
              "  </style>\n",
              "\n",
              "      <script>\n",
              "        const buttonEl =\n",
              "          document.querySelector('#df-0d18f84e-af3f-450d-ac9e-9a49bfb41b16 button.colab-df-convert');\n",
              "        buttonEl.style.display =\n",
              "          google.colab.kernel.accessAllowed ? 'block' : 'none';\n",
              "\n",
              "        async function convertToInteractive(key) {\n",
              "          const element = document.querySelector('#df-0d18f84e-af3f-450d-ac9e-9a49bfb41b16');\n",
              "          const dataTable =\n",
              "            await google.colab.kernel.invokeFunction('convertToInteractive',\n",
              "                                                     [key], {});\n",
              "          if (!dataTable) return;\n",
              "\n",
              "          const docLinkHtml = 'Like what you see? Visit the ' +\n",
              "            '<a target=\"_blank\" href=https://colab.research.google.com/notebooks/data_table.ipynb>data table notebook</a>'\n",
              "            + ' to learn more about interactive tables.';\n",
              "          element.innerHTML = '';\n",
              "          dataTable['output_type'] = 'display_data';\n",
              "          await google.colab.output.renderOutput(dataTable, element);\n",
              "          const docLink = document.createElement('div');\n",
              "          docLink.innerHTML = docLinkHtml;\n",
              "          element.appendChild(docLink);\n",
              "        }\n",
              "      </script>\n",
              "    </div>\n",
              "  </div>\n",
              "  "
            ]
          },
          "metadata": {},
          "execution_count": 68
        }
      ],
      "source": [
        "df"
      ]
    },
    {
      "cell_type": "code",
      "execution_count": 69,
      "metadata": {
        "id": "XQdJqKzbY5Jv"
      },
      "outputs": [],
      "source": [
        "df2 = df[['place','pct_own','second_mortgage','lat','lng']][(df['pct_own']>0.1)&(df['second_mortgage']<=0.5)]"
      ]
    },
    {
      "cell_type": "code",
      "execution_count": 70,
      "metadata": {
        "id": "POtHBMx6Y5Jv"
      },
      "outputs": [],
      "source": [
        "df3_top_2500_locations=df2.sort_values(by='second_mortgage', ascending = False).head(2500)"
      ]
    },
    {
      "cell_type": "code",
      "execution_count": 71,
      "metadata": {
        "colab": {
          "base_uri": "https://localhost:8080/",
          "height": 455
        },
        "id": "7H0bm7SQY5Jv",
        "outputId": "25ecaeb2-b367-4110-9e6e-94b57c00efc3"
      },
      "outputs": [
        {
          "output_type": "execute_result",
          "data": {
            "text/plain": [
              "                  place  pct_own  second_mortgage        lat         lng\n",
              "UID                                                                     \n",
              "289712        Farmville  0.62069          0.50000  37.297357  -78.396452\n",
              "251185   Worcester City  0.20247          0.43363  42.254262  -71.800347\n",
              "269323     Harbor Hills  0.15618          0.31818  40.751809  -73.853582\n",
              "251324      Glen Burnie  0.22380          0.30212  39.127273  -76.635265\n",
              "235788  Egypt Lake-leto  0.11618          0.28972  28.029063  -82.495395\n",
              "...                 ...      ...              ...        ...         ...\n",
              "230480     Manteca City  0.67116          0.06814  37.732143 -121.242902\n",
              "236853       Cutler Bay  0.50519          0.06813  25.550391  -80.347791\n",
              "287458      Keller City  0.97987          0.06812  32.913822  -97.204310\n",
              "271050      Jacksonburg  0.92888          0.06812  39.556756  -84.443252\n",
              "262770     Mays Landing  0.70642          0.06810  39.432879  -74.686137\n",
              "\n",
              "[2500 rows x 5 columns]"
            ],
            "text/html": [
              "\n",
              "  <div id=\"df-a73542bb-18e1-4dcd-8332-d6001d52f413\">\n",
              "    <div class=\"colab-df-container\">\n",
              "      <div>\n",
              "<style scoped>\n",
              "    .dataframe tbody tr th:only-of-type {\n",
              "        vertical-align: middle;\n",
              "    }\n",
              "\n",
              "    .dataframe tbody tr th {\n",
              "        vertical-align: top;\n",
              "    }\n",
              "\n",
              "    .dataframe thead th {\n",
              "        text-align: right;\n",
              "    }\n",
              "</style>\n",
              "<table border=\"1\" class=\"dataframe\">\n",
              "  <thead>\n",
              "    <tr style=\"text-align: right;\">\n",
              "      <th></th>\n",
              "      <th>place</th>\n",
              "      <th>pct_own</th>\n",
              "      <th>second_mortgage</th>\n",
              "      <th>lat</th>\n",
              "      <th>lng</th>\n",
              "    </tr>\n",
              "    <tr>\n",
              "      <th>UID</th>\n",
              "      <th></th>\n",
              "      <th></th>\n",
              "      <th></th>\n",
              "      <th></th>\n",
              "      <th></th>\n",
              "    </tr>\n",
              "  </thead>\n",
              "  <tbody>\n",
              "    <tr>\n",
              "      <th>289712</th>\n",
              "      <td>Farmville</td>\n",
              "      <td>0.62069</td>\n",
              "      <td>0.50000</td>\n",
              "      <td>37.297357</td>\n",
              "      <td>-78.396452</td>\n",
              "    </tr>\n",
              "    <tr>\n",
              "      <th>251185</th>\n",
              "      <td>Worcester City</td>\n",
              "      <td>0.20247</td>\n",
              "      <td>0.43363</td>\n",
              "      <td>42.254262</td>\n",
              "      <td>-71.800347</td>\n",
              "    </tr>\n",
              "    <tr>\n",
              "      <th>269323</th>\n",
              "      <td>Harbor Hills</td>\n",
              "      <td>0.15618</td>\n",
              "      <td>0.31818</td>\n",
              "      <td>40.751809</td>\n",
              "      <td>-73.853582</td>\n",
              "    </tr>\n",
              "    <tr>\n",
              "      <th>251324</th>\n",
              "      <td>Glen Burnie</td>\n",
              "      <td>0.22380</td>\n",
              "      <td>0.30212</td>\n",
              "      <td>39.127273</td>\n",
              "      <td>-76.635265</td>\n",
              "    </tr>\n",
              "    <tr>\n",
              "      <th>235788</th>\n",
              "      <td>Egypt Lake-leto</td>\n",
              "      <td>0.11618</td>\n",
              "      <td>0.28972</td>\n",
              "      <td>28.029063</td>\n",
              "      <td>-82.495395</td>\n",
              "    </tr>\n",
              "    <tr>\n",
              "      <th>...</th>\n",
              "      <td>...</td>\n",
              "      <td>...</td>\n",
              "      <td>...</td>\n",
              "      <td>...</td>\n",
              "      <td>...</td>\n",
              "    </tr>\n",
              "    <tr>\n",
              "      <th>230480</th>\n",
              "      <td>Manteca City</td>\n",
              "      <td>0.67116</td>\n",
              "      <td>0.06814</td>\n",
              "      <td>37.732143</td>\n",
              "      <td>-121.242902</td>\n",
              "    </tr>\n",
              "    <tr>\n",
              "      <th>236853</th>\n",
              "      <td>Cutler Bay</td>\n",
              "      <td>0.50519</td>\n",
              "      <td>0.06813</td>\n",
              "      <td>25.550391</td>\n",
              "      <td>-80.347791</td>\n",
              "    </tr>\n",
              "    <tr>\n",
              "      <th>287458</th>\n",
              "      <td>Keller City</td>\n",
              "      <td>0.97987</td>\n",
              "      <td>0.06812</td>\n",
              "      <td>32.913822</td>\n",
              "      <td>-97.204310</td>\n",
              "    </tr>\n",
              "    <tr>\n",
              "      <th>271050</th>\n",
              "      <td>Jacksonburg</td>\n",
              "      <td>0.92888</td>\n",
              "      <td>0.06812</td>\n",
              "      <td>39.556756</td>\n",
              "      <td>-84.443252</td>\n",
              "    </tr>\n",
              "    <tr>\n",
              "      <th>262770</th>\n",
              "      <td>Mays Landing</td>\n",
              "      <td>0.70642</td>\n",
              "      <td>0.06810</td>\n",
              "      <td>39.432879</td>\n",
              "      <td>-74.686137</td>\n",
              "    </tr>\n",
              "  </tbody>\n",
              "</table>\n",
              "<p>2500 rows × 5 columns</p>\n",
              "</div>\n",
              "      <button class=\"colab-df-convert\" onclick=\"convertToInteractive('df-a73542bb-18e1-4dcd-8332-d6001d52f413')\"\n",
              "              title=\"Convert this dataframe to an interactive table.\"\n",
              "              style=\"display:none;\">\n",
              "        \n",
              "  <svg xmlns=\"http://www.w3.org/2000/svg\" height=\"24px\"viewBox=\"0 0 24 24\"\n",
              "       width=\"24px\">\n",
              "    <path d=\"M0 0h24v24H0V0z\" fill=\"none\"/>\n",
              "    <path d=\"M18.56 5.44l.94 2.06.94-2.06 2.06-.94-2.06-.94-.94-2.06-.94 2.06-2.06.94zm-11 1L8.5 8.5l.94-2.06 2.06-.94-2.06-.94L8.5 2.5l-.94 2.06-2.06.94zm10 10l.94 2.06.94-2.06 2.06-.94-2.06-.94-.94-2.06-.94 2.06-2.06.94z\"/><path d=\"M17.41 7.96l-1.37-1.37c-.4-.4-.92-.59-1.43-.59-.52 0-1.04.2-1.43.59L10.3 9.45l-7.72 7.72c-.78.78-.78 2.05 0 2.83L4 21.41c.39.39.9.59 1.41.59.51 0 1.02-.2 1.41-.59l7.78-7.78 2.81-2.81c.8-.78.8-2.07 0-2.86zM5.41 20L4 18.59l7.72-7.72 1.47 1.35L5.41 20z\"/>\n",
              "  </svg>\n",
              "      </button>\n",
              "      \n",
              "  <style>\n",
              "    .colab-df-container {\n",
              "      display:flex;\n",
              "      flex-wrap:wrap;\n",
              "      gap: 12px;\n",
              "    }\n",
              "\n",
              "    .colab-df-convert {\n",
              "      background-color: #E8F0FE;\n",
              "      border: none;\n",
              "      border-radius: 50%;\n",
              "      cursor: pointer;\n",
              "      display: none;\n",
              "      fill: #1967D2;\n",
              "      height: 32px;\n",
              "      padding: 0 0 0 0;\n",
              "      width: 32px;\n",
              "    }\n",
              "\n",
              "    .colab-df-convert:hover {\n",
              "      background-color: #E2EBFA;\n",
              "      box-shadow: 0px 1px 2px rgba(60, 64, 67, 0.3), 0px 1px 3px 1px rgba(60, 64, 67, 0.15);\n",
              "      fill: #174EA6;\n",
              "    }\n",
              "\n",
              "    [theme=dark] .colab-df-convert {\n",
              "      background-color: #3B4455;\n",
              "      fill: #D2E3FC;\n",
              "    }\n",
              "\n",
              "    [theme=dark] .colab-df-convert:hover {\n",
              "      background-color: #434B5C;\n",
              "      box-shadow: 0px 1px 3px 1px rgba(0, 0, 0, 0.15);\n",
              "      filter: drop-shadow(0px 1px 2px rgba(0, 0, 0, 0.3));\n",
              "      fill: #FFFFFF;\n",
              "    }\n",
              "  </style>\n",
              "\n",
              "      <script>\n",
              "        const buttonEl =\n",
              "          document.querySelector('#df-a73542bb-18e1-4dcd-8332-d6001d52f413 button.colab-df-convert');\n",
              "        buttonEl.style.display =\n",
              "          google.colab.kernel.accessAllowed ? 'block' : 'none';\n",
              "\n",
              "        async function convertToInteractive(key) {\n",
              "          const element = document.querySelector('#df-a73542bb-18e1-4dcd-8332-d6001d52f413');\n",
              "          const dataTable =\n",
              "            await google.colab.kernel.invokeFunction('convertToInteractive',\n",
              "                                                     [key], {});\n",
              "          if (!dataTable) return;\n",
              "\n",
              "          const docLinkHtml = 'Like what you see? Visit the ' +\n",
              "            '<a target=\"_blank\" href=https://colab.research.google.com/notebooks/data_table.ipynb>data table notebook</a>'\n",
              "            + ' to learn more about interactive tables.';\n",
              "          element.innerHTML = '';\n",
              "          dataTable['output_type'] = 'display_data';\n",
              "          await google.colab.output.renderOutput(dataTable, element);\n",
              "          const docLink = document.createElement('div');\n",
              "          docLink.innerHTML = docLinkHtml;\n",
              "          element.appendChild(docLink);\n",
              "        }\n",
              "      </script>\n",
              "    </div>\n",
              "  </div>\n",
              "  "
            ]
          },
          "metadata": {},
          "execution_count": 71
        }
      ],
      "source": [
        "df3_top_2500_locations"
      ]
    },
    {
      "cell_type": "code",
      "execution_count": 72,
      "metadata": {
        "id": "Nky4gOg0Y5Jv"
      },
      "outputs": [],
      "source": [
        "import plotly.graph_objects as go"
      ]
    },
    {
      "cell_type": "code",
      "execution_count": 73,
      "metadata": {
        "id": "25p6VvrOY5Jv"
      },
      "outputs": [],
      "source": [
        "#export for Tableau geo map\n",
        "df3_top_2500_locations.to_excel(\"df3_top_2500_locations.xlsx\",sheet_name='top_2500')  "
      ]
    },
    {
      "cell_type": "code",
      "execution_count": 74,
      "metadata": {
        "id": "VSvLDO7EY5Jv"
      },
      "outputs": [],
      "source": [
        "fig = go.Figure(data = go.Scattergeo(lat=df3_top_2500_locations['lat'], lon=df3_top_2500_locations['lng'], text=df3_top_2500_locations['place']), \n",
        "                layout = dict(title = 'Top 2,500 locations with the highest second mortgages', geo = dict(scope = 'usa')))\n"
      ]
    },
    {
      "cell_type": "code",
      "execution_count": 75,
      "metadata": {
        "colab": {
          "base_uri": "https://localhost:8080/",
          "height": 542
        },
        "id": "xENOvTchY5Jv",
        "outputId": "a0daf06b-81e6-4f15-ff00-9b37eca8e4ba"
      },
      "outputs": [
        {
          "output_type": "display_data",
          "data": {
            "text/html": [
              "<html>\n",
              "<head><meta charset=\"utf-8\" /></head>\n",
              "<body>\n",
              "    <div>            <script src=\"https://cdnjs.cloudflare.com/ajax/libs/mathjax/2.7.5/MathJax.js?config=TeX-AMS-MML_SVG\"></script><script type=\"text/javascript\">if (window.MathJax) {MathJax.Hub.Config({SVG: {font: \"STIX-Web\"}});}</script>                <script type=\"text/javascript\">window.PlotlyConfig = {MathJaxConfig: 'local'};</script>\n",
              "        <script src=\"https://cdn.plot.ly/plotly-2.8.3.min.js\"></script>                <div id=\"59062bf0-f36a-4c5d-b581-aa44306c90e1\" class=\"plotly-graph-div\" style=\"height:525px; width:100%;\"></div>            <script type=\"text/javascript\">                                    window.PLOTLYENV=window.PLOTLYENV || {};                                    if (document.getElementById(\"59062bf0-f36a-4c5d-b581-aa44306c90e1\")) {                    Plotly.newPlot(                        \"59062bf0-f36a-4c5d-b581-aa44306c90e1\",                        [{\"lat\":[37.2973574,42.2542618,40.7518089,39.1272728,28.0290633,41.9672885,41.9066403,43.0670633,34.0931841,37.656229,39.1213157,32.8003476,38.8191714,39.5094376,38.2947649,41.5270157,42.3971272,38.2470347,38.8499425,41.7677281,41.783468,34.1039593,45.4454048,33.9555895,28.5332632,33.7249036,32.2955885,43.9728571,47.2401479,38.971338,34.36362,33.5651234,39.6599172,28.0230563,26.0073086,39.7756533,40.9199667,39.859951,41.7454851,40.6943396,37.8326423,38.8328939,41.7235155,35.0921183,33.8796686,39.3792483,33.9895557,35.9901296,32.6599903,40.6406399,39.1524277,38.6614448,33.9247081,42.7289757,39.9527732,37.3562105,36.1624293,28.5204988,38.5916036,40.0668653,47.6199882,33.7088571,34.0432749,40.7821699,45.6548641,39.1355543,34.2536788,34.1494929,41.1131233,38.8879464,38.7222559,36.3189796,38.832772,40.5942315,37.8046754,38.6037792,40.385902,37.0503105,34.2804584,40.1233788,45.5188106,40.8897429,41.6639299,41.7052478,41.7415615,45.527539,42.7224295,41.7902101,37.7741755,35.9982089,45.4992015,34.0122688,40.7955828,41.7617135,38.8463903,39.6754541,41.8085114,41.2591195,41.835608,39.1886045,33.1732234,45.1348548,41.7944972,33.7789729,37.7344919,33.7452198,45.0360622,38.7240552,39.0901783,37.2980229,32.7840087,33.8019004,30.3465716,40.4253305,33.9546932,41.987226,35.5325822,43.563675,47.2287315,38.9456938,41.1706268,34.9607591,38.8688572,34.2409046,37.7109995,36.8444256,39.3785915,39.9174144,35.281548,36.0446391,34.0979077,38.1295441,33.7247482,25.8642626,33.3305333,38.5419331,38.2665083,33.0755145,44.9767007,34.2247342,34.2640589,40.4427091,32.7898054,41.6219893,33.5876988,41.5449634,40.6791764,42.0227059,35.7849873,42.0298213,42.6823089,33.7538839,40.8384785,38.0127453,33.7069847,32.4768764,34.0685435,40.7556398,39.0087272,36.7873267,25.606452,40.6701918,40.4727644,47.8581251,33.6278555,36.2541516,38.8313107,47.399399,40.7842611,33.6518163,33.7548958,34.8631405,33.1732652,33.8647762,27.9118994,37.9206017,45.5454185,33.771918,39.0666053,39.0912204,35.9949426,38.8396609,40.0416936,36.8973185,29.9351417,30.1702766,39.5374034,34.2046283,40.2997497,38.910779,32.6533559,36.1633112,45.4851663,25.8879442,44.7834015,40.2849947,34.268934,30.4228579,42.3171635,38.9002,39.7382028,38.9479653,41.8629246,39.1318665,33.1276339,39.8986779,33.2986622,40.6893276,34.0916975,38.7527742,26.0038057,35.3029184,41.3271237,28.0994325,40.7728319,42.3840376,40.6637279,41.4685324,37.6970765,39.543137,29.7272676,41.813806,40.6816514,40.6024871,45.0095917,40.7866906,39.700231,41.9350552,33.9001056,41.9015665,37.650262,39.4024657,37.4633117,47.1971869,33.6779027,33.905117,25.7824844,38.8610018,41.8103984,39.4112636,39.648829,45.204478,35.3211017,37.3702336,30.167655,34.2026924,38.8260946,38.802405,32.6663314,41.971339,40.6825052,39.8848582,33.6053327,44.9951749,46.617046,33.5863884,34.1009548,38.2490976,44.8654852,34.224257,39.8781135,42.4948823,35.0613382,39.8072621,41.8008741,39.9394959,38.7344628,40.7437159,38.8494179,40.6272716,45.5403004,43.0602744,36.5088616,33.3837635,33.6980366,34.9324506,47.1057867,38.0473283,34.1466652,40.7650072,39.6282932,43.0951653,32.867998,43.1156863,33.9745825,34.0155355,34.0456314,40.1083208,34.0571243,33.9747696,38.8768597,42.2774512,32.8129785,41.0810691,39.1753881,40.0076218,39.5503765,40.7322124,33.9420596,40.1230198,41.8930097,36.8200899,38.7250775,41.6714456,42.003403,39.4891874,34.098786,38.0264084,35.386741,29.8962526,44.8533988,35.6464434,33.7205506,41.4496925,38.8031495,31.5847415,35.2460806,38.807731,39.5192622,41.7064973,39.9887598,39.9087252,41.8750221,34.2135692,34.0549939,42.3689514,43.1261759,39.920151,33.8406153,41.9753473,39.0957168,34.9971468,34.1305047,43.1668136,38.7700808,40.3496789,41.6948175,38.8740235,39.6815911,39.7466315,29.9325344,34.0848049,29.9230297,42.4375474,34.0382308,44.9709006,40.7597713,46.887285,34.1490512,41.7985268,41.6122427,32.6397559,33.3558253,41.1916789,40.462813,41.5160928,33.9933787,36.8091978,40.6915009,38.2377686,26.7219645,39.2364659,40.9058091,39.0964218,33.4884762,41.0991396,41.7832811,37.8020757,39.6993931,34.1510732,36.7882746,39.9666126,41.7268625,42.1687441,30.2119403,40.0882996,30.2027914,40.7892525,33.9345319,38.333362,37.1575735,33.4980444,33.608917,39.6280414,41.7979687,38.9041579,40.7327308,41.8174455,33.4496873,47.0718234,41.2178042,40.4914328,39.9352608,30.1643889,34.1104058,42.5371082,40.7595706,34.0490207,39.6491238,42.2914125,36.8116152,40.3450536,40.19591,33.063899,41.9103131,34.1176605,30.1745516,42.0783429,37.4123848,28.9341355,44.0411086,41.5255068,40.6616591,45.4973096,42.6501923,42.4400021,41.4739462,38.84267,33.1075966,33.9851297,47.5141844,40.6477544,40.4689825,30.4171849,34.2948569,25.8432689,41.6401036,37.8179738,26.2149825,33.719217,36.7793349,45.4847811,30.4250462,42.6305381,33.7165767,42.426959,33.9563491,37.8972299,32.8453153,38.4684534,34.1192092,40.6056315,42.9950523,34.1616765,30.7766992,38.6208833,42.26176,33.4896483,39.3700595,34.1351285,38.9258753,39.2777485,25.7813636,33.481257,30.6919512,33.9388223,39.7206692,47.2455764,34.2670388,41.8141492,40.6530866,40.1958838,42.2309589,33.7805453,34.214735,38.8327451,34.1471798,64.8512872,43.0692654,41.5672397,35.1789593,41.0534461,38.2689461,33.9490727,39.6023092,33.1494891,38.8238977,33.559949,38.5665602,41.6997625,37.9613437,39.6441184,39.8188236,41.6815612,28.8082536,43.1010409,32.9525906,39.1334567,34.2271384,35.1740721,39.024978,39.6608049,33.8381856,34.042074,39.6792879,42.6376032,32.8998834,39.9059339,28.4801373,43.5978121,32.963961,37.7909447,34.197228,38.2950726,36.8048512,35.2982168,37.4765888,44.772053,38.9418287,38.6132902,37.2976945,40.6628135,38.8553718,40.5073137,40.7477294,34.1277465,41.7112651,38.8635835,37.7681553,38.8574905,34.2727212,39.5268478,36.152119,34.151167,38.2286684,35.9859917,41.6939604,45.5256566,33.9502684,38.7912314,34.5024489,33.7881302,39.6894807,37.2293402,42.6151903,39.4899314,34.027317,38.9518921,38.9397715,33.1458708,39.5191072,40.4724273,38.5813384,39.5040809,32.3480787,41.3968678,41.8003813,38.6691098,47.6476102,38.9542721,38.6506869,34.0730055,39.1873565,37.0978813,33.9274077,32.6602275,40.4429651,41.7550528,41.9208329,40.6853212,25.8535299,41.5530919,39.7806351,29.8017669,43.0707915,33.6616059,34.1873507,39.9786014,42.3353908,32.9342794,33.662021,33.3567902,41.8049921,32.9471739,25.8949228,34.1124237,42.6275005,32.7392472,44.955008,33.8282532,39.1434998,41.5158696,28.894274,33.8165383,32.1985657,47.4631901,38.8621875,47.4544039,34.2481946,33.9852598,42.7152476,32.8778369,41.702582,38.5285812,39.2905908,39.7610973,34.1622937,28.1030635,25.6091202,37.7096379,33.7749675,39.9400454,41.420558,39.3426876,39.6622275,36.7904775,29.9889065,34.6173553,34.2348828,45.6692734,33.7249711,38.3222432,42.4321158,41.2122078,36.871517,38.7571595,42.51489,42.6214358,40.7600215,28.0526953,33.8973552,41.8173978,33.669898,38.9482799,33.9565607,26.000667,36.0982748,35.3359425,41.722398,46.9976109,38.8922212,37.7021372,40.685634,39.9911848,33.7169277,40.6287701,41.029017,33.9582997,40.6840329,41.8634168,33.719647,33.8897023,40.3051285,38.0930935,34.4181213,32.0717555,39.7861611,25.6762354,47.4089183,41.1173174,34.4151371,40.6684184,33.2834644,39.6982253,34.1812289,44.6652991,40.4397432,38.2204068,39.9123676,26.8490059,34.0851726,30.3022282,43.7710901,32.8294344,45.0477118,33.9180879,37.7801283,39.7729915,39.6911552,38.8128802,34.0080154,40.8729177,38.6673898,20.9016733,38.2114861,26.2262486,44.9241595,34.1522194,40.9303636,28.5031416,40.7159549,38.044548,47.0793129,33.9237216,40.4207745,33.9446554,34.0641759,39.134305,37.5797282,40.6489784,43.1655774,32.5005516,32.4714423,38.8323139,43.5536497,34.0395089,38.3691595,32.6237395,36.6765137,34.0185256,37.0040452,38.1104411,41.0376661,42.6369317,33.4881646,30.6868736,39.0690044,39.3845572,40.8456029,43.9577761,21.3367753,37.8837503,38.979789,38.8959945,34.1049693,38.9454826,41.2731308,42.678254,38.9307514,33.1667498,38.8520844,41.8040062,40.2031811,37.6029399,39.4259986,42.6296698,34.1408746,41.7347514,33.966479,27.9782384,33.7355106,32.8819793,40.7417853,40.6600109,33.9419438,33.6655719,33.425336,35.8467196,38.8054848,41.6616948,40.8006768,32.8524426,39.817318,40.5145087,41.9123508,28.5401108,45.0324121,40.779776,39.7049882,33.2903551,32.7174916,39.962255,38.9665231,47.5541363,39.6494961,39.7960661,43.0264331,35.252766,33.479534,35.0579882,41.9645567,36.867341,39.1247204,37.402805,41.0582597,34.138221,41.7839867,42.3229604,40.7000316,41.2413836,42.015721,33.3570982,38.9254351,41.5203551,30.029978,43.0213742,40.6937625,38.7687048,40.0934711,25.9767983,38.6838883,39.6851884,41.6022029,31.9729543,27.9313839,39.4388686,39.9604441,39.6605879,40.8779155,38.9630071,39.3851197,39.7521405,41.0726633,26.2653502,21.3493646,39.7329148,26.5802839,29.8263346,39.9085157,38.8455898,39.661811,44.9590767,26.1375315,30.3209312,39.9068546,33.1059882,32.9832119,38.059097,41.7681721,35.1907765,34.4638851,41.6739589,45.0988606,35.2100741,36.0933947,27.915849,35.3179748,30.380419,42.1790521,36.0750164,33.4602133,38.1423442,33.5207847,33.8893924,43.704473,34.1974433,47.9189705,33.9726959,32.054159,39.6862598,41.108643,40.7128119,33.5049362,41.27938,47.2984272,47.7080925,32.4462823,38.6718268,37.751201,36.8448035,33.6940064,42.2375306,37.3033363,34.9748447,27.929778,41.1325888,45.5281169,41.7336229,38.6484879,36.3058649,41.7762401,32.8479042,45.0391293,41.4111051,41.445095,40.6948293,35.7909911,33.7788335,33.7808851,32.5415573,34.1828906,32.8002103,44.950155,33.5719474,39.6158462,36.1627441,38.2374372,36.1077798,37.2837456,34.1396027,42.1053603,38.4564269,40.8699762,26.2411125,38.4611543,25.8224276,39.9041936,45.0175949,35.7489279,39.9253879,34.0555602,42.6447316,25.9290515,36.0925869,40.2681188,43.0674802,42.2051878,38.9536716,30.045792,28.0376886,33.9688013,37.9015621,32.949374,33.731861,40.7841344,32.318844,34.2046643,45.7802151,39.7365218,38.0176872,33.9486636,40.8625283,41.5924476,42.5898923,33.7039886,38.7681302,39.5484257,39.7414549,45.2408953,33.4683712,39.0156284,33.1965648,42.0005258,42.6124793,41.4207957,34.0018666,40.3075844,35.4082071,34.0820627,41.4729942,44.9537451,41.7204166,47.8899399,41.3889154,20.8018894,40.825954,40.0504108,40.8374159,34.5311782,42.4059665,34.7538634,36.2769538,36.8195888,34.411561,39.6459116,30.7634615,33.8984704,38.7023418,36.3910354,38.2684638,39.8287576,40.3845931,43.0729164,42.6562242,38.1956736,40.7323708,33.976854,33.0880785,45.4306502,44.9703403,39.6295943,35.3412641,39.4500949,28.7937248,36.8105831,34.1001324,40.280327,37.9608135,30.4503149,45.5039692,41.8135545,42.4831809,34.0305562,47.6103728,34.2669104,42.5539949,32.7626153,40.715735,40.5009545,40.3037989,33.741006,37.6353602,39.631312,32.8591042,35.3762348,44.9168655,35.4589988,38.4143234,36.8446787,37.5399584,38.9423488,40.5660353,43.6358472,44.9541091,42.1919983,38.5828705,33.8548908,34.0293136,34.0781954,42.1957211,29.642378,35.5747618,38.9710405,33.9283947,38.4632744,40.5821764,42.6471705,41.1369415,42.2222557,34.97297,38.5473451,39.1826275,31.9698536,40.0903961,26.5797055,39.8822458,41.8002804,33.8735241,42.6396768,43.304165,32.7166577,39.7500556,41.5440757,33.3129045,32.1156901,45.679504,33.9558339,33.9974216,45.0755825,38.111521,41.2896117,39.0736794,44.8495453,47.0528069,45.3905054,40.8457874,47.6468228,44.1063256,35.2996701,37.6003622,34.2788511,33.6344482,43.0486527,39.658646,40.7440007,41.4126156,36.4201875,34.2654115,45.0808139,40.7384736,41.6425449,46.8714029,38.7280475,32.7840225,44.2939911,33.468801,37.738859,37.2411911,36.0173789,39.0908513,34.1851953,32.7765333,44.6527774,44.3427157,38.8514105,33.8529083,40.6591038,38.8758311,33.795374,34.2516083,40.7246283,45.3204993,37.4623621,29.9406399,33.8352186,39.6208529,39.7644805,42.2700183,42.3138055,29.9951852,35.3642246,25.8341119,38.9238913,40.6563567,38.9039498,38.9672267,36.19297,39.111689,45.5885856,33.6920021,38.7987325,40.3184056,29.892596,41.7196717,47.6581015,33.9721225,46.8691873,33.0402437,42.2193562,39.2008668,33.8563177,41.4144897,41.9972964,37.3163299,46.7141896,40.1658533,39.3193302,40.6929642,38.8055635,34.7323519,29.816116,39.6496146,40.9297168,39.5071861,34.1815516,32.9654838,33.913976,21.339523,42.2740065,40.44749,37.8906499,33.0243953,36.1408548,38.7678079,21.3457756,30.2583558,38.9840391,33.3855247,43.5369101,43.1546865,36.8559238,34.0198929,33.9956333,33.8416367,35.2172707,37.6796323,40.781029,33.8646012,47.9140187,38.774433,34.7628785,41.7689528,41.9965898,39.3644763,40.6331871,41.6274976,37.0135619,43.0560207,45.7000322,38.3695473,37.468624,33.836,47.7670311,42.4510137,39.907118,40.7123634,32.8047692,42.6703394,38.8486517,27.9623191,40.7195817,41.5768652,33.931052,39.7734461,37.3547002,39.3659448,45.4926421,33.9299484,27.4901903,38.8307862,47.6458408,33.8979798,30.4948698,34.0994645,35.963676,39.6922526,41.8509926,25.7758186,45.5798368,43.9775874,37.5330658,41.372518,33.9560337,42.9757238,32.8589423,38.942043,33.9642062,39.5670035,42.4646248,34.2967355,33.9342401,45.601075,43.8591275,36.0074632,41.6488961,45.0087925,39.7020374,40.8022997,33.3281393,41.9289576,37.7200089,41.9583016,39.8779975,29.8167961,44.9986375,41.6216991,30.2153844,38.6099173,41.0977471,35.5063506,34.144579,33.4231362,36.2305459,34.0020976,30.4161664,33.6164674,38.2017236,33.5847024,41.9357029,37.7594331,40.3779317,39.2029934,42.5120132,42.6660855,38.8116221,25.9339375,25.4778412,28.2751224,42.0823969,40.2143917,40.3337613,47.2402889,39.3166683,39.3498089,33.9652179,40.693467,39.6899412,38.2116884,38.9091299,38.7832996,39.8320466,40.7062404,47.2003278,39.1452205,33.7467447,30.0072881,41.9772907,41.2836308,33.0485493,37.7625436,42.6608795,39.0940656,40.5584655,34.0808733,34.1022274,33.7926172,33.7420805,38.8779453,35.5179712,36.1993077,39.2966563,39.6589153,45.0332545,34.1911391,39.0715582,28.7627759,37.3291927,45.378118,37.3461125,32.6738101,40.6287073,38.4780464,40.2764257,47.8667826,40.3090939,39.0592102,40.7587307,37.6634707,42.4081536,39.5589997,39.704845,37.9678197,25.9575149,33.2076108,38.3627836,40.8972795,44.9316858,39.6068278,38.1358448,44.930036,40.8254505,39.8036043,42.6249396,32.7921847,44.0155585,45.157438,41.8637638,38.9728211,39.399685,33.967321,37.512005,39.660399,38.6506226,29.9235307,38.2383051,39.1324295,41.3178106,32.9605446,29.9686378,41.477906,42.9546545,41.5572292,44.97735,40.7300384,48.0675269,42.037529,33.9822771,41.8971227,40.3469917,41.9211256,41.4491057,34.1533991,43.0854604,37.6890403,42.4065672,41.2947461,38.2663099,40.5982009,33.7516671,41.5786789,43.5734662,34.2820993,42.4523356,40.1084993,39.3570586,42.5698864,32.7775147,40.1708433,36.1360904,41.4381919,39.6582769,47.7500587,38.761088,39.4180367,33.7538831,30.4183421,33.1943943,37.2479436,37.6547882,39.4551318,35.8407129,40.0265433,39.1642175,41.1507713,39.5737532,33.9996748,43.0401727,38.662649,31.5969739,43.2280723,33.9092433,30.4614289,39.5596074,30.0156904,38.9192257,48.1119682,40.7922439,29.9558694,39.0955926,41.4894985,33.9056717,39.3264635,39.1447453,40.4140967,39.3681732,41.6522325,34.1550888,33.7560524,39.979622,33.5021972,40.555509,37.8578054,22.0063117,44.7094662,33.8400414,42.3987581,41.1933983,29.5153009,43.0573383,18.3847902,42.843075,34.2078852,36.8592846,34.9886928,37.7324326,39.5879745,34.0882238,37.3252966,37.7775293,35.3292335,36.2396345,32.6703515,33.1511693,40.7519327,40.6965307,34.429766,39.5793358,39.0472993,39.6749283,34.0703739,34.1575595,38.5929938,35.1555386,28.7392706,33.92747,32.5857682,35.2492068,47.512303,42.6961449,40.5612628,41.9428559,37.7965384,43.0348359,28.3126989,45.4924985,35.774008,39.4002015,38.6856089,41.855248,44.9572638,34.1294228,37.6930984,27.919084,33.007083,40.0046374,28.0912857,45.1963584,38.929507,45.1621337,47.5771253,38.3884912,40.6342624,40.6152294,33.780868,43.1333836,38.0177451,32.9222447,38.2250432,45.4126599,36.3080545,40.6940352,38.608098,33.9882746,43.1568106,25.9975358,41.5068278,35.3453468,41.9484736,41.6881398,34.0124649,39.5034615,40.7453752,40.6567999,40.4847665,26.6719999,42.3560005,38.6123227,34.1784585,33.2241243,28.0232372,40.2326201,34.2731497,37.8232995,44.8521012,28.6019427,33.9794836,33.7581971,33.639712,41.9799123,32.8665485,32.5458122,36.8592093,34.5476596,33.1729111,35.3472716,41.2096524,34.1407531,34.087543,45.5348468,38.3749473,37.3583268,47.3135579,34.1140671,40.745089,32.3685556,37.8454758,37.6236345,33.8732438,38.5358637,35.0535023,38.6380828,33.9278048,38.8628008,42.9884823,43.1309011,40.4558327,40.5927893,36.8446768,40.863007,34.5504277,40.3067295,33.6017334,44.0911076,35.0869473,40.9188118,61.1738815,41.1311633,42.402223,38.9739365,40.8620016,39.8676016,45.1292997,38.8806878,34.0764659,42.7640506,34.266609,42.4841094,41.9627836,39.9407522,40.7748829,41.6266977,41.3307623,28.0484773,44.7964495,38.3134475,39.9255728,39.7645863,44.7823157,25.9762354,37.5204883,39.8116877,41.985801,41.6355702,34.015445,40.6237135,38.9383001,33.6773576,40.6499311,32.7232203,39.6314889,41.4315428,33.4042445,33.9759077,37.6152301,32.73925,39.7796722,39.6814221,41.7645734,35.951895,33.6850994,41.4266158,45.3844173,34.2269621,38.0626471,35.0927391,38.4891674,41.8281516,30.1776027,34.0670404,41.4670716,33.9804922,40.0895349,40.6257185,45.9817175,39.364663,32.8877124,39.8315456,32.8731554,33.9247336,38.342413,45.1838261,44.7886836,39.5774982,43.0037371,33.934821,41.8741811,38.2686378,33.6708235,28.6782516,34.066765,40.2180442,27.3224606,38.6201595,45.163527,34.0738344,33.1115032,38.7277628,47.7387511,39.621465,36.1852245,33.5490164,42.3834701,40.0441063,38.4372393,38.3008039,34.4222771,42.2561171,37.5880853,36.0861268,25.493677,34.1791564,29.9400915,29.9187756,28.5230337,38.8846905,33.3767879,32.7802399,41.6177242,34.6270722,35.2427609,41.8049939,41.6734639,37.1139843,45.437638,39.9263159,34.2264373,35.0792854,40.1531411,35.2310699,47.4368907,39.8206729,48.1335506,39.996447,41.5336488,42.0383251,37.023032,41.529189,40.5022908,39.0711287,39.9336044,39.8607388,28.0331372,39.6844616,32.6775705,41.9972773,36.9628814,45.6825793,38.7869497,39.3741504,39.6323926,37.9805494,40.7291042,33.546201,36.0089212,39.396757,34.0794781,33.9962787,40.8296227,40.7062483,38.2308329,37.5911419,32.8059309,25.9633225,43.0678143,34.202819,37.7108737,39.6597802,32.6571679,38.877451,42.377434,25.505574,34.0224507,40.4793843,38.7623108,39.841417,41.945071,41.1289557,26.0576237,39.4184665,37.2454514,41.8190118,36.223662,37.7308613,33.0023401,39.7639304,30.2398284,33.3419171,40.1194604,28.5853691,41.0012606,42.7812433,35.286058,39.6486439,38.6097462,39.5325981,33.7726916,30.4986693,44.7602474,32.0652265,36.8173967,40.7457026,43.0899538,32.6027505,41.9854352,37.7205706,42.1970184,36.0023577,38.3191257,42.3139476,42.4374587,28.1806131,33.884298,47.9114849,38.9309966,37.4215508,43.7410194,41.6042005,34.0405455,37.9995651,39.9308027,41.7406751,38.8845883,39.1169211,33.7295921,33.9660533,42.9701335,43.1885097,45.5735332,36.2364181,38.6259083,40.7633953,35.124222,41.6499143,35.5408971,41.7953362,39.7291072,34.4435485,45.5506445,38.5773838,36.9775572,43.7609939,42.2367473,34.4800598,39.2084108,33.8939104,32.7470878,33.7847677,30.657083,36.5675579,33.1171539,44.946717,44.043727,47.6141558,32.8692105,34.2697395,41.5444513,36.9923687,33.2968288,43.0826186,39.020928,38.6070496,39.8041387,39.8120932,39.2961666,42.6349306,44.640213,41.5947322,47.6595705,38.8401479,42.0655463,38.6717899,35.9092548,29.8841731,44.1664512,36.1297454,34.2350541,39.2931179,39.0833905,38.4586023,33.1371361,38.7708646,35.1042041,37.5228124,33.8737602,36.8417075,40.3084444,45.1635151,33.9974228,42.0239204,30.3816272,41.5184721,44.9302123,38.9517691,34.6851224,39.5662241,33.8224328,34.9340937,34.8608181,37.9968728,39.4596604,27.7289925,34.6130995,35.0512889,42.0557889,38.8840144,45.5118958,43.164643,40.7777959,42.808323,40.8232785,40.0353669,41.7975955,42.7509412,45.0455399,40.8995005,40.2363258,37.4394722,38.7123427,30.3953541,34.1890147,44.8790447,40.1477284,39.042347,44.82114,25.9890145,37.560402,33.9244295,37.6627736,26.0279146,33.8525481,41.2996807,44.7246681,36.268899,37.0774493,39.9459117,40.6768943,35.3215131,34.1029152,39.2864506,40.1303735,47.9119988,44.7054047,42.6871818,42.5167766,28.1534784,40.2592494,45.5710705,42.8071279,32.4474548,42.2045482,34.0715256,37.7437123,41.7102748,44.7034713,35.2937377,28.6650732,47.3543904,34.2135354,38.0218058,30.4438109,36.77248,34.3068456,42.5053726,28.5076251,37.9835416,39.351553,39.602518,35.4141842,44.9767946,33.7083201,41.8300727,33.5764464,41.8832373,41.5660798,41.8251471,37.2484034,47.7050513,35.3940158,44.8506302,47.477949,34.1723184,41.6794426,34.3148667,33.692413,33.6090803,33.5499025,40.6778181,29.9504348,39.6785048,44.9353118,29.5614395,42.3854556,41.1442802,33.9331436,33.3867166,33.4066222,36.3669665,44.2831542,42.8747275,40.0325524,44.7719887,38.4604893,32.8141903,33.765513,32.1697768,44.9362252,40.7854125,40.0970817,35.8811533,42.5027899,33.9344497,32.9048662,37.0798205,45.5325909,37.8057305,37.8103873,40.9252263,39.1573384,41.8380725,38.939845,34.0812987,38.6490292,41.9279225,40.6808117,41.3008526,34.2012855,39.7185409,40.6024112,33.5318881,33.1719277,29.9392445,33.6298446,39.6473825,33.9592353,41.6086836,45.379976,33.9041833,38.6547268,32.8537437,41.8917041,43.0276617,37.5048796,43.1236523,44.3092616,36.0333762,33.81618,42.7494251,39.3691987,30.453112,38.8272503,42.4552791,30.2118405,39.7198486,40.6324139,33.4169647,32.9983274,43.4719674,40.0302822,44.051161,34.1010323,40.0596354,33.7861934,31.7208379,42.056434,38.9837684,40.6583605,34.0941911,39.0614701,44.9906716,38.8641337,35.1053531,32.9875564,41.9955264,34.4462571,45.5204364,43.1392979,41.54486,40.0468743,34.0681289,42.2399116,42.9516791,39.5931885,39.9890491,37.9889858,34.1902629,33.5099245,42.1808084,32.8477546,39.8528317,42.7460905,29.9312759,39.1772113,34.4193105,42.4907962,39.7545144,33.2265775,21.352138,33.6470177,30.2715136,32.6453703,36.8605423,30.5809786,33.8993431,29.6545097,41.2719628,34.9507098,40.5418139,40.7709484,42.4888502,33.970123,33.8685443,39.0949854,42.0591118,33.8735321,26.4311714,36.3946856,42.62186,40.5752205,38.1435795,33.4990726,38.283633,28.6826254,41.7976477,40.8256393,40.7098547,40.7331478,29.5198164,34.2391373,33.8506272,33.9012219,43.553393,41.8152753,33.3338629,35.0787984,38.8895132,38.8301503,39.7536569,45.0027841,41.9722261,34.167785,40.6278302,38.5542221,41.1737527,43.1267079,39.0783614,42.4237393,42.6059032,37.1289134,39.031601,37.0159015,38.5589864,44.5019763,34.0427142,38.1393459,41.8859557,41.7860127,38.7177076,37.086036,36.1226178,41.8923546,34.9641603,33.9958996,37.6357093,33.9653834,37.7929713,37.7908267,33.5791773,32.049231,37.5371439,33.8644752,32.50738,39.0706182,40.4005858,36.9878537,33.173642,33.8909907,34.715171,42.5573788,32.4434384,34.795563,36.2249153,38.6711,41.9176356,39.6518413,39.2143798,34.1894237,37.2618883,26.8027249,25.5305339,33.1005787,40.6959777,26.2778638,33.1082604,34.6924242,26.6194843,37.4794918,34.0746639,37.2513168,40.5296188,40.0416293,33.0223646,34.9846033,36.5163347,34.0831934,37.5693426,30.272369,39.648393,47.3236431,36.1381648,41.7626199,43.6180124,33.6444403,41.8000284,41.5596694,39.4647097,33.9608636,35.2196895,39.7969664,38.8022313,36.0882006,33.760462,38.9998681,35.3907396,40.3861172,34.2335792,33.0052637,36.0682088,42.3367163,33.9170526,38.9824111,40.7703685,30.0929677,35.3628856,32.3430445,37.3947888,28.0920083,33.8763664,41.5270605,33.9360675,38.396493,40.7076385,38.1746473,38.7706914,38.8000444,32.4589224,33.1616179,30.5007048,26.0218037,35.1317236,30.2949463,33.7399533,35.954426,35.2952319,38.757111,34.2532199,34.2892496,35.0305173,47.2490842,38.8127184,41.2091142,37.4089171,44.9305501,33.131406,42.2738738,35.9110903,40.8656158,34.1168982,41.4768637,45.0186675,33.138393,33.5264817,33.5958075,37.6695089,41.5452063,44.9421179,40.59681,44.2504665,42.0971614,33.239921,48.9380168,33.1269139,42.9248972,38.6508815,38.648392,30.2854755,32.5537738,41.936506,43.0500535,32.1459532,45.5114054,35.8283293,41.5757659,38.9276429,33.9528787,30.4506004,41.5931681,32.82831,42.1249698,40.6366155,25.8074225,33.892322,40.5664871,39.1017126,40.758413,36.8185891,44.8089686,39.5876465,38.8761143,38.6605878,26.5664311,33.5147925,38.8681789,33.5635826,47.5212725,42.2732926,35.061224,33.9925696,28.0239078,42.4433517,41.6674169,40.2935564,36.9856039,39.33497,33.0146529,30.256948,41.6695702,33.4481905,34.116282,41.2415016,38.9476928,29.9890902,26.6867977,34.0317744,40.0128408,42.8192902,33.9075148,44.1738142,34.1384503,38.984487,38.8754661,39.5156097,33.4655887,47.9935725,33.2761863,41.9645676,40.3077822,33.867769,43.6067084,40.7840833,39.2654997,34.8496111,33.5875294,27.8782128,34.1356285,44.9984137,34.0418546,39.5880202,33.7934864,36.2985842,40.0698311,44.9225103,34.3860838,40.8907599,41.3560355,37.519939,21.2799196,33.6914725,41.7060959,33.6829142,38.7335134,44.2983512,41.9814983,45.4044858,38.1052893,33.8463255,44.2768164,37.7666663,29.8949935,32.8407682,32.8685872,26.6562998,40.9054744,29.4265208,38.0504738,41.9528214,38.3880766,38.8007872,37.2927274,38.9957928,47.2015548,33.7947006,34.5770039,39.8142211,30.3990034,39.1051265,27.9839519,39.7951596,39.9432243,35.271205,41.923674,32.5709253,33.5873473,38.8950867,47.642577,41.6183368,41.8701141,42.2821618,40.2761082,34.211133,39.8186204,36.056768,39.1128994,35.1673199,41.851897,37.5903881,29.9192628,33.4217957,38.4543283,18.4613013,44.7021003,38.5280933,33.9153582,44.9383072,47.4504814,36.0476002,36.4213092,30.1148079,33.029696,40.0891327,33.2199403,39.1740428,33.2591005,42.9320341,40.7773655,40.4009965,42.6299069,33.9740105,36.7135739,41.2771801,32.6876094,39.1863472,27.9439187,39.8861399,42.3484084,40.2022162,33.7814512,39.5296592,38.805202,42.3364359,38.9370583,42.7211471,42.3577096,41.9154832,37.2138513,38.8582606,37.3840131,40.6077104,47.3080966,40.7644351,35.9588237,44.8974318,40.8268519,41.6653362,37.273088,40.6019793,38.6619763,41.6686114,42.7520835,26.1753582,34.7907861,39.0535272,26.3222157,40.675116,32.5003844,39.4600889,27.9558723,40.9276974,40.7846083,30.2971474,38.7389534,39.1307486,39.8199033,33.9355089,36.1370413,34.0468935,39.966604,39.5228736,38.7039294,41.25947,34.7384243,38.9141018,35.0137999,37.4753179,38.9409336,36.8804748,40.0221698,37.9837121,40.676167,42.1933688,29.9502616,38.8220549,41.9297959,42.3071378,43.097724,45.054828,45.2156536,34.0955973,39.7323616,33.51703,33.0628042,33.7015157,41.5149163,33.8150005,35.2172698,41.103155,38.6727159,34.3909956,40.5912386,39.3899395,39.548165,39.6793695,30.1267195,26.1671006,42.2446858,29.0830556,40.9038349,30.5412368,42.4367668,28.1965042,41.8757712,36.0769981,42.7034472,33.9041561,45.2785485,40.2959283,40.6237514,47.8750641,28.2512545,39.7729192,47.1655467,41.0744782,39.7914233,45.1978857,36.0494987,32.9422201,32.6855676,34.115176,39.6736383,36.2394002,35.3332303,39.846589,36.8420258,29.7149457,42.486804,28.6270565,40.8676332,34.431478,33.8115206,34.2962387,40.341754,34.089251,39.9232925,38.3385194,42.8930821,37.3248541,42.9065731,39.6090227,39.2900344,32.8465208,26.800517,44.9508032,37.7208213,36.5887994,42.5208083,33.7444899,38.5669269,39.9579911,42.672366,41.8842145,32.5917561,42.4294796,45.5119127,35.1258104,37.6433756,39.0828844,45.6307917,45.6571872,40.8767726,36.8543992,41.5828883,28.5062925,39.4675762,34.4032519,40.1327618,40.7040749,21.3910655,45.0209961,37.7724142,40.0875511,33.5831528,38.6172556,35.7571349,33.9832035,39.353095,40.0390702,37.7321434,25.5503915,32.9138221,39.5567564,39.4328788],\"lon\":[-78.3964524,-71.8003471,-73.8535818,-76.6352646,-82.4953954,-87.6524344,-87.6895801,-87.9533782,-117.5314837,-122.4175676,-84.5118958,-96.7737127,-104.7501605,-105.0632029,-122.2877733,-81.5725255,-83.1054361,-122.0449333,-77.0004103,-72.706646,-87.5935208,-118.1971255,-122.5746079,-83.7805108,-81.4686274,-118.2914165,-90.1708158,-75.9060251,-122.4377427,-76.9858458,-89.5445109,-117.1918935,-75.6228934,-82.6459807,-80.1809701,-104.7444132,-73.8988181,-105.0388111,-72.678057,-73.8092386,-122.2833382,-76.9963306,-81.2453466,-80.8718492,-117.9952621,-121.7370059,-117.3350138,-114.9907181,-117.0941732,-73.903142,-84.4948331,-121.5189732,-118.2193041,-73.6858044,-75.2730649,-121.9984202,-115.1292682,-81.3425952,-121.4825202,-111.3869803,-122.3335164,-118.2869206,-118.1886037,-74.0143078,-122.5630201,-84.5570281,-118.5721382,-118.4318823,-104.7798006,-76.9359151,-121.3876534,-82.3585969,-104.7524816,-74.0005814,-121.2438237,-90.2574572,-104.6710634,-76.4118796,-118.5550665,-104.9302792,-122.9645252,-73.8617074,-72.7938172,-71.1530828,-72.6988738,-122.9922811,-71.1787065,-71.4294468,-122.2275801,-78.9213449,-122.975134,-84.0533742,-74.2198605,-87.6298721,-76.9558384,-77.136443,-87.6139992,-95.8515017,-71.4486294,-77.2317752,-117.2166255,-122.8550041,-71.4191445,-118.1698152,-122.3844982,-116.9363867,-93.3059772,-77.542824,-77.5270197,-121.9560416,-116.9696965,-118.1433453,-81.5965045,-104.7653506,-84.1457623,-87.6649359,-97.5714682,-84.7683124,-122.3450761,-76.7452951,-73.2016218,-81.0222741,-77.0114342,-118.3395185,-122.419906,-119.7924156,-104.8025716,-104.9311771,-80.7755245,-115.2612871,-117.6046422,-122.214182,-116.2114686,-80.1390464,-84.3272835,-121.3639394,-122.0232104,-96.8471481,-93.1501854,-118.5317299,-118.8057119,-79.9838017,-96.7800762,-70.9161108,-112.3850313,-73.0482405,-73.7674364,-72.574247,-78.6210561,-71.8735211,-71.1275287,-84.3825135,-73.8565158,-84.4025892,-116.22611,-84.9758275,-118.2457754,-73.9321381,-77.5169774,-119.7439756,-80.3576356,-74.088895,-104.923252,-122.295589,-117.2176992,-115.1983251,-77.4267685,-122.3017519,-73.2021597,-117.5071044,-117.8902573,-82.3765112,-97.1345969,-117.6207229,-82.3333575,-121.302748,-122.9130757,-118.1740906,-77.498383,-94.560395,-115.2162285,-76.9978352,-104.9579436,-76.171318,-90.0726211,-81.6230968,-105.0045818,-118.5952099,-76.860196,-77.0389515,-116.9521669,-115.1205369,-122.404714,-80.2986961,-93.142383,-84.1558812,-119.2022525,-81.6833,-71.0747098,-77.0538118,-104.8362493,-77.0118821,-72.4544528,-77.6972895,-96.8551096,-104.9931394,-111.8852453,-111.9961592,-117.6755256,-122.5571962,-80.1539561,-119.0445781,-72.8736415,-82.441176,-74.24357,-83.0891148,-73.8859223,-81.6563862,-122.4568827,-105.0217658,-95.5806736,-87.623768,-73.8742881,-111.9741856,-93.301267,-111.9243386,-104.8580599,-87.7376226,-118.3319132,-87.6384038,-77.4785285,-84.5440375,-77.4369618,-122.4677762,-117.9136299,-118.374302,-80.129109,-76.979409,-87.6674491,-104.9048678,-104.7654356,-93.3125462,-80.8532073,-121.9605786,-95.4634483,-118.5855271,-77.1164683,-77.3027715,-117.0964015,-91.676311,-73.7778558,-105.121876,-111.9874082,-93.3133278,-120.542333,-117.152011,-118.321677,-122.014721,-93.2662228,-119.1903853,-104.9677997,-83.2505159,-89.8613468,-105.1307399,-73.1029142,-104.8910262,-76.903318,-73.8538128,-104.7665861,-73.8952137,-122.5431129,-87.9463027,-86.8917438,-111.878993,-117.8817476,-81.9235445,-122.2741688,-121.3368081,-83.5317687,-111.857402,-75.6464158,-87.9454476,-117.2341615,-87.9836742,-117.4868554,-117.6740258,-118.4605333,-111.6644857,-118.3482415,-118.1839766,-76.8295131,-71.7916493,-115.5677777,-111.9713025,-77.1631963,-105.0229172,-104.9744332,-74.2173714,-117.5346297,-87.6302178,-71.0937386,-76.1048153,-76.8514011,-71.5573907,-71.5330964,-105.9768427,-117.6242993,-122.2744575,-119.0634239,-90.0265755,-93.1863948,-105.9826103,-118.0760209,-81.5190981,-77.1228576,-84.1770157,-81.1600547,-77.1311326,-77.6586767,-88.0736303,-104.7515366,-105.0745694,-71.3597222,-118.656561,-117.8778643,-83.0885598,-87.9862008,-83.7891732,-118.2181146,-87.8441529,-76.8604023,-85.1633645,-117.1709663,-77.6441633,-77.001109,-104.8574515,-71.1661474,-77.2597436,-119.7201155,-106.2705296,-90.0765412,-117.4490622,-95.6588784,-83.2984544,-118.0172042,-93.0376071,-74.2160036,-96.8012349,-118.126802,-88.218623,-70.9136542,-85.4753422,-111.6591955,-73.9718051,-80.0042758,-88.080701,-117.4427918,-76.3453687,-73.8286536,-104.6310602,-80.0962292,-104.8203999,-73.8401352,-121.6016745,-112.0600165,-112.0118749,-87.6521652,-122.2513558,-104.8390645,-117.5160778,-76.1193188,-75.1629455,-87.6579016,-83.2852311,-81.7620338,-75.3710751,-81.5671073,-72.9867341,-118.322056,-77.4508489,-76.5320154,-112.0590439,-84.4769375,-104.7658824,-87.5989422,-76.977718,-96.6917005,-87.8501113,-112.3205947,-122.4088549,-73.1969734,-86.120216,-83.0949072,-81.7224654,-117.3900615,-71.7499832,-73.5730887,-117.8958117,-105.1474972,-71.0421575,-76.088934,-79.8633846,-105.0977014,-96.7811639,-88.0971363,-117.4162682,-81.474019,-70.9884011,-77.5233071,-81.2453986,-122.9436624,-88.0796335,-73.9438615,-122.5722572,-71.3163079,-76.4979347,-81.6882362,-76.9026494,-96.6391141,-84.6067944,-122.3382222,-111.9974241,-79.9244972,-84.2923388,-118.4273952,-80.2227936,-83.5012785,-121.2887619,-80.2127122,-117.9978509,-76.1523907,-122.5666165,-90.9877091,-71.3345645,-84.8463379,-83.1237435,-118.3089917,-122.3566031,-79.9893873,-85.7020156,-117.5244924,-105.064927,-71.4824077,-118.4585185,-86.590511,-77.2768035,-89.1107986,-112.301829,-74.4405589,-118.2491936,-76.8617021,-76.7754851,-80.2353122,-84.5935766,-88.0738166,-117.9286916,-84.1313282,-122.4936719,-118.4327217,-85.437029,-73.5724861,-105.1095361,-83.6434071,-117.8376698,-118.5382539,-76.9625289,-118.4423602,-147.7262763,-76.1457226,-73.8921224,-90.2502412,-73.5409467,-122.3027487,-118.3569389,-104.9134956,-85.0200214,-77.4317689,-84.2945997,-90.2642112,-87.6280536,-121.3057992,-104.7579585,-86.0003997,-87.6323954,-81.3166036,-88.0173067,-80.0509817,-77.1966358,-77.9497306,-106.594435,-76.9594342,-104.7957722,-117.522205,-118.4659262,-74.8954186,-71.3093264,-117.1295175,-104.9492368,-81.4112143,-116.2442242,-80.1463303,-122.240953,-84.2410431,-122.0507327,-119.7158384,-80.7156559,-122.2320275,-93.2718722,-77.0029301,-90.2137506,-121.8777455,-74.2681204,-76.7424834,-74.2665572,-74.1824032,-118.2463128,-71.4240055,-77.1247428,-122.2868948,-76.9850809,-84.330538,-104.8089149,-115.197961,-118.4243044,-104.6338835,-86.5327165,-72.0091181,-122.5732495,-118.1063383,-77.0692614,-118.0967181,-118.1623973,-105.0461034,-121.7707427,-84.7707543,-104.6902364,-118.3023777,-94.5487109,-94.3496007,-97.3229658,-121.5980004,-79.9867715,-77.2771369,-104.7958216,-86.2338251,-73.4662497,-73.1178767,-77.5495714,-122.6745265,-76.9997922,-90.2251396,-117.396582,-84.4467818,-76.5470015,-118.3402541,-117.0130151,-86.8893868,-87.6002666,-71.9061176,-73.7664846,-80.2784257,-81.558494,-105.0685379,-95.5197006,-89.2634494,-112.1067463,-118.5606591,-83.0960665,-71.0514885,-96.9594948,-84.7267716,-86.6754096,-87.7191305,-97.0980382,-80.1648288,-117.6396061,-83.4341604,-117.0716346,-93.0242857,-117.914757,-77.2333711,-74.015852,-81.1787197,-118.2182796,-110.8290507,-121.4987966,-94.4083056,-122.1939162,-118.4598237,-118.2413457,-71.1557303,-96.7381193,-72.2032555,-121.4185883,-77.1777286,-77.5787226,-118.3657855,-82.508636,-80.3975735,-121.4447294,-84.1855843,-75.172227,-81.5391623,-76.5900973,-104.7802065,-119.76333,-90.1095678,-118.1947725,-84.7965029,-122.5736204,-112.1753498,-77.4282188,-83.3071022,-96.21541,-76.192898,-76.8230132,-70.8966155,-71.3083671,-73.9407223,-82.5569416,-117.5175804,-87.6920314,-84.2855515,-77.398648,-118.3475932,-80.2090662,-80.2310491,-119.049604,-88.052703,-122.8323195,-76.9192026,-122.4317734,-73.7630903,-104.94997,-84.1781093,-75.351036,-73.7619559,-118.337332,-73.9669265,-87.6537547,-84.7552832,-117.1134269,-111.6922978,-84.5442585,-119.7051132,-81.0917023,-104.7914293,-80.373458,-122.1759183,-75.0788971,-118.4898281,-73.7006968,-84.5429643,-121.8142432,-118.3834061,-123.0495961,-104.7810429,-122.0693691,-75.2833596,-80.2268897,-118.1739007,-81.605797,-88.4283731,-116.8942634,-93.3651846,-118.3318624,-122.3050028,-105.0673281,-104.8004672,-76.9058018,-81.0131624,-111.9131301,-77.3398683,-156.4887351,-77.5152427,-80.214258,-122.9783913,-118.1012717,-73.9866285,-81.2779164,-73.6140835,-84.4370763,-122.316583,-117.0690434,-82.4689622,-84.0541164,-117.9903099,-121.6664276,-122.3311112,-73.9668581,-96.7025835,-85.0442122,-84.9882394,-104.734629,-116.3132875,-117.9608384,-75.6077483,-97.1396499,-121.7937321,-118.2469968,-76.4257023,-122.5703276,-85.1775739,-83.3034086,-117.2137843,-88.060218,-94.6587674,-77.1149795,-81.7685212,-88.9357363,-158.1228176,-121.7489395,-77.5382198,-77.0149469,-117.7979719,-76.7288484,-111.958046,-83.5236163,-76.9864052,-96.6892254,-76.8703467,-87.7406144,-74.8905766,-120.8727904,-77.3351341,-71.3040807,-117.8525,-87.6096294,-117.6225929,-81.9698538,-84.3544774,-96.4543168,-74.226135,-73.9587186,-118.2211115,-117.9278881,-84.1307865,-86.8027103,-104.7755214,-80.7715182,-73.954388,-116.9613512,-105.0417135,-111.4251092,-87.751073,-81.5287478,-93.3488224,-74.0237327,-104.9504384,-83.9582206,-117.0753816,-82.8994151,-76.9106751,-122.282639,-119.6445694,-105.1137379,-83.7948034,-80.8395961,-117.0867251,-89.9272045,-88.1378071,-76.1693867,-93.1768215,-121.8713866,-111.9373758,-117.6072895,-72.6406433,-71.0722753,-73.768763,-95.8341626,-87.6871169,-111.7975401,-104.7051421,-88.1326285,-90.2355495,-87.9572594,-73.9179179,-77.0875449,-104.9942433,-80.240105,-121.4661875,-104.7800166,-81.0537634,-81.1270015,-82.3057403,-77.0948506,-84.8776233,-105.0480424,-73.6233099,-76.8800491,-76.7703009,-105.0192167,-81.5499563,-80.2581261,-158.0913758,-104.800615,-80.0757035,-95.5030621,-104.8356793,-104.7848078,-105.1022393,-93.2738024,-80.1453281,-81.5851258,-104.9681816,-117.0693151,-80.1343344,-78.8916295,-87.6696322,-89.693811,-118.5206684,-72.9988568,-93.3102718,-80.8316138,-79.7417335,-82.3274144,-119.0288352,-81.6433674,-71.0566567,-115.0593121,-84.4160043,-121.2785027,-117.1047071,-118.3223468,-116.610601,-118.5273253,-97.0278242,-118.2861364,-81.0931284,-104.7168189,-104.8304713,-73.8521815,-84.3790981,-91.6871605,-122.5635095,-117.4451911,-81.6681873,-121.362801,-122.4139445,-119.7202981,-84.3356621,-71.1305713,-107.8069627,-80.753707,-82.7812466,-112.0500536,-122.5235732,-72.6342898,-90.2397912,-119.6730488,-72.5909593,-116.9106547,-93.3594938,-81.7756429,-81.5560578,-73.6167087,-78.6021439,-84.2562785,-84.2300879,-84.9748976,-118.3650028,-117.2039588,-93.2874611,-84.6116201,-105.1450331,-115.0712758,-122.2313016,-77.3963482,-121.9372588,-117.2912706,-87.8996709,-77.4451742,-74.1091938,-80.2055235,-122.7607066,-80.2519097,-104.794918,-93.2872546,-80.8309436,-104.9115056,-117.1894607,-71.30959,-80.141806,-115.2928868,-76.890708,-87.9028298,-83.7474037,-76.8174928,-81.6407986,-82.4387824,-117.5548004,-122.1826098,-117.1190552,-84.4105985,-74.2236813,-86.2886318,-118.5578906,-108.596204,-104.9543646,-122.1262173,-118.2391843,-74.070286,-93.7808947,-72.6024994,-84.5086055,-77.2299357,-86.7501174,-75.5747325,-93.3299204,-81.9734142,-77.4032175,-117.2759939,-72.5997889,-83.8249359,-91.0477226,-118.3244227,-105.1552545,-77.9731782,-118.1526495,-81.8206369,-93.2575163,-111.8535734,-122.2149774,-82.7020337,-156.4410103,-73.8978818,-82.9486151,-73.8292813,-117.2006679,-71.1027538,-86.6345028,-119.769357,-76.2769553,-118.9627618,-105.042807,-88.077923,-118.2607508,-121.2087748,-79.9700192,-85.8031521,-105.0745317,-105.1058613,-89.3860992,-71.3260812,-84.9052923,-73.8942499,-83.8023847,-117.066471,-122.6425893,-93.1356392,-75.6112728,-97.5196446,-119.7434524,-81.2667039,-119.6539846,-84.1896883,-111.6914208,-84.7322281,-84.2919399,-122.4521467,-87.5905449,-83.0749614,-117.7652744,-122.331941,-118.6580693,-89.0944443,-92.2463782,-73.9489203,-105.0437937,-83.8054862,-118.302932,-122.0804834,-104.9832134,-83.6043296,-119.1367209,-92.5200727,-80.6346803,-104.7333998,-119.7567334,-122.50122,-94.4869807,-74.3153599,-116.3985507,-89.6076214,-83.5572759,-90.5316032,-84.6079592,-118.5076229,-118.1855017,-121.7144438,-95.7287185,-108.7310412,-77.3558162,-84.6793579,-121.4860894,-122.3762226,-71.2834848,-104.7519569,-87.9919604,-120.4307367,-90.0439689,-77.283306,-81.1430205,-111.6236494,-80.0614202,-104.7869665,-72.5321006,-117.9535931,-71.395644,-96.6187806,-97.3738906,-75.5369353,-72.8112609,-111.9028025,-111.0306617,-123.2959113,-118.4365003,-84.5386849,-93.273065,-122.2497147,-73.4338977,-77.0819211,-92.632248,-122.7795308,-122.7048411,-74.1120331,-117.3541678,-70.2162485,-80.820144,-122.0225189,-119.1565313,-117.9474673,-87.9427928,-104.9961685,-73.87109,-81.9819988,-119.1003601,-118.5852975,-93.3444002,-73.3310716,-91.5094982,-96.7667976,-77.2129918,-116.9579853,-88.2679397,-82.0531079,-97.2567313,-121.8246191,-78.9120187,-77.4854336,-118.1397371,-117.0385895,-93.1882878,-121.1830055,-76.7107147,-117.9934182,-73.9091012,-94.7317676,-117.955544,-118.2816328,-73.900294,-122.6453549,-77.5133737,-89.966994,-118.089263,-119.8765065,-83.941917,-83.5938966,-83.5167746,-90.0553504,-80.8030471,-80.2114869,-76.8364543,-74.2291175,-76.9866786,-77.0419399,-115.2740979,-84.2652464,-122.4799189,-117.7546973,-76.9896873,-74.5757384,-95.4731807,-72.2288725,-122.4137704,-84.5120432,-96.8723443,-117.2920275,-88.3294685,-84.3974831,-118.1926968,-71.5660799,-91.6443642,-121.897133,-92.2152605,-105.1153802,-76.6678344,-73.4073395,-77.625419,-92.262856,-95.7090108,-106.5019517,-74.7507171,-121.5606959,-118.2829278,-97.2193408,-118.2207001,-157.8696157,-71.0742308,-74.170046,-122.3181164,-97.084327,-115.0383256,-104.5221938,-158.035165,-81.5682563,-76.7772427,-111.9180624,-111.9397541,-77.6391009,-76.2539924,-118.4124738,-118.4203026,-83.963953,-80.8236353,-120.9376668,-81.3751563,-118.1402363,-122.2227026,-77.584113,-86.6284923,-87.5638143,-71.5079906,-76.4970315,-73.956842,-72.9078279,-76.3555606,-83.7249741,-122.638414,-97.6692022,-77.6112348,-84.6062571,-122.2582787,-88.2254104,-105.040497,-73.7093711,-117.254695,-73.7824279,-119.9503432,-82.2391436,-73.7661843,-87.3465386,-118.1901733,-84.2248918,-121.8469654,-77.4308462,-122.5307082,-84.2527137,-82.5957303,-90.3208854,-117.3918401,-84.2233287,-87.2162337,-84.0967614,-114.8350406,-75.0483596,-72.4500818,-80.4047272,-122.3603524,-92.5326089,-120.8609917,-73.0032869,-118.2761415,-71.4613127,-79.7748374,-77.0556067,-84.2315195,-83.4301994,-83.2454242,-118.7532342,-84.5843198,-122.4749338,-91.2263875,-87.2655548,-91.4913927,-93.2668994,-104.8008257,-96.736205,-111.7984566,-88.7558659,-121.4337996,-87.6606982,-105.0297696,-95.4926764,-93.2809123,-93.697015,-92.03408,-121.5148924,-73.417517,-119.2719891,-118.5320785,-84.6796763,-115.2160812,-117.9800005,-89.0201169,-112.247472,-85.8196779,-84.1864464,-87.7038401,-122.4191487,-79.8588904,-76.8893719,-112.1218261,-89.0126009,-77.1360243,-80.3197675,-80.4558094,-82.732586,-78.4358508,-111.6974375,-75.9468861,-121.6344475,-76.6953197,-76.616306,-118.3783987,-111.8826082,-104.8148644,-122.5343549,-76.9490616,-121.3353191,-84.8854254,-73.9050398,-122.4786272,-77.1880849,-84.2083098,-90.0568664,-88.1211674,-111.9564089,-96.6054046,-122.3956056,-73.2275149,-106.8863024,-74.156518,-117.9632149,-118.2669741,-118.3043149,-84.3650954,-76.9353432,-97.5569126,-115.0352662,-84.2702168,-104.8126127,-92.8033755,-118.5469513,-108.5670101,-82.6439496,-76.5617971,-122.7835541,-121.9734997,-117.0970458,-74.1188591,-121.4583035,-111.9884344,-121.8246435,-79.3878759,-119.9327905,-73.8826281,-77.4994722,-82.9717594,-76.3435129,-105.1211568,-100.8009399,-80.1579683,-96.7139453,-76.4129622,-73.849759,-93.1116714,-105.101052,-122.2652793,-93.3618636,-73.8495052,-86.0211553,-71.2886299,-116.9264026,-88.5513441,-93.2486536,-87.6925503,-85.8684286,-77.140079,-117.2371448,-77.6348554,-104.7627206,-121.1293034,-90.0464711,-76.4228023,-75.5381422,-72.8322364,-96.8087578,-90.0132915,-81.7912518,-87.8550699,-87.3455213,-92.9712937,-74.155392,-122.173214,-87.685499,-118.0620458,-72.1714268,-111.9751522,-87.6997541,-91.6291864,-117.8290128,-87.9833638,-122.049336,-70.9974786,-73.9288811,-104.6083782,-75.50213,-118.0200958,-73.077503,-116.5653454,-118.3925764,-83.1911457,-75.3091648,-76.8041439,-82.9934126,-115.5571364,-86.0812069,-86.7410768,-81.6243314,-83.82342,-117.4083743,-76.7865355,-84.3755377,-84.1315944,-81.6626237,-117.2838101,-94.1755494,-121.0307757,-77.4078221,-106.2880898,-82.9761993,-76.8468865,-104.7521848,-105.0625464,-118.2839315,-89.4893192,-121.012167,-84.169855,-75.4492837,-84.5584976,-81.6085525,-105.0979577,-81.7335359,-77.5315135,-123.4287236,-96.7093767,-90.0643723,-84.494182,-81.6455445,-117.792003,-76.6304217,-84.5301021,-104.7943144,-104.8422633,-86.2970783,-117.5932586,-84.182363,-104.8052914,-112.1429058,-90.040647,-122.3012478,-159.6248282,-93.1899266,-84.7067038,-83.1643604,-111.9697813,-95.0499846,-87.8898619,-66.1486169,-70.9245699,-84.4870266,-119.6931657,-82.209534,-121.421163,-105.0633084,-118.1878083,-120.4601195,-122.2031992,-80.698909,-115.1255528,-117.0785895,-117.1773755,-73.899483,-73.6249571,-118.5231005,-104.8362566,-104.2966601,-105.031805,-117.7067072,-119.03913,-90.2821537,-80.8598164,-81.2382532,-118.4038251,-96.8865473,-89.9829418,-111.2737486,-89.0219648,-74.1398995,-87.7174955,-122.2494562,-87.9620643,-81.3565291,-122.7920488,-78.6481695,-76.8111621,-121.2953919,-87.65474,-93.3150267,-117.5930105,-121.0809748,-82.2312592,-96.9267193,-82.8564221,-82.5280486,-122.7960744,-76.7691425,-122.5881278,-122.330936,-78.9644518,-73.9429558,-73.9760576,-117.8028407,-77.6561905,-122.5617326,-96.9448806,-90.4106558,-122.6441273,-119.6308433,-73.7587303,-122.8145051,-118.4233089,-83.6687953,-80.2705477,-72.8340199,-89.9924923,-88.7159258,-72.9004389,-83.9096904,-104.7371996,-74.2135059,-111.9454463,-105.0180039,-81.6998186,-83.0254934,-77.3553713,-118.4410821,-117.2353781,-82.3317766,-111.6612124,-118.39857,-122.2536653,-92.9548605,-81.182189,-117.2917944,-84.8394665,-117.6944779,-87.664188,-79.9833334,-92.0459472,-119.6660507,-86.3754059,-96.8899875,-106.6105917,-73.901152,-118.2485559,-117.8722435,-123.0521513,-75.6539686,-121.8661802,-122.1835289,-117.7893657,-111.9225569,-86.3398046,-122.2834063,-122.4101017,-117.63614,-121.4295972,-106.6398078,-120.9369393,-118.3483843,-77.0730697,-87.9409967,-88.0165698,-111.8268461,-105.1052453,-119.7018656,-73.9727421,-118.1036897,-83.1097705,-112.3203136,-70.2285964,-89.9617237,-74.1384458,-149.848285,-81.9009985,-70.9936992,-76.9265276,-74.1222492,-104.9419763,-93.4713746,-77.1105552,-117.9439945,-84.4599382,-117.5413331,-83.1092731,-70.6681223,-82.8572933,-82.7576983,-70.9278159,-81.3499068,-82.4131381,-93.1123359,-121.1238857,-82.8288008,-75.5282127,-93.5385204,-80.2629204,-77.3948324,-105.073766,-76.5203744,-72.0775268,-84.8219359,-80.2512636,-77.0781397,-111.8382486,-111.8812667,-97.3376555,-77.720447,-97.3920707,-111.8315944,-118.3730134,-121.0239311,-116.9812065,-104.8759804,-104.9504003,-83.5883382,-86.5324808,-84.2587867,-73.1151448,-122.6581911,-118.6012202,-85.8754335,-106.7837441,-121.383137,-71.4878644,-95.5707122,-117.7827824,-81.7428718,-118.1942193,-74.9667387,-73.9564859,-94.3792296,-84.410154,-96.8473457,-105.0379649,-96.7776351,-117.9292136,-121.956931,-93.3556682,-93.4454977,-105.0034557,-83.7921236,-83.9310572,-87.6619014,-76.473568,-78.9839079,-81.4786369,-84.5980419,-82.6120422,-82.520912,-90.2060528,-93.2597809,-118.5557893,-117.0899733,-90.1002623,-117.4024276,-105.5585772,-80.0030013,-117.1625551,-71.0951296,-83.1789442,-121.4320545,-77.506397,-119.6975296,-71.8335016,-77.4535483,-119.5624953,-80.4958493,-84.2004308,-90.1135507,-89.9774858,-81.2973572,-94.4318263,-83.2654834,-116.9383632,-70.9157351,-98.4661395,-80.8428441,-87.6624414,-83.534401,-85.0470403,-122.7881497,-105.0822175,-118.4643776,-106.6127406,-83.2020135,-80.870799,-122.2014158,-75.1147342,-122.1637635,-75.1167526,-93.6113141,-91.6153272,-121.5818003,-93.5241364,-104.9175585,-84.4980095,-104.951588,-86.2292726,-81.8403497,-84.163647,-117.0547677,-87.6559864,-86.3867668,-108.746867,-90.3406478,-76.7168009,-105.1563596,-121.2764321,-73.4779715,-117.1978916,-78.8853868,-76.3428558,-117.6460511,-117.5140276,-96.6827142,-73.5557891,-104.6525321,-122.048687,-96.8122943,-80.1363579,-87.9399712,-119.1860277,-121.9177937,-104.8947662,-117.0564201,-120.4293625,-71.1966282,-80.4226548,-117.8980812,-120.5970677,-77.144392,-105.0116197,-87.6760595,-73.5945339,-80.1207787,-76.3107388,-79.9255472,-87.5951761,-115.3206045,-122.1656484,-96.8245577,-105.0462665,-81.7846793,-111.9198091,-105.0290663,-81.4339188,-80.7281358,-83.2536654,-80.8140714,-104.7818052,-122.9669388,-119.8397793,-118.2023757,-86.4657385,-93.2664153,-81.1270475,-76.336438,-111.879636,-75.2286955,-96.9163638,-87.8694195,-121.0456799,-83.6016111,-86.5823902,-121.924618,-83.7000112,-71.4622486,-82.4111305,-117.8350583,-122.3146889,-95.1972813,-121.8964907,-87.7137865,-109.2473248,-83.8155058,-121.3622008,-82.9428093,-72.8413583,-76.8056304,-82.0608909,-84.9218971,-118.2629318,-87.9018627,-77.5353014,-122.6836249,-115.0892448,-121.3914626,-74.2353303,-80.972061,-91.5650449,-97.5707381,-87.9755167,-104.9507867,-118.5164043,-122.5625267,-121.4547432,-121.5863519,-111.2117653,-121.7864586,-118.632867,-94.4171442,-117.8479811,-79.9954248,-118.3159757,-81.6667846,-86.5543737,-117.180627,-93.0910381,-123.1250897,-122.2810958,-117.217535,-118.684829,-72.0630395,-76.4127299,-84.4668415,-87.9975769,-84.2899306,-121.304405,-86.0001487,-86.3016016,-84.5150927,-71.307502,-121.1032089,-73.4440872,-122.3235185,-76.8240487,-91.7799436,-90.3237969,-77.822577,-81.315088,-88.5737102,-115.3192672,-119.0878362,-84.4949977,-77.013595,-77.412402,-117.086792,-77.1573225,-106.9753782,-77.3080714,-118.1212147,-76.3237885,-111.6740509,-93.0542963,-118.2981841,-88.152699,-81.5830561,-81.6120068,-93.2482858,-84.4998731,-82.2888109,-76.4170063,-118.2032005,-78.9513522,-76.8419397,-77.0230025,-84.4558654,-82.6394702,-112.3049518,-78.9930864,-70.9952537,-76.9143548,-122.4065634,-88.0116944,-73.2213714,-85.5212597,-81.3591315,-104.9127103,-87.6767426,-83.3218946,-92.8082209,-73.8437344,-74.7184493,-121.8819217,-121.3175766,-87.3951966,-82.0906631,-93.661949,-76.5963253,-84.4907439,-92.9183588,-80.2330786,-77.3930985,-84.0484281,-121.0204403,-80.2309151,-118.2569604,-72.9726942,-93.2316029,-115.1259086,-88.6334401,-75.1699475,-73.7364182,-80.7066959,-117.8678976,-76.5586438,-75.518211,-122.0322076,-93.2311426,-83.1412734,-70.8869311,-82.4516642,-80.1949658,-122.6559374,-87.9022081,-89.9847943,-70.9250295,-84.5008181,-122.4142166,-71.1489973,-93.2991255,-89.9561775,-81.5059645,-122.0322967,-119.1858676,-122.0963072,-87.2180587,-119.7791954,-84.1453121,-70.8879672,-81.3198043,-84.4061501,-76.6693332,-105.1222665,-80.8681286,-122.9793007,-84.274474,-71.4281689,-117.5835223,-87.8097247,-73.0762333,-87.7877679,-121.8645577,-121.9486574,-119.4164905,-91.9335024,-94.9009071,-118.1246769,-86.1410283,-85.296075,-117.2255846,-117.1893389,-86.8329641,-95.8582428,-89.962128,-104.838073,-122.7764678,-95.0375896,-71.0043188,-74.0282748,-117.9434406,-111.7456385,-84.5509279,-121.4758894,-92.9183023,-82.588053,-82.9464802,-93.2541523,-121.403343,-116.9270205,-84.3947157,-110.8323921,-92.8840645,-82.5355507,-82.8518434,-78.5902418,-83.1787589,-117.4707309,-97.162151,-120.2880815,-92.9583911,-122.2847803,-122.276991,-75.3969711,-95.6983078,-71.4379768,-76.9626302,-118.3811478,-121.2391074,-87.7441048,-73.8875149,-81.4858683,-86.8254882,-105.0464605,-73.9634864,-117.1188981,-117.2369006,-95.5552364,-111.7519771,-86.8263847,-81.0781387,-93.5463756,-93.2077627,-84.7433669,-90.2316895,-97.2277052,-87.7021747,-87.9879693,-122.277553,-93.1915014,-69.7967858,-79.8324917,-118.1953378,-84.5932204,-76.5912458,-97.6266926,-77.0986804,-83.030382,-97.8404451,-75.5313509,-73.9338762,-84.2042316,-80.1695101,-89.7571513,-76.3082746,-122.994372,-84.161121,-74.8863908,-118.1534873,-92.1140513,-71.6404009,-74.9113078,-112.0175041,-118.2003961,-94.4230107,-122.9807382,-76.8909938,-81.3302319,-115.544002,-71.5190931,-118.5457784,-94.1064891,-77.6079993,-71.2998632,-82.4239872,-84.1465317,-83.6767996,-90.1148966,-94.2719363,-75.1536062,-77.5152275,-118.4778055,-84.3267278,-83.6009219,-96.791368,-104.9708005,-105.4423656,-90.0941975,-84.4624267,-118.4640472,-82.9351259,-75.0825843,-111.7118641,-157.9219513,-117.9671282,-81.7409763,-117.0210215,-119.6445547,-91.1507657,-118.2100244,-95.4137206,-72.5903881,-89.9883732,-105.016013,-74.1427474,-82.9029136,-83.36595,-118.1986552,-108.4661874,-70.9731985,-84.6134055,-80.0809957,-93.7343756,-71.3323941,-74.1552188,-85.7000147,-84.1993992,-90.585431,-81.4123057,-87.6671138,-73.8923237,-73.787975,-73.8127448,-95.0841364,-118.4621302,-117.8977733,-118.196493,-89.4817003,-87.7091845,-86.9127674,-89.8594371,-76.6408656,-76.8882324,-84.2958639,-123.3092456,-91.6538207,-118.5245194,-75.340006,-121.4637479,-80.7717824,-76.1035564,-77.5478652,-70.9979159,-90.8455705,-122.1354489,-77.0399826,-76.4268079,-90.47082,-88.0112051,-81.0051449,-122.2351842,-71.068305,-72.5134035,-77.7240654,-84.0718983,-80.2209341,-87.6745068,-120.4445191,-118.3961597,-85.5365136,-117.4115762,-122.4127333,-120.4501293,-117.7339145,-81.1092499,-121.9871472,-118.1532084,-92.145009,-94.6739124,-111.7306874,-121.5713494,-90.8551191,-84.2742635,-106.6087281,-71.741518,-111.3215933,-87.1461015,-86.7399151,-121.2669754,-88.1853806,-77.5535734,-121.0349257,-119.2146586,-79.947919,-80.6742637,-80.397187,-117.2889625,-73.8505707,-80.270392,-96.7593391,-80.8004274,-81.8630223,-76.9098239,-118.3392739,-121.9644886,-74.1456003,-76.6960717,-97.0013819,-92.0028444,-82.520596,-118.1039746,-122.0194346,-81.59968,-119.9652218,-121.9918469,-80.2559043,-74.0717295,-116.2856014,-117.6761131,-72.7010468,-83.6302308,-76.2158395,-117.5886851,-81.2641614,-105.0146221,-104.7640557,-86.6808618,-84.3039394,-77.493291,-119.1188797,-111.8146917,-118.5830621,-97.085786,-79.8230971,-83.3216202,-118.2033535,-77.0121085,-73.1464445,-81.6958614,-119.0699317,-111.1191012,-77.655827,-82.4199799,-83.9532139,-87.3912228,-83.9729365,-85.5388817,-73.3791696,-85.6672783,-77.5182829,-121.2774336,-86.4218265,-96.8150999,-91.3450421,-80.4262045,-80.9106075,-81.7252802,-117.7819968,-86.8652325,-82.5690391,-77.1801939,-116.8492507,-118.460655,-85.0103599,-122.4745331,-104.8497263,-82.1308213,-121.9019654,-92.9133764,-117.0724073,-71.1371416,-78.56697,-74.1368549,-80.6528806,-81.7841469,-93.3133625,-111.5621291,-117.6933882,-83.9200147,-122.4690923,-72.9772052,-123.0350176,-111.9931401,-88.4093984,-87.9690169,-117.309149,-122.3043688,-96.5738493,-112.5013942,-121.1811222,-121.3352428,-89.8427102,-92.1020266,-88.0368551,-87.8972725,-110.8998957,-122.8908472,-80.7688395,-73.0340778,-104.7637325,-83.8707742,-91.0465008,-87.5363701,-116.92865,-71.9513754,-111.528697,-80.1990921,-84.704128,-83.1494625,-76.899811,-73.563186,-119.8507507,-92.4607571,-106.595484,-94.6283243,-90.4902891,-81.9084412,-82.176615,-77.0182455,-117.7391591,-122.5964115,-89.0145959,-106.5810659,-84.4718611,-82.1284924,-88.6014427,-83.5480189,-111.7153517,-86.4414806,-76.5404207,-97.0381436,-81.7779581,-70.9229142,-82.1218361,-84.4478928,-74.5363043,-77.384211,-90.1955376,-80.6785674,-117.7984846,-75.6771067,-84.4167094,-84.4754314,-88.9909763,-118.1269528,-76.9911738,-94.8285374,-87.1796286,-84.1876766,-104.6004133,-81.9463201,-87.7722648,-105.0792047,-84.0519014,-116.367522,-73.2545352,-94.4145837,-81.9031052,-85.2703774,-82.7809295,-84.1651117,-123.1411884,-118.3794518,-105.0815406,-118.1850191,-119.2649462,-76.8021022,-93.2082804,-118.5964298,-82.2876631,-73.0801902,-77.5863216,-157.8189501,-84.9611645,-83.45416,-117.6498083,-77.1067237,-69.7073145,-72.595582,-122.6914809,-122.2365335,-84.8391427,-96.7748515,-121.3695435,-90.2336686,-117.2571877,-116.9617915,-81.6290686,-74.0166798,-81.5097052,-78.4524808,-87.6532413,-121.4631786,-104.867667,-120.4990995,-76.968443,-123.108283,-118.1471208,-118.0366123,-75.0022871,-89.9053053,-122.2830028,-80.645168,-86.129808,-105.8783655,-119.0038623,-88.1497543,-117.0522685,-117.1031008,-104.772007,-122.6193665,-81.4294524,-71.5621815,-71.1414485,-76.8060245,-118.8593759,-86.2129746,-79.8093069,-77.2505262,-89.9957721,-87.8918628,-113.2861522,-90.0973878,-88.827967,-90.4690325,-66.1859103,-93.249169,-121.3075728,-117.9082621,-93.2924425,-122.3033032,-115.1957303,-114.2068706,-81.6319421,-97.0484211,-111.607865,-87.5824598,-84.6063367,-117.3032479,-74.184442,-84.1355805,-111.8604239,-71.3245768,-118.1555455,-84.2263465,-95.9952231,-114.5114032,-122.0259049,-82.2671419,-82.9518208,-71.0703632,-79.9368033,-84.4661915,-105.0208384,-121.164918,-122.8585269,-104.7654017,-87.8120769,-71.0694208,-71.2910284,-77.4534501,-104.73514,-77.6998143,-74.2886585,-122.3237353,-73.8827319,-114.8074532,-95.5669269,-74.1186885,-81.3291447,-121.8169777,-111.9232809,-77.0984854,-72.8332512,-84.3974228,-80.3056734,-92.4951952,-77.0045016,-80.186487,-73.9179374,-90.1742553,-104.729947,-82.755215,-74.168588,-124.1798708,-97.7002768,-121.2400729,-76.6083071,-105.1331372,-83.679685,-115.3018253,-118.2031501,-104.9730418,-121.5269312,-77.4819401,-111.9636361,-92.3113125,-77.0062645,-90.0225038,-77.7042829,-76.9930948,-119.6918625,-82.9016155,-121.7056533,-73.954356,-83.2447741,-95.5079947,-77.4259416,-87.7614217,-71.0790559,-89.3658065,-93.2719382,-93.6138932,-117.4800188,-83.7516184,-117.1477111,-96.9288491,-117.8725713,-90.4482449,-84.0972463,-90.0103706,-74.0613945,-121.3179767,-118.4411518,-111.8228853,-107.2215895,-78.0777361,-119.8380025,-81.5602172,-80.207239,-71.1424773,-81.9742659,-74.168169,-87.1745144,-88.0344922,-80.6662956,-71.4136777,-86.7054437,-87.8054366,-84.2571404,-93.7573113,-111.7417151,-111.9339934,-122.2668834,-82.3268903,-105.0047028,-122.6131385,-85.3059832,-105.1828838,-93.2785707,-79.9501574,-96.3445753,-96.4212423,-118.1898523,-104.7991187,-115.1984739,-89.8953467,-82.8213099,-76.0203088,-95.4441139,-92.3427654,-81.424715,-73.0969285,-118.5622047,-79.0776842,-84.7427869,-79.8513513,-117.6958358,-86.1738852,-122.8815393,-83.7096898,-121.7642201,-73.8451396,-105.0109509,-84.4667654,-83.6454864,-80.1173962,-93.2280411,-121.8911828,-119.5492976,-83.3695526,-116.2164629,-121.3260509,-105.1352355,-83.6120626,-87.7380411,-117.0490649,-71.0821193,-122.5721528,-89.7001709,-77.6254137,-76.9850101,-122.5689312,-122.5884602,-74.1245887,-76.3295069,-73.0636497,-81.4709671,-88.3746439,-116.9358977,-74.7178636,-82.0576669,-157.9900179,-92.910852,-122.3904583,-104.7967638,-117.684181,-121.3373166,-78.7042883,-118.4661393,-76.7333148,-75.1251352,-121.2429025,-80.347791,-97.2043101,-84.4432519,-74.6861371],\"text\":[\"Farmville\",\"Worcester City\",\"Harbor Hills\",\"Glen Burnie\",\"Egypt Lake-leto\",\"Lincolnwood\",\"Chicago City\",\"Milwaukee City\",\"Rancho Cucamonga City\",\"San Bruno City\",\"Cincinnati City\",\"Dallas City\",\"Colorado Springs City\",\"Louviers\",\"Napa City\",\"East Cleveland City\",\"Highland Park City\",\"Fairfield City\",\"Washington City\",\"Hartford City\",\"Chicago City\",\"South Pasadena City\",\"Milwaukie City\",\"Carl\",\"Orlovista\",\"Rolling Hills City\",\"Jackson City\",\"Watertown City\",\"Tacoma City\",\"Chillum\",\"University\",\"Murrieta City\",\"Wilmington Manor\",\"Oldsmar City\",\"Pembroke Park\",\"Aetna Estates\",\"Yonkers City\",\"Shaw Heights\",\"Hartford City\",\"Bellerose Terrace\",\"Emeryville City\",\"Washington City\",\"Painesville City\",\"Pineville\",\"Buena Park City\",\"Gridley City\",\"Highgrove\",\"Henderson City\",\"National City City\",\"New York City\",\"Cincinnati City\",\"Rio Linda\",\"Lynwood City\",\"Troy City\",\"Lansdowne\",\"Santa Clara City\",\"Winchester\",\"Conway\",\"Sacramento City\",\"Mapleton City\",\"Seattle City\",\"Rolling Hills City\",\"East Los Angeles\",\"West New York\",\"Vancouver City\",\"Cincinnati City\",\"Santa Susana\",\"Beverly Hills City\",\"Fox Farm-college\",\"Washington City\",\"Antelope\",\"Johnson City City\",\"Colorado Springs City\",\"New York City\",\"Manteca City\",\"St. Louis City\",\"Garden City\",\"Bethel Manor\",\"Santa Susana\",\"Frederick\",\"Hillsboro City\",\"Mount Vernon City\",\"New Britain City\",\"Somerset\",\"Hartford City\",\"Hillsboro City\",\"Methuen Town City\",\"Providence City\",\"Oakland City\",\"Durham City\",\"Hillsboro City\",\"Suwanee City\",\"Glen Ridge\",\"Evergreen Park\",\"Silver Hill\",\"Taneytown City\",\"Chicago City\",\"Council Bluffs City\",\"Providence City\",\"Montgomery Village\",\"Vista City\",\"Woodburn City\",\"Providence City\",\"Signal Hill City\",\"Brisbane City\",\"East Hemet\",\"Robbinsdale City\",\"Linton Hall\",\"Leesburg\",\"Campbell City\",\"El Cajon City\",\"Long Beach City\",\"Jacksonville City\",\"Greeley City\",\"Berkeley Lake City\",\"Lincolnwood\",\"Nichols Hills City\",\"Mount Pleasant City\",\"Fife City\",\"Bowie City\",\"Bridgeport City\",\"Rock Hill City\",\"Washington City\",\"Burbank City\",\"Daly City City\",\"Fort Washington\",\"Castle Rock\",\"Thornton City\",\"Charlotte City\",\"Enterprise\",\"Rancho Cucamonga City\",\"Vallejo City\",\"Indio City\",\"Indian Creek\",\"Sunny Side City\",\"Rosemont\",\"Fairfield City\",\"Hebron\",\"Falcon Heights City\",\"San Fernando City\",\"Simi Valley City\",\"Pittsburgh City\",\"Dallas City\",\"Bliss Corner\",\"El Mirage City\",\"Waterbury City\",\"South Valley Stream\",\"Sherwood Manor\",\"Raleigh City\",\"Webster\",\"Andover\",\"Atlanta City\",\"Pelham Manor\",\"Lexington-fayette\",\"Indio City\",\"Columbus City\",\"Vernon City\",\"New York City\",\"Broadlands\",\"Mayfair\",\"West Perrine\",\"Bayonne City\",\"Windsor\",\"Meadowdale\",\"Wildomar City\",\"Las Vegas City\",\"Centreville\",\"Des Moines City\",\"Central Islip\",\"Rancho Santa Margarita City\",\"Santa Ana City\",\"Greenville City\",\"Denton City\",\"Coronita\",\"Progress Village\",\"Taft Mosswood\",\"Hillsboro City\",\"Signal Hill City\",\"Belmont\",\"Kansas City City\",\"Enterprise\",\"Washington City\",\"Dacono City\",\"Norfolk City\",\"Gretna City\",\"Orange Park\",\"Highlands Ranch\",\"Hidden Hills City\",\"Progress\",\"Washington City\",\"Bonita\",\"Winchester\",\"Gresham City\",\"Hialeah City\",\"Eagan City\",\"Sidney City\",\"San Buenaventura (ventura) City\",\"Jacksonville City\",\"Boston City\",\"Washington City\",\"Denver City\",\"Washington City\",\"Rockville\",\"Purcellville\",\"Frisco City\",\"Northglenn City\",\"Chandler City\",\"West Valley City City\",\"Montclair City\",\"Hidden Valley Lake\",\"Hallandale Beach City\",\"Bakersfield City\",\"East Haven\",\"University\",\"East Orange City\",\"Detroit City\",\"New York City\",\"Newburgh Heights\",\"Daly City City\",\"Highlands Ranch\",\"Bunker Hill Village City\",\"Chicago City\",\"New York City\",\"West Jordan City\",\"Robbinsdale City\",\"Salt Lake City City\",\"Holly Hills\",\"Harwood Heights\",\"Alondra Park\",\"Chicago City\",\"Glen Allen\",\"Hamilton City\",\"Bensley\",\"Midland\",\"Costa Mesa City\",\"Del Aire\",\"Fisher Island\",\"Washington City\",\"Chicago City\",\"Castle Pines Village\",\"Foxfield\",\"Coon Rapids City\",\"Huntersville\",\"Santa Clara City\",\"Shenandoah City\",\"Hidden Hills City\",\"Bailey's Crossroads\",\"Burke Centre\",\"National City City\",\"Cedar Rapids City\",\"South Valley Stream\",\"Westminster City\",\"Paradise Valley\",\"Robbinsdale City\",\"Yakima City\",\"Murrieta City\",\"West Hollywood City\",\"Suisun City City\",\"Richfield City\",\"Oxnard City\",\"Northglenn City\",\"Lathrup Village City\",\"Germantown City\",\"Arvada City\",\"Northwest Harwinton\",\"Todd Creek\",\"Clinton\",\"Harbor Hills\",\"Colorado Springs City\",\"New York City\",\"Maywood Park City\",\"Milwaukee City\",\"Springfield City\",\"Tempe City\",\"Santa Ana City\",\"Spartanburg City\",\"South Hill\",\"Lincoln Village\",\"Jefferson City\",\"Salt Lake City City\",\"Bear\",\"Glendale City\",\"Del Mar City\",\"Glendale City\",\"Jurupa Valley City\",\"Chino City\",\"Santa Monica City\",\"Spanish Fork City\",\"West Hollywood City\",\"Bell City\",\"Largo\",\"Worcester City\",\"Imperial City\",\"Layton City\",\"Montgomery Village\",\"Erie\",\"Highlands Ranch\",\"East Orange City\",\"Norco City\",\"Danville City\",\"Taunton City\",\"Virginia Beach City\",\"Rosaryville\",\"Warwick City\",\"Woonsocket City\",\"Breckenridge\",\"Upland City\",\"Hercules City\",\"Greenacres\",\"Terrytown\",\"Mendota City\",\"Santa Fe City\",\"Seal Beach City\",\"Highland Hills\",\"Rose Hill\",\"Albany City\",\"Gastonia City\",\"Lincolnia\",\"Boonsboro\",\"Bolingbrook\",\"Lochbuie\",\"Westminster City\",\"Pawtucket City\",\"Bell Canyon\",\"Walnut City\",\"Detroit City\",\"Glendale City\",\"Springfield City\",\"Carson City\",\"Norridge\",\"Laurel City\",\"East Ridge City\",\"Highland City\",\"Rochester City\",\"National Harbor\",\"Milliken\",\"Somerset\",\"Merrifield\",\"Spanish Springs\",\"Heeney\",\"Gretna City\",\"Fontana City\",\"Jersey Village City\",\"Southfield City\",\"Avocado Heights\",\"Landfall City\",\"East Orange City\",\"Fargo City\",\"Pasadena City\",\"Warrenville City\",\"Bliss Corner\",\"Auburn City\",\"Mesa City\",\"West Haverstraw\",\"Millvale\",\"Preston Heights\",\"Jurupa Valley City\",\"Portsmouth City\",\"Bellerose Terrace\",\"Salt Creek\",\"Schall Circle\",\"Larkspur\",\"Mount Vernon City\",\"Olivehurst\",\"Phoenix City\",\"Clearfield City\",\"Chicago City\",\"Piedmont City\",\"Denver City\",\"Rancho Cucamonga City\",\"Virginia Beach City\",\"Philadelphia City\",\"Evergreen Park\",\"Woodhaven City\",\"Bellair-meadowbrook Terrace\",\"King Of Prussia\",\"Fruit Cove\",\"East Patchogue\",\"Westmont\",\"Falmouth\",\"Yorktown\",\"Phoenix City\",\"College Park City\",\"Foxfield\",\"Chicago City\",\"Washington City\",\"Yankee Hill\",\"Brookfield\",\"Tolleson City\",\"Spanaway\",\"Bridgeport City\",\"Kokomo City\",\"Valleyview\",\"Orange Park\",\"Rialto City\",\"Leominster City\",\"New Cassel\",\"West Covina City\",\"Dakota Ridge\",\"Quincy City\",\"Virginia Beach City\",\"Port Vue\",\"Longmont City\",\"Plano City\",\"Glendale Heights\",\"Rialto City\",\"Palm Valley\",\"Brockton City\",\"Meadowbrook\",\"Orange City City\",\"Springfield City\",\"Preston Heights\",\"New York City\",\"Maywood Park City\",\"Lowell City\",\"Ithaca City\",\"Cleveland City\",\"Suitland\",\"Allen City\",\"Kennesaw City\",\"White Center\",\"Kearns\",\"Sharpsburg\",\"Tallahassee City\",\"San Fernando City\",\"Gladeview\",\"Northwood City\",\"Lathrop City\",\"North Lauderdale City\",\"Midway City\",\"Virginia Beach City\",\"Milwaukie City\",\"Shenandoah\",\"Lowell City\",\"Villa Rica City\",\"Highland Park City\",\"Westmont\",\"Albany City\",\"Charleston City\",\"Charlestown City\",\"Rancho Cucamonga City\",\"Fort Collins City\",\"Pinardville\",\"Beverly Hills City\",\"Crestview City\",\"Neabsco\",\"Rockford City\",\"Litchfield Park City\",\"Atlantic City City\",\"Glendale City\",\"Glenarden City\",\"Catonsville\",\"Miami City\",\"Tyrone\",\"Mobile City\",\"La Habra City\",\"Kettering City\",\"Fircrest City\",\"San Fernando City\",\"Sturgis City\",\"Freeport\",\"Longmont City\",\"Ypsilanti City\",\"Orange City\",\"San Fernando City\",\"Hillcrest Heights\",\"Beverly Hills City\",\"Fairbanks City\",\"Lyncourt\",\"Brinckerhoff\",\"Marion City\",\"Stamford City\",\"Napa City\",\"Lennox\",\"Greenwood Village City\",\"Hogansville City\",\"Centreville\",\"Stockbridge City\",\"Bella Villa City\",\"Calumet Park\",\"Stockton City\",\"Foxfield\",\"Lawrence City\",\"Calumet Park\",\"Sanford City\",\"Wauwatosa City\",\"North Charleston City\",\"Washington Grove\",\"Belville\",\"North Valley\",\"Hillandale\",\"Foxfield\",\"El Cerrito\",\"Santa Monica City\",\"Chesilhurst\",\"Lowell City\",\"San Diego City\",\"Thornton City\",\"Oak Ridge\",\"Boise City City\",\"Lincolnville\",\"Oakland City\",\"Milton City\",\"Fairfield City\",\"Tarpey Village\",\"Harrisburg\",\"North Fair Oaks\",\"Burnsville City\",\"Washington City\",\"St. Louis City\",\"San Jose City\",\"Roselle Park\",\"Brock Hall\",\"Perth Amboy City\",\"East Newark\",\"Glendale City\",\"Warwick City\",\"Seven Corners\",\"Alameda City\",\"Washington City\",\"Ball Ground City\",\"Stonegate\",\"Winchester\",\"Beverly Hills City\",\"Salt Creek\",\"Smyrna\",\"Plainfield Village\",\"Maywood Park City\",\"Downey City\",\"Huntington\",\"Acton\",\"Signal Hill City\",\"Sheridan City\",\"San Jose City\",\"Potterville City\",\"The Pinery\",\"View Park-windsor Hills\",\"Grandview City\",\"Lee's Summit City\",\"Dish\",\"Thermalito\",\"Millvale\",\"Cherry Hill\",\"Parker\",\"Montgomery City\",\"Danbury City\",\"Torrington City\",\"Nokesville\",\"Silverdale\",\"Washington City\",\"St. Louis City\",\"Bloomington\",\"Golf Manor\",\"Newport News City\",\"Hawthorne City\",\"Bonita\",\"West Lafayette City\",\"Evergreen Park\",\"Putnam\",\"North Valley Stream\",\"Hialeah City\",\"East Cleveland City\",\"Lakeside\",\"Spring Valley Village City\",\"Cottage Grove\",\"Phoenix City\",\"Hidden Hills City\",\"Valleyview\",\"Boston City\",\"Coppell City\",\"Douglasville City\",\"Meadowbrook\",\"Forest View\",\"Grapevine City\",\"North Miami City\",\"Upland City\",\"Orchard Lake Village City\",\"Lemon Grove City\",\"Landfall City\",\"Fullerton City\",\"Gaithersburg City\",\"Newburgh City\",\"Deltona City\",\"Carson City\",\"Tucson City\",\"Snoqualmie Pass\",\"Lake Winnebago City\",\"Renton City\",\"San Fernando City\",\"Florence-graham\",\"Lawrence City\",\"University Park City\",\"Willimantic\",\"Fruitridge Pocket\",\"Damascus\",\"Waynesboro\",\"Burbank City\",\"Northdale\",\"South Miami Heights\",\"Tracy City\",\"Pine Lake City\",\"Yeadon\",\"North Randall\",\"Baltimore City\",\"Foxfield\",\"Mayfair\",\"Jefferson\",\"Quartz Hill\",\"White City\",\"Five Corners\",\"Peoria City\",\"Falmouth\",\"Southfield City\",\"Chalco\",\"Norfolk City\",\"Rosaryville\",\"Salem City\",\"Lowell City\",\"New York City\",\"Citrus Park\",\"Home Gardens\",\"Chicago City\",\"Panthersville\",\"Mcnair\",\"Inglewood City\",\"Pembroke Park\",\"Winston-salem City\",\"Bakersfield City\",\"Woodridge\",\"Lacey City\",\"Washington City\",\"Daly City City\",\"North Valley Stream\",\"Todd Creek\",\"Redan\",\"Freemansburg\",\"White Plains City\",\"Inglewood City\",\"New York City\",\"Chicago City\",\"Douglasville City\",\"Lakeview\",\"Orem City\",\"Lexington-fayette\",\"Santa Barbara City\",\"Thunderbolt\",\"Denver City\",\"Kendall\",\"Kent City\",\"Saw Creek\",\"Santa Clarita City\",\"Valley Stream\",\"Senoia City\",\"Chico City\",\"Burbank City\",\"Millersburg City\",\"Greeley City\",\"Fairfield City\",\"Collingdale\",\"Palm Beach Gardens City\",\"South Pasadena City\",\"Jacksonville City\",\"Fond Du Lac City\",\"Granite Hills\",\"Crystal City\",\"Hawthorne City\",\"Alameda City\",\"Mountain View\",\"Aurora City\",\"Camp Springs\",\"Forest Acres City\",\"Woods Cross City\",\"Dale City\",\"Wailuku\",\"Spotsylvania Courthouse\",\"North Lauderdale City\",\"Four Corners\",\"San Pasqual\",\"Bergenfield\",\"Rio Pinar\",\"Hempstead\",\"Lexington-fayette\",\"Frederickson\",\"Calimesa City\",\"Mount Vernon City\",\"Lawrenceville City\",\"West Puente Valley\",\"Yuba City City\",\"San Mateo City\",\"New York City\",\"Beresford City\",\"Phenix City City\",\"Columbus City\",\"Cimarron Hills\",\"Boise City City\",\"La Puente City\",\"Salisbury City\",\"Mansfield City\",\"Marina City\",\"Vernon City\",\"Bethel Manor\",\"Novato City\",\"Fort Wayne City\",\"Pontiac City\",\"Temecula City\",\"Mobile City\",\"Roeland Park City\",\"Mount Airy\",\"Orrville City\",\"Berlin City\",\"Ko Olina\",\"Brentwood City\",\"Brambleton\",\"Washington City\",\"San Dimas City\",\"Bowie City\",\"Harrisville City\",\"Village Of Clarkston City\",\"Washington City\",\"Mckinney City\",\"Forestville\",\"Forest View\",\"Woodbourne\",\"Hughson City\",\"Spring Ridge\",\"Lowell City\",\"Glendora City\",\"Evergreen Park\",\"Chino City\",\"Medulla\",\"Gresham Park\",\"Heath City\",\"East Orange City\",\"New York City\",\"South Gate City\",\"Costa Mesa City\",\"Mcdonough City\",\"Franklin City\",\"Stratmoor\",\"Roaming Shores\",\"New York City\",\"Santee City\",\"Berkley\",\"Heber City\",\"Oak Park\",\"Gotha\",\"Crystal City\",\"West New York\",\"Glendale City\",\"Jackson City\",\"Lemon Grove City\",\"Whitehall City\",\"East Riverdale\",\"Mercer Island City\",\"Spanish Springs\",\"Wheat Ridge City\",\"Flushing City\",\"Charlotte City\",\"Temecula City\",\"Memphis City\",\"Hanover Park\",\"Norfolk City\",\"Marshall City\",\"Milpitas City\",\"Layton City\",\"Rancho Cucamonga City\",\"East Hartford\",\"Boston City\",\"Bellerose Terrace\",\"Council Bluffs City\",\"Evanston City\",\"Gilbert\",\"Cimarron Hills\",\"Joliet City\",\"Kenner City\",\"West Milwaukee\",\"New York City\",\"Groveton\",\"Frederick\",\"Miami Gardens City\",\"Rio Linda\",\"Aurora City\",\"Aquilla\",\"Vernonburg\",\"Brandon\",\"Mount Airy\",\"Fountain City\",\"Sheridan City\",\"Glen Cove City\",\"New Carrollton City\",\"Garrison\",\"Edgewater City\",\"Akron City\",\"Coral Springs City\",\"Makakilo\",\"Denver City\",\"Lantana\",\"Spring Valley Village City\",\"Commerce City City\",\"Colorado Springs City\",\"Lakewood City\",\"Minneapolis City\",\"Fort Lauderdale City\",\"Jacksonville City\",\"Northglenn City\",\"Escondido City\",\"Lincolnville\",\"Waynesboro City\",\"Evergreen Park\",\"Arlington\",\"Santa Clarita City\",\"Terryville\",\"Brooklyn Park City\",\"Charlotte City\",\"Greensboro City\",\"Brandon\",\"Bakersfield City\",\"Jacksonville City\",\"Randolph\",\"Whitney\",\"Fayetteville City\",\"Lodi City\",\"Temecula City\",\"Alondra Park\",\"Middleton City\",\"Hidden Hills City\",\"Grand Forks City\",\"Westmont\",\"Thunderbolt\",\"Aurora City\",\"South Greeley\",\"New York City\",\"Irondale\",\"Washington City\",\"Wollochet\",\"Town And Country\",\"Brooklet City\",\"North Highlands\",\"Daly City City\",\"Clovis City\",\"Gresham Park\",\"Milton\",\"Durango City\",\"Waxhaw\",\"Largo City\",\"Clinton City\",\"Maywood Park City\",\"East Hartford\",\"St. Louis City\",\"Hanford City\",\"East Hartford\",\"Lakeside\",\"Crystal City\",\"Parma Heights City\",\"North Randall\",\"Hempstead\",\"Raleigh City\",\"Avondale Estates City\",\"Pine Lake City\",\"Columbus City\",\"Burbank City\",\"San Diego City\",\"Minneapolis City\",\"Fairburn City\",\"Dakota Ridge\",\"Sunrise Manor\",\"Green Valley\",\"Scotland Neck\",\"Campbell City\",\"San Bernardino City\",\"Prospect Heights City\",\"Stafford Courthouse\",\"Garfield City\",\"Margate City\",\"Fulton\",\"Brownsville\",\"Commerce City City\",\"Robbinsdale City\",\"Statesville City\",\"Thornton City\",\"Redlands City\",\"Lowell City\",\"Sunny Isles Beach City\",\"Spring Valley\",\"Harrisburg City\",\"Shorewood\",\"Saline City\",\"Mitchellville\",\"Fruit Cove\",\"University\",\"Eastvale City\",\"Orinda City\",\"Fairbanks Ranch\",\"Atlanta City\",\"East Orange City\",\"Montgomery City\",\"Hidden Hills City\",\"Billings City\",\"Glendale City\",\"Mountain View\",\"Florence-graham\",\"Hasbrouck Heights\",\"Clive City\",\"Greenfield Town City\",\"East Point City\",\"West Springfield\",\"Cloverdale\",\"Elsmere\",\"Andover City\",\"Martinez\",\"Sterling\",\"Vista City\",\"Thompsonville\",\"Howell City\",\"Muscatine City\",\"View Park-windsor Hills\",\"Lyons\",\"Goldsboro City\",\"Alhambra City\",\"Lakewood City\",\"Minneapolis City\",\"Logan City\",\"Eastmont\",\"Sandusky City\",\"Kihei\",\"Pelham Manor\",\"Minerva Park\",\"Pelham Manor\",\"Apple Valley\",\"Somerville City\",\"Huntsville City\",\"Lemoore City\",\"Portsmouth City\",\"Fillmore City\",\"Sheridan City\",\"Chickasaw City\",\"West Rancho Dominguez\",\"Orangevale\",\"Madison\",\"Shively City\",\"Shaw Heights\",\"Loveland City\",\"Madison City\",\"Lowell City\",\"Frankfort City\",\"New York City\",\"Carl\",\"Escondido City\",\"Oak Grove\",\"St. Paul City\",\"Delaware City City\",\"Moore City\",\"Sparks City\",\"Sanford City\",\"Clovis City\",\"Johns Creek City\",\"Orem City\",\"Versailles City\",\"Tallahassee City\",\"Gresham City\",\"Chicago City\",\"Hazel Park City\",\"Pomona City\",\"Seattle City\",\"Santa Susana\",\"Beloit City\",\"Farmerville\",\"New York City\",\"Fort Collins City\",\"West Liberty\",\"Rolling Hills City\",\"Hayward City\",\"Englewood City\",\"Payne City\",\"Greenacres\",\"Roberts\",\"Kannapolis City\",\"Pueblo West\",\"Fort Washington\",\"Montara\",\"Raytown City\",\"Iselin\",\"Meridian City\",\"Wausau City\",\"Belleville City\",\"Winchester City\",\"Austell City\",\"Santa Monica City\",\"South Pasadena City\",\"Altamont\",\"Pecan Grove\",\"Gallup City\",\"Herndon\",\"Powder Springs City\",\"Freeport\",\"Redding City\",\"Lowell City\",\"Cheyenne City\",\"Indian Creek\",\"Santa Maria City\",\"Swansea\",\"Germantown\",\"Vernonburg\",\"Spanish Fork City\",\"Lantana\",\"Commerce City City\",\"Manchester\",\"Fullerton City\",\"Lowell City\",\"Canton City\",\"Westover Hills\",\"Wilmington City\",\"Meriden City\",\"Chandler City\",\"Drexel Heights\",\"Banks City\",\"Marina Del Rey\",\"Marietta City\",\"Fridley City\",\"Vallejo City\",\"Georgetown\",\"Aspen Hill\",\"River Falls City\",\"Tanglewilde\",\"Rivergrove City\",\"Wallington\",\"Spokane City\",\"Auburn City\",\"Charlotte City\",\"Union City City\",\"Saticoy\",\"Costa Mesa City\",\"Milwaukee City\",\"Englewood City\",\"New York City\",\"Avon City\",\"Woodlake City\",\"Santa Susana\",\"Brooklyn Center City\",\"North Babylon\",\"Iowa City City\",\"Moorhead City\",\"Newington\",\"El Cajon City\",\"Kaukauna City\",\"Martinez\",\"Bel Aire City\",\"San Jose City\",\"Durham City\",\"Lansdowne\",\"Altadena\",\"La Mesa City\",\"Farmington City\",\"Terrebonne\",\"Marlboro Meadows\",\"Buena Park City\",\"New York City\",\"Overland Park City\",\"Garden Grove City\",\"La Crescenta-montrose\",\"New York City\",\"Oregon City City\",\"Manchester\",\"Chalmette\",\"Hawaiian Gardens City\",\"Golden Valley\",\"Yellow Springs\",\"Ypsilanti City\",\"Plymouth City\",\"Arabi\",\"Huntersville\",\"El Portal\",\"Springdale\",\"Roselle\",\"Washington City\",\"Washington City\",\"Las Vegas City\",\"Summerside\",\"Camas City\",\"Irvine City\",\"Forest Heights\",\"Princeton Meadows\",\"Jersey Village City\",\"Willimantic\",\"Seattle City\",\"Marietta City\",\"West Fargo City\",\"Encinitas City\",\"Crystal Lake City\",\"Deer Park City\",\"East Rancho Dominguez\",\"Wakefield-peacedale\",\"Cedar Rapids City\",\"Burbank\",\"Proctor City\",\"Longmont City\",\"Baltimore City\",\"North Amityville\",\"Haymarket\",\"College Station\",\"Cinco Ranch\",\"Avon\",\"Byram Center\",\"Oroville City\",\"Glendale City\",\"Westlake\",\"Willowbrook\",\"Urban Honolulu\",\"Milton\",\"Union Beach\",\"Albany City\",\"Flower Mound\",\"Sunrise Manor\",\"Ellicott\",\"Ewa Villages\",\"Jacksonville City\",\"Glenn Dale\",\"Tempe City\",\"Iona City\",\"Rochester City\",\"Norfolk City\",\"Los Angeles City\",\"Culver City City\",\"Snellville City\",\"Charlotte City\",\"Empire\",\"Canton City\",\"Lakewood City\",\"Eastmont\",\"Linton Hall\",\"Huntsville City\",\"Chicago City\",\"Woonsocket City\",\"Overlea\",\"New York City\",\"Plantsville\",\"Hampton City\",\"Beecher\",\"Salmon Creek\",\"Mcpherson City\",\"Rockwood\",\"Austell City\",\"Kenmore City\",\"Spring Grove\",\"Westminster City\",\"South Floral Park\",\"San Diego City\",\"Albany City\",\"South Lake Tahoe City\",\"Dover\",\"Bellerose Terrace\",\"Gary City\",\"Lynwood City\",\"Dayton City\",\"Alum Rock\",\"Ballenger Creek\",\"Happy Valley City\",\"Doraville City\",\"Bradenton City\",\"Old Jamestown\",\"Spokane City\",\"Doraville City\",\"Ferry Pass\",\"Sugar Hill City\",\"Boulder City City\",\"Clayton\",\"Rockville\",\"Tamiami\",\"Washougal City\",\"Rochester City\",\"Turlock City\",\"Ansonia City\",\"Westmont\",\"Manchester City\",\"Mount Pleasant\",\"Washington City\",\"Peachtree Corners City\",\"Washington Court House City\",\"Southfield City\",\"Simi Valley City\",\"Fair Oaks\",\"Camas City\",\"French Island\",\"Burns\",\"Iowa City City\",\"St. Anthony City\",\"Denver City\",\"Yankee Hill\",\"Gilbert\",\"Dekalb City\",\"Tracy City\",\"Lincolnwood\",\"Federal Heights City\",\"Hilshire Village City\",\"Minneapolis City\",\"Windsor Heights City\",\"Lafayette City\",\"Sacramento City\",\"Norwalk City\",\"Smith Corner\",\"Topanga\",\"Newnan City\",\"Las Vegas City\",\"Hacienda Heights\",\"Gulfport City\",\"Sun City\",\"Shively City\",\"Stockbridge City\",\"Lincolnwood\",\"Daly City City\",\"Duquesne City\",\"Columbia\",\"Arimo City\",\"Janesville City\",\"Lincolnia\",\"Palm Springs North\",\"Homestead City\",\"Port Richey City\",\"Olean City\",\"Provo City\",\"West Reading\",\"Greenwater\",\"Lochearn\",\"Towson\",\"Inglewood City\",\"South Salt Lake City\",\"Holly Hills\",\"Temelec\",\"Washington City\",\"Roseville City\",\"Richmond City\",\"New York City\",\"Fircrest City\",\"Washington Grove\",\"Redan\",\"Arabi\",\"Hanover Park\",\"Harrisville City\",\"Parker City\",\"Daly City City\",\"Williamstown\",\"Aspen City\",\"New York City\",\"Baldwin Park City\",\"Glendale City\",\"Lomita City\",\"Atlanta City\",\"Washington City\",\"Nichols Hills City\",\"Sunrise Manor\",\"Loveland Park\",\"Cherry Creek\",\"Oak Park Heights City\",\"Hidden Hills City\",\"Grand Junction City\",\"Homosassa\",\"Gloucester Point\",\"Tualatin City\",\"Santa Clara City\",\"National City City\",\"New York City\",\"Parkway\",\"Eagle Mountain City\",\"Sultan City\",\"Latrobe\",\"Logan Creek\",\"New York City\",\"Glen Allen\",\"Harper Woods City\",\"Bel Air North\",\"Lakewood City\",\"Garden City City\",\"Ojus\",\"Mckinney City\",\"Chesapeake Ranch Estates\",\"Mount Vernon City\",\"St. Paul City\",\"Dakota Ridge\",\"Vallejo City\",\"St. Louis Park City\",\"Pelham Manor\",\"Warren Park\",\"Lowell City\",\"Granite Hills\",\"Oshkosh City\",\"Blaine City\",\"Chicago City\",\"Seymour City\",\"Mount Airy\",\"Moreno Valley City\",\"Bon Air\",\"Aurora City\",\"Folsom City\",\"Gretna City\",\"Lexington Park\",\"Rodney Village\",\"East Haven\",\"Addison\",\"Arabi\",\"Lakewood City\",\"Cudahy City\",\"Gary City\",\"Oakdale City\",\"Harrison\",\"Marysville City\",\"Evanston City\",\"West Whittier-los Nietos\",\"Storrs\",\"Eagle Mountain City\",\"Oak Park\",\"Riverside City\",\"Glendora City\",\"Milwaukee City\",\"Fairview\",\"Revere City\",\"Peekskill City\",\"Pueblo City\",\"Allentown City\",\"Westminster City\",\"Oakville\",\"Nampa City\",\"San Fernando City\",\"Oak Park City\",\"Plymouth Meeting\",\"Randallstown\",\"Sterling Heights City\",\"El Centro City\",\"Arcadia\",\"Berry Hill City\",\"Cuyahoga Heights\",\"Shawnee Hills\",\"Country Homes\",\"Marlton\",\"Monroe City\",\"Redan\",\"Jacksonville City\",\"Oceanside City\",\"Avilla\",\"Modesto City\",\"Frederick City\",\"Los Alamos\",\"Columbus City\",\"Savage\",\"Cheyenne City\",\"Columbine\",\"Florence-graham\",\"Shorewood Hills\",\"Cameron Park\",\"Albany City\",\"Rome City\",\"Fair Oaks\",\"Jacksonville City\",\"Ken Caryl\",\"Green Cove Springs City\",\"South Riding\",\"Port Angeles City\",\"Lincoln City\",\"Gretna City\",\"Newport City\",\"Cleveland City\",\"Yorba Linda City\",\"Baltimore City\",\"Cincinnati City\",\"Greeley City\",\"Castle Rock\",\"South Bend City\",\"Rancho Cucamonga City\",\"Redan\",\"Brighton City\",\"Glendale City\",\"Canton City\",\"Berkeley City\",\"Pakala Village\",\"Apple Valley City\",\"Powder Springs City\",\"Detroit City\",\"South Ogden City\",\"Kemah City\",\"Shorewood\",\"Bayam\\u00f3n\",\"Amesbury Town City\",\"Canton City\",\"Clovis City\",\"Greer City\",\"Tracy City\",\"Columbine\",\"South Pasadena City\",\"Merced City\",\"Oakland City\",\"Harrisburg\",\"North Las Vegas City\",\"National City City\",\"San Marcos City\",\"New York City\",\"Hempstead\",\"Santa Clarita City\",\"Dove Valley\",\"Calhan\",\"Sheridan City\",\"Montclair City\",\"Camarillo City\",\"Mackenzie\",\"Charlotte City\",\"Midway\",\"El Segundo City\",\"Desoto City\",\"Millington City\",\"Black Eagle\",\"Janesville City\",\"New York City\",\"Lincolnwood\",\"Piedmont City\",\"West Milwaukee\",\"Buenaventura Lakes\",\"West Slope\",\"Raleigh City\",\"Owings Mills\",\"Citrus Heights City\",\"Chicago City\",\"Minneapolis City\",\"Rancho Cucamonga City\",\"Salida\",\"Valrico\",\"Carrollton City\",\"Gahanna City\",\"Northdale\",\"Hubbard City\",\"Woodmore\",\"Molalla City\",\"Seattle City\",\"Bridgewater\",\"New York City\",\"New York City\",\"North Tustin\",\"Gates\",\"Sleepy Hollow\",\"Farmers Branch City\",\"Festus City\",\"Oak Grove\",\"Home Garden\",\"Bellerose Terrace\",\"Healdsburg City\",\"Culver City City\",\"Mount Morris City\",\"Cooper City City\",\"Meriden City\",\"Millington City\",\"Cortland\",\"Bristol City\",\"Dacula City\",\"Parker\",\"East Orange City\",\"Taylorsville City\",\"Timnath\",\"Olga\",\"Hamtramck City\",\"Montclair\",\"Burbank City\",\"Vista City\",\"East Lake-orient Park\",\"Provo City\",\"San Fernando City\",\"Piedmont City\",\"St. Paul Park City\",\"University\",\"Highgrove\",\"Villa Rica City\",\"Lake Forest City\",\"Lincolnwood\",\"Charleston City\",\"Lakeshore\",\"Clovis City\",\"New Hope City\",\"Little Elm City\",\"Bernalillo\",\"Croton-on-hudson\",\"Glendale City\",\"Covina City\",\"Cornelius City\",\"Salisbury City\",\"Alum Rock\",\"Auburn City\",\"San Dimas City\",\"Salt Lake City City\",\"Montgomery City\",\"Emeryville City\",\"San Bruno City\",\"Coronita\",\"Fruitridge Pocket\",\"Albuquerque City\",\"Shingle Springs\",\"Hawthorne City\",\"Arlington\",\"West Milwaukee\",\"Butler\",\"Highland City\",\"Laporte\",\"Clovis City\",\"Leonia\",\"Palmdale City\",\"Delaware City\",\"El Mirage City\",\"Auburn City\",\"Memphis City\",\"Paterson City\",\"Point Mackenzie\",\"Medina City\",\"Revere City\",\"Riverdale Park\",\"Passaic City\",\"Welby\",\"Maple Grove City\",\"Arlington\",\"Baldwin Park City\",\"East Lansing City\",\"Lytle Creek\",\"Madison Heights City\",\"Plymouth\",\"Brice\",\"Crestline\",\"Bliss Corner\",\"Aurora City\",\"Temple Terrace City\",\"Eagan City\",\"Clay\",\"Brice\",\"Edgemoor\",\"Shakopee City\",\"Miami Gardens City\",\"Montrose\",\"Berkley\",\"Sayre\",\"Baltic\",\"Dallas City\",\"Aliquippa City\",\"Washington City\",\"Scottsdale City\",\"Murray City\",\"Fort Worth City\",\"Hagerstown City\",\"Columbus City\",\"Tempe City\",\"Ladera Heights\",\"West Modesto\",\"Spring Valley\",\"Denver City\",\"Glendale City\",\"Temperance\",\"Smyrna\",\"Panthersville\",\"Naugatuck\",\"Stafford\",\"Santa Susana\",\"West Point City\",\"Albuquerque City\",\"Florin\",\"Providence City\",\"The Woodlands\",\"Pomona City\",\"Linndale\",\"Maywood City\",\"Cornwells Heights\",\"New York City\",\"Little Falls City\",\"Wetherington\",\"Farmers Branch City\",\"Berkley\",\"University Park City\",\"La Habra City\",\"Vacaville City\",\"Champlin City\",\"Shakopee City\",\"Littleton City\",\"Swartz Creek City\",\"Grayson City\",\"Chicago City\",\"Lexington Park\",\"Socastee\",\"South Apopka\",\"Kennesaw City\",\"Hartford\",\"Southgate\",\"St. Louis City\",\"Blaine City\",\"Topanga\",\"Escondido City\",\"Granite City City\",\"Country Homes\",\"Upper Bear Creek\",\"Oak Ridge\",\"Murrieta City\",\"Somerville City\",\"Hilliard City\",\"Elk Grove City\",\"Fredericksburg City\",\"Santa Barbara City\",\"Worcester City\",\"Lakeside\",\"Corcoran City\",\"Homestead City\",\"Cumming City\",\"Bridge City\",\"Chalmette\",\"Azalea Park\",\"Lee's Summit City\",\"Crooked Creek\",\"Rancho San Diego\",\"Bliss Corner\",\"Lawton City\",\"Charlotte City\",\"Chicago City\",\"Toledo City\",\"Russell Springs City\",\"Tigard City\",\"Broomfield City\",\"San Fernando City\",\"Albuquerque City\",\"New California\",\"Charlotte City\",\"Renton City\",\"Woodbury Heights\",\"North Marysville\",\"Philadelphia City\",\"Des Moines City\",\"Marion City\",\"Gilroy City\",\"Carlisle City\",\"Windsor\",\"Newport City\",\"Thornton City\",\"Wynnedale\",\"Fussels Corner\",\"Kettering City\",\"National City City\",\"Evanston City\",\"Bowling Green City\",\"Laurel City\",\"Florissant City\",\"Pikesville\",\"Dakota Ridge\",\"August\",\"Plainedge\",\"Murrieta City\",\"Durham City\",\"Joppatowne\",\"Upland City\",\"Jurupa Valley City\",\"Lincoln City\",\"East Meadow\",\"Pueblo City\",\"Union City City\",\"Highland Park\",\"Aventura City\",\"Milwaukee City\",\"Oxnard City\",\"Dublin City\",\"Holly Hills\",\"National City City\",\"Pollock Pines\",\"Watertown Town City\",\"Naranja\",\"South San Jose Hills\",\"Susanville City\",\"Kingstowne\",\"Sherrelwood\",\"Lincolnwood\",\"Stamford City\",\"Dania Beach City\",\"Edgewood\",\"Vinton\",\"Chicago City\",\"Las Vegas City\",\"San Leandro City\",\"Addison\",\"Mountain View\",\"Bellair-meadowbrook Terrace\",\"Guadalupe\",\"Frederick\",\"Pine Hills\",\"Canfield City\",\"Lake Orion\",\"Charlotte City\",\"Foxfield\",\"Healdsburg City\",\"Reno City\",\"Signal Hill City\",\"Niceville City\",\"Burnsville City\",\"Garden City City\",\"Portsmouth City\",\"South Salt Lake City\",\"Utica City\",\"Cedar Hill City\",\"Rosemont\",\"Salida\",\"Ypsilanti City\",\"La Vergne City\",\"Elmira\",\"Barton Hills\",\"Maynard\",\"Land O' Lakes\",\"Placentia City\",\"Mukilteo City\",\"Lawrence City\",\"Milpitas City\",\"Sheboygan City\",\"Rock Springs City\",\"Auburn City\",\"Lincoln Village\",\"Bexley City\",\"West Hartford\",\"Kettering\",\"Pomeroy\",\"Villa Rica City\",\"Florence-graham\",\"St. Francis City\",\"Irondequoit\",\"Portland City\",\"Nellis Afb\",\"Arden-arcade\",\"East Orange City\",\"Pineville\",\"University Heights City\",\"Nichols Hills City\",\"Westmont\",\"Glendale City\",\"Santa Clarita City\",\"Maywood Park City\",\"Sacramento City\",\"Gilroy City\",\"Tetonia City\",\"Klamath Falls City\",\"Castaic\",\"Glenaire City\",\"Placentia City\",\"James Island\",\"Lomita City\",\"Yulee\",\"Portland City\",\"San Marcos City\",\"St. Paul City\",\"Eugene City\",\"Medina City\",\"San Diego City\",\"Santa Susana\",\"Norwich City\",\"Carrollton\",\"Brooks\",\"Milwaukee City\",\"Withamsville\",\"Carmichael\",\"Cumberland\",\"Clermont\",\"Forest Park City\",\"Lowell City\",\"Madras City\",\"New Milford\",\"Seattle City\",\"Westphalia\",\"Palo City\",\"University City City\",\"Sharpsburg\",\"St. Augustine City\",\"Winchester\",\"Summerlin South\",\"Camarillo City\",\"Springdale City\",\"Colesville\",\"Aquia Harbour\",\"Escondido City\",\"Franconia\",\"Pajarito Mesa\",\"Sandston\",\"Bellflower City\",\"Portsmouth City\",\"Orem City\",\"Centerville City\",\"View Park-windsor Hills\",\"Streamwood\",\"Jacksonville City\",\"East Cleveland City\",\"Minneapolis City\",\"Independence City\",\"Simpsonville City\",\"Bel Air North\",\"Signal Hill City\",\"Hope Mills\",\"Havelock City\",\"Tappahannock\",\"Trenton City\",\"St. Petersburg City\",\"Prescott Valley\",\"Fayetteville City\",\"Brockton City\",\"Capitol Heights\",\"Wood Village City\",\"Brown Deer\",\"Central Islip\",\"Caledonia\",\"Canton City\",\"Dacono City\",\"Chicago City\",\"Lake Angelus City\",\"Oak Park Heights City\",\"Mount Vernon City\",\"Mercerville\",\"Milpitas City\",\"Citrus Heights City\",\"Myrtle Grove\",\"Greenwood City\",\"Victoria City\",\"Elizabethtown\",\"Wilder City\",\"Cottage Grove City\",\"Miami Gardens City\",\"East Highland Park\",\"Lawrenceville City\",\"Modesto City\",\"Cooper City City\",\"Carson City\",\"West Haven City\",\"Apple Valley City\",\"North Las Vegas City\",\"Paducah City\",\"Yeadon\",\"North Valley Stream\",\"Harrisburg\",\"Charter Oak\",\"Baltimore City\",\"Phoenixville\",\"Chain Lake\",\"Lakeville City\",\"Rochester City\",\"Salem City\",\"Lutz\",\"Canonsburg\",\"Portland City\",\"Caledonia\",\"Madison City\",\"Weymouth Town City\",\"Woodstock City\",\"Daly City City\",\"Somerset\",\"Lakeville City\",\"Millington City\",\"South Apopka\",\"Maple Valley City\",\"Oxnard City\",\"Vine Hill\",\"Goulding\",\"Mayfair\",\"Cumming City\",\"Salem City\",\"Conway\",\"Lexington-fayette\",\"Lochearn\",\"Dakota Ridge\",\"Huntersville\",\"Hayesville\",\"Panthersville\",\"Providence City\",\"Coto De Caza\",\"River Forest\",\"Oakville\",\"Stickney\",\"Cambrian Park\",\"Lake Marcel-stillwater\",\"Buttonwillow\",\"Menomonie City\",\"Bemidji City\",\"Pasadena City\",\"Mishawaka City\",\"Rome City\",\"Canyon Lake City\",\"Murrieta City\",\"Birmingham City\",\"Nebraska City City\",\"Chalmette\",\"Holly Hills\",\"Silverton City\",\"El Lago City\",\"Chelsea City\",\"New Square\",\"La Habra City\",\"Mesa City\",\"Peachtree City City\",\"Gonzales City\",\"Kenyon City\",\"St. Clair City\",\"Minerva Park\",\"Burnsville City\",\"Florin\",\"Bostonia\",\"Atlanta City\",\"Tucson City\",\"Woodbury City\",\"Mansfield City\",\"New Albany City\",\"Raleigh City\",\"Berkley City\",\"El Sobrante\",\"Colleyville City\",\"Chowchilla City\",\"North Branch City\",\"Emeryville City\",\"Emeryville City\",\"Brodheadsville\",\"Hoyt City\",\"Providence City\",\"Mount Rainier City\",\"West Hollywood City\",\"Fair Oaks\",\"Oak Park\",\"New York City\",\"Macedonia City\",\"Cullman City\",\"Edgewater City\",\"New York City\",\"Temecula City\",\"Vista City\",\"Jersey Village City\",\"Fountain Hills\",\"Greencastle City\",\"West Columbia City\",\"Pleasant Hill City\",\"East Bethel City\",\"Hiram City\",\"St. Louis City\",\"North Richland Hills City\",\"Chicago City\",\"West Milwaukee\",\"San Carlos City\",\"Mason City City\",\"Hallowell City\",\"Greensboro City\",\"Signal Hill City\",\"Edgemont Park\",\"Towson\",\"Pflugerville City\",\"Alexandria City\",\"Center Line City\",\"Sunset Valley City\",\"Wilmington City\",\"New York City\",\"Mcdonough City\",\"Summerville\",\"West Baraboo\",\"Lancaster City\",\"Springfield City\",\"Johns Creek City\",\"Beverly City\",\"Signal Hill City\",\"Jena\",\"East Douglas\",\"Erma\",\"Kearns\",\"South Pasadena City\",\"Independence City\",\"Hayesville\",\"District Heights City\",\"Smyrna\",\"Brawley City\",\"Woonsocket City\",\"Santa Clarita City\",\"St. Cloud City\",\"Brighton\",\"Melville\",\"Newark City\",\"Johns Creek City\",\"Ypsilanti City\",\"Dodgeville City\",\"Turney\",\"Philadelphia City\",\"Lake Caroline\",\"San Fernando City\",\"Jonesboro City\",\"Ypsilanti City\",\"University Park City\",\"Welby\",\"Douglas City\",\"Gretna City\",\"Golf Manor\",\"Santa Clarita City\",\"Roseville City\",\"Turnersville\",\"Queen Creek\",\"Halawa\",\"Costa Mesa City\",\"Bellair-meadowbrook Terrace\",\"Chula Vista City\",\"Clovis City\",\"Baker City\",\"East Rancho Dominguez\",\"Southside Place City\",\"Madison Center\",\"Southaven City\",\"Fort Collins City\",\"North Arlington\",\"St. Clair Shores City\",\"Athens-clarke\",\"East Rancho Dominguez\",\"Fruitvale\",\"Brockton City\",\"Powder Springs City\",\"Highland Beach\",\"Eureka Springs City\",\"Lowell City\",\"New York City\",\"South Park View City\",\"Stockbridge City\",\"Hillsboro City\",\"Wekiwa Springs\",\"Chicago City\",\"Pelham Manor\",\"Bellerose Terrace\",\"Bellerose Terrace\",\"Nassau Bay City\",\"San Fernando City\",\"Fullerton City\",\"East Rancho Dominguez\",\"Portage City\",\"Chicago City\",\"Helena City\",\"Germantown City\",\"Queen Anne\",\"Morningside\",\"Drexel\",\"Dallas City\",\"Cedar Rapids City\",\"Topanga\",\"Freemansburg\",\"Sacramento City\",\"Niles City\",\"North Syracuse\",\"Leesburg\",\"Revere City\",\"Rickardsville City\",\"Boulder Creek\",\"Forest Glen\",\"Bethel Manor\",\"Valley Park City\",\"Green Bay City\",\"Forest Acres City\",\"Vallejo City\",\"Taunton City\",\"Manchester\",\"New Baltimore\",\"London City\",\"Winston-salem City\",\"Chicago City\",\"Santa Maria City\",\"Culver City City\",\"New Hope\",\"Riverside City\",\"Sausalito City\",\"Chinese Camp\",\"Aliso Viejo City\",\"Thunderbolt\",\"Newark City\",\"Lakewood City\",\"West Monroe City\",\"Roeland Park City\",\"Cedar Hills City\",\"Gilroy City\",\"Hollandale City\",\"Doraville City\",\"Monterey Park\",\"Lunenburg\",\"Avra Valley\",\"Rogersville\",\"Nashville-davidson Metropolitan Government\",\"Fair Oaks\",\"West Chicago City\",\"Smithsburg\",\"Grass Valley City\",\"Oxnard City\",\"Roanoke City\",\"Pahokee City\",\"Princeton\",\"Carlsbad City\",\"New York City\",\"Coral Springs City\",\"Plano City\",\"Irwin\",\"Fort Myers City\",\"New Kent\",\"West Hollywood City\",\"Los Gatos\",\"New York City\",\"Mount Wolf\",\"Lewisville City\",\"Cabot City\",\"Kingsport City\",\"San Gabriel City\",\"Union City City\",\"Jacksonville City\",\"Cold Springs\",\"Black Diamond City\",\"Winston-salem City\",\"New Paltz\",\"Boise City City\",\"Lake Forest City\",\"Blue Hills\",\"Perrysburg City\",\"Perryman\",\"Eastvale City\",\"Bessemer City City\",\"Berkley\",\"Stratmoor\",\"Berry Hill City\",\"Decatur City\",\"Moorefield Station\",\"Greenacres\",\"American Fork City\",\"Santa Susana\",\"Flower Mound\",\"Greensboro City\",\"Garden City City\",\"Lynwood City\",\"Takoma Park City\",\"Bohemia\",\"Fleming Island\",\"Greenacres\",\"Rillito\",\"Woodlake\",\"University\",\"Grayson City\",\"Griffith\",\"Lawrenceville City\",\"Goshen City\",\"North Lindenhurst\",\"Louisville/jefferson\",\"Bull Run\",\"Rocklin City\",\"Prattville City\",\"Frisco City\",\"Erwinville\",\"Southwest Ranches\",\"Pineville\",\"Jacksonville City\",\"Tustin City\",\"Franklin City\",\"Etowah\",\"Franconia\",\"Big Bear Lake City\",\"San Fernando City\",\"Apison\",\"Tacoma City\",\"Manitou Springs City\",\"Pheasant Run\",\"Milpitas City\",\"Woodbury City\",\"Escondido City\",\"Dedham\",\"Wake Forest\",\"Passaic City\",\"Boykin\",\"Lakewood City\",\"Robbinsdale City\",\"San Tan Valley\",\"Laguna Niguel City\",\"Porterdale City\",\"Colma\",\"Waterbury City\",\"Salem City\",\"West Jordan City\",\"Appleton City\",\"Arlington Heights\",\"Oceanside City\",\"Nooksack City\",\"Lucas City\",\"Chubbuck City\",\"Folsom City\",\"Carmichael\",\"Slidell City\",\"Monroe City\",\"Addison\",\"Shorewood\",\"Tucson City\",\"Aloha\",\"Statesville City\",\"Waterbury City\",\"Colorado Springs City\",\"Dacula City\",\"Monticello\",\"Calumet City City\",\"Winter Gardens\",\"Oxford\",\"Park City City\",\"Miami City\",\"Powder Springs City\",\"Marion City\",\"West Laurel\",\"New Cassel\",\"Old Fig Garden\",\"Ellsworth\",\"Edwards\",\"Leawood City\",\"Town And Country City\",\"Mcgregor\",\"Evans\",\"Washington City\",\"Aliso Viejo City\",\"Parkwood\",\"Rockford City\",\"Albuquerque City\",\"Marietta City\",\"Plant City City\",\"Harvard City\",\"Toledo City\",\"Orem City\",\"Bowling Green City\",\"Rosedale\",\"Lewisville City\",\"Bellair-meadowbrook Terrace\",\"New Bedford City\",\"Grovetown City\",\"Mountain Park City\",\"Vernon Valley\",\"Herndon\",\"Metairie\",\"Belle Glade City\",\"Diamond Bar City\",\"Downingtown\",\"Bath\",\"Vinings\",\"Poy Sippi\",\"San Marino City\",\"Langley Park\",\"Olathe City\",\"Staunton\",\"Mcdonough City\",\"Culbertson\",\"Hephzibah City\",\"Harwood Heights\",\"Berthoud\",\"Snellville City\",\"Meridian City\",\"Brentwood\",\"Liberty City\",\"Roebuck\",\"Bowdon City\",\"Ridgecrest\",\"Cumming City\",\"Eola\",\"Los Angeles City\",\"Columbine\",\"Signal Hill City\",\"Linnell Camp\",\"Manchester\",\"Mendota City\",\"Stevenson Ranch\",\"Ashland City\",\"Ansonia City\",\"Bon Air\",\"Urban Honolulu\",\"Villa Rica City\",\"Harbor View\",\"Lake Forest City\",\"Woodlawn\",\"Augusta City\",\"Thompsonville\",\"Lake Oswego City\",\"Vallejo City\",\"Dallas City\",\"Brookings City\",\"Lathrop City\",\"Avondale\",\"San Diego City\",\"Eucalyptus Hills\",\"Lehigh Acres\",\"Bergenfield\",\"Crescent City City\",\"Pantops\",\"Lincolnwood\",\"Franklin\",\"Manitou Springs City\",\"Merced City\",\"Adelphi\",\"Shelton City\",\"Long Beach City\",\"Palmdale City\",\"Laurel Springs\",\"Lacombe\",\"Williams City\",\"Palm Bay City\",\"Indianapolis City\",\"Tabernash\",\"Greenfield\",\"Carol Stream\",\"Imperial Beach City\",\"French Valley\",\"Colorado Springs City\",\"Tracyton\",\"Willoughby City\",\"Greenville\",\"Brookline\",\"Lawnton\",\"Thousand Oaks City\",\"Wynnedale\",\"Greensboro City\",\"Gaithersburg City\",\"Memphis City\",\"Westchester\",\"Kanarraville\",\"Marrero\",\"Starkville City\",\"Murphy\",\"Levittown\",\"Lakeville City\",\"Mather\",\"Fullerton City\",\"Minneapolis City\",\"Seatac City\",\"Enterprise\",\"Moapa Valley\",\"Fruit Cove\",\"Flower Mound\",\"Spanish Fork City\",\"Northport City\",\"Monfort Heights\",\"Oceanside City\",\"Amsterdam City\",\"Lima City\",\"Lehi City\",\"Lowell City\",\"Bell Gardens City\",\"Williamsburg City\",\"Omaha City\",\"El Prado Estates\",\"Colusa City\",\"Brandon\",\"Obetz\",\"Boston City\",\"New Eagle\",\"Atlanta City\",\"Highlands Ranch\",\"Loomis\",\"Medford City\",\"Colorado Springs City\",\"Racine City\",\"Somerville City\",\"Attleboro City\",\"Matoaca\",\"Colorado Springs City\",\"Woodlake\",\"Rahway City\",\"Federal Way City\",\"Harbor Hills\",\"Boulder City City\",\"Maynard City\",\"Rutherford\",\"Mentor City\",\"San Jose City\",\"Midvale City\",\"Bryans Road\",\"New Britain City\",\"Haslett\",\"Sunrise City\",\"Natural Steps\",\"White Oak\",\"Hillsboro Pines\",\"New York City\",\"Madison City\",\"The Pinery\",\"Clearwater City\",\"Paterson City\",\"Bayview\",\"Austin City\",\"Orangevale\",\"Glen Burnie\",\"Arvada City\",\"Bethlehem\",\"Summerlin South\",\"East Los Angeles\",\"Thornton City\",\"Oroville City\",\"Buckhall\",\"Harrisville City\",\"Little Rock City\",\"Washington City\",\"Memphis City\",\"Woodlake\",\"Washington City\",\"Clovis City\",\"Gahanna City\",\"Oakley City\",\"New York City\",\"Southgate City\",\"Jersey Village City\",\"Centreville\",\"Elmwood Park\",\"Brookline\",\"Maple Bluff\",\"Hilltop City\",\"Albertville City\",\"Fontana City\",\"Cedarville\",\"Temecula City\",\"The Colony City\",\"Santa Ana City\",\"Silvis City\",\"Mountain Park\",\"Memphis City\",\"Monsey\",\"Foothill Farms\",\"Santa Clarita City\",\"Cottonwood Heights City\",\"Carbondale\",\"Hedgesville\",\"Lemmon Valley\",\"Fruit Cove\",\"Lauderdale Lakes City\",\"Dedham\",\"Silver Springs Shores\",\"Paterson City\",\"Ferry Pass\",\"Lindenhurst\",\"Palm Shores\",\"Central Falls City\",\"Berry Hill City\",\"Elmwood Park\",\"Doraville City\",\"Monticello City\",\"Vineyard\",\"Midvale City\",\"Lake Stickney\",\"Wesley Chapel\",\"Berkley\",\"Steilacoom\",\"Fort Wayne City\",\"Fairmount\",\"Coon Rapids City\",\"Jamestown\",\"Fate City\",\"Talty\",\"South Pasadena City\",\"Cherry Creek\",\"Las Vegas City\",\"Millington City\",\"Canal Winchester City\",\"Virginia Beach City\",\"Southside Place City\",\"Waterloo City\",\"Lockhart\",\"Centereach\",\"Stevenson Ranch\",\"Conway City\",\"White City\",\"Mckeesport City\",\"Montclair City\",\"Williams Creek\",\"Valley Ford\",\"Lake Fenton\",\"San Jose City\",\"Country Knolls\",\"Columbine Valley\",\"Springdale City\",\"Payne City\",\"Lake Park\",\"Minneapolis City\",\"Dublin City\",\"Parlier City\",\"Farmington Hills City\",\"Indio City\",\"La Riviera\",\"Louisville City\",\"Milford\",\"Oak Park\",\"Chula Vista City\",\"Malden City\",\"Maywood Park City\",\"Collierville\",\"Short Pump\",\"Colesville\",\"Vancouver City\",\"Minnehaha\",\"Garfield City\",\"Portsmouth City\",\"Oakville\",\"Orlovista\",\"Mattoon City\",\"Lucerne Valley\",\"Fieldsboro\",\"Shreve\",\"Waikele\",\"Lake Elmo City\",\"Daly City City\",\"Fort Lupton City\",\"Laguna Hills City\",\"Carmichael\",\"Raleigh City\",\"Marina Del Rey\",\"Lochearn\",\"Philadelphia City\",\"Manteca City\",\"Cutler Bay\",\"Keller City\",\"Jacksonburg\",\"Mays Landing\"],\"type\":\"scattergeo\"}],                        {\"geo\":{\"scope\":\"usa\"},\"title\":{\"text\":\"Top 2,500 locations with the highest second mortgages\"},\"template\":{\"data\":{\"bar\":[{\"error_x\":{\"color\":\"#2a3f5f\"},\"error_y\":{\"color\":\"#2a3f5f\"},\"marker\":{\"line\":{\"color\":\"#E5ECF6\",\"width\":0.5},\"pattern\":{\"fillmode\":\"overlay\",\"size\":10,\"solidity\":0.2}},\"type\":\"bar\"}],\"barpolar\":[{\"marker\":{\"line\":{\"color\":\"#E5ECF6\",\"width\":0.5},\"pattern\":{\"fillmode\":\"overlay\",\"size\":10,\"solidity\":0.2}},\"type\":\"barpolar\"}],\"carpet\":[{\"aaxis\":{\"endlinecolor\":\"#2a3f5f\",\"gridcolor\":\"white\",\"linecolor\":\"white\",\"minorgridcolor\":\"white\",\"startlinecolor\":\"#2a3f5f\"},\"baxis\":{\"endlinecolor\":\"#2a3f5f\",\"gridcolor\":\"white\",\"linecolor\":\"white\",\"minorgridcolor\":\"white\",\"startlinecolor\":\"#2a3f5f\"},\"type\":\"carpet\"}],\"choropleth\":[{\"colorbar\":{\"outlinewidth\":0,\"ticks\":\"\"},\"type\":\"choropleth\"}],\"contour\":[{\"colorbar\":{\"outlinewidth\":0,\"ticks\":\"\"},\"colorscale\":[[0.0,\"#0d0887\"],[0.1111111111111111,\"#46039f\"],[0.2222222222222222,\"#7201a8\"],[0.3333333333333333,\"#9c179e\"],[0.4444444444444444,\"#bd3786\"],[0.5555555555555556,\"#d8576b\"],[0.6666666666666666,\"#ed7953\"],[0.7777777777777778,\"#fb9f3a\"],[0.8888888888888888,\"#fdca26\"],[1.0,\"#f0f921\"]],\"type\":\"contour\"}],\"contourcarpet\":[{\"colorbar\":{\"outlinewidth\":0,\"ticks\":\"\"},\"type\":\"contourcarpet\"}],\"heatmap\":[{\"colorbar\":{\"outlinewidth\":0,\"ticks\":\"\"},\"colorscale\":[[0.0,\"#0d0887\"],[0.1111111111111111,\"#46039f\"],[0.2222222222222222,\"#7201a8\"],[0.3333333333333333,\"#9c179e\"],[0.4444444444444444,\"#bd3786\"],[0.5555555555555556,\"#d8576b\"],[0.6666666666666666,\"#ed7953\"],[0.7777777777777778,\"#fb9f3a\"],[0.8888888888888888,\"#fdca26\"],[1.0,\"#f0f921\"]],\"type\":\"heatmap\"}],\"heatmapgl\":[{\"colorbar\":{\"outlinewidth\":0,\"ticks\":\"\"},\"colorscale\":[[0.0,\"#0d0887\"],[0.1111111111111111,\"#46039f\"],[0.2222222222222222,\"#7201a8\"],[0.3333333333333333,\"#9c179e\"],[0.4444444444444444,\"#bd3786\"],[0.5555555555555556,\"#d8576b\"],[0.6666666666666666,\"#ed7953\"],[0.7777777777777778,\"#fb9f3a\"],[0.8888888888888888,\"#fdca26\"],[1.0,\"#f0f921\"]],\"type\":\"heatmapgl\"}],\"histogram\":[{\"marker\":{\"pattern\":{\"fillmode\":\"overlay\",\"size\":10,\"solidity\":0.2}},\"type\":\"histogram\"}],\"histogram2d\":[{\"colorbar\":{\"outlinewidth\":0,\"ticks\":\"\"},\"colorscale\":[[0.0,\"#0d0887\"],[0.1111111111111111,\"#46039f\"],[0.2222222222222222,\"#7201a8\"],[0.3333333333333333,\"#9c179e\"],[0.4444444444444444,\"#bd3786\"],[0.5555555555555556,\"#d8576b\"],[0.6666666666666666,\"#ed7953\"],[0.7777777777777778,\"#fb9f3a\"],[0.8888888888888888,\"#fdca26\"],[1.0,\"#f0f921\"]],\"type\":\"histogram2d\"}],\"histogram2dcontour\":[{\"colorbar\":{\"outlinewidth\":0,\"ticks\":\"\"},\"colorscale\":[[0.0,\"#0d0887\"],[0.1111111111111111,\"#46039f\"],[0.2222222222222222,\"#7201a8\"],[0.3333333333333333,\"#9c179e\"],[0.4444444444444444,\"#bd3786\"],[0.5555555555555556,\"#d8576b\"],[0.6666666666666666,\"#ed7953\"],[0.7777777777777778,\"#fb9f3a\"],[0.8888888888888888,\"#fdca26\"],[1.0,\"#f0f921\"]],\"type\":\"histogram2dcontour\"}],\"mesh3d\":[{\"colorbar\":{\"outlinewidth\":0,\"ticks\":\"\"},\"type\":\"mesh3d\"}],\"parcoords\":[{\"line\":{\"colorbar\":{\"outlinewidth\":0,\"ticks\":\"\"}},\"type\":\"parcoords\"}],\"pie\":[{\"automargin\":true,\"type\":\"pie\"}],\"scatter\":[{\"marker\":{\"colorbar\":{\"outlinewidth\":0,\"ticks\":\"\"}},\"type\":\"scatter\"}],\"scatter3d\":[{\"line\":{\"colorbar\":{\"outlinewidth\":0,\"ticks\":\"\"}},\"marker\":{\"colorbar\":{\"outlinewidth\":0,\"ticks\":\"\"}},\"type\":\"scatter3d\"}],\"scattercarpet\":[{\"marker\":{\"colorbar\":{\"outlinewidth\":0,\"ticks\":\"\"}},\"type\":\"scattercarpet\"}],\"scattergeo\":[{\"marker\":{\"colorbar\":{\"outlinewidth\":0,\"ticks\":\"\"}},\"type\":\"scattergeo\"}],\"scattergl\":[{\"marker\":{\"colorbar\":{\"outlinewidth\":0,\"ticks\":\"\"}},\"type\":\"scattergl\"}],\"scattermapbox\":[{\"marker\":{\"colorbar\":{\"outlinewidth\":0,\"ticks\":\"\"}},\"type\":\"scattermapbox\"}],\"scatterpolar\":[{\"marker\":{\"colorbar\":{\"outlinewidth\":0,\"ticks\":\"\"}},\"type\":\"scatterpolar\"}],\"scatterpolargl\":[{\"marker\":{\"colorbar\":{\"outlinewidth\":0,\"ticks\":\"\"}},\"type\":\"scatterpolargl\"}],\"scatterternary\":[{\"marker\":{\"colorbar\":{\"outlinewidth\":0,\"ticks\":\"\"}},\"type\":\"scatterternary\"}],\"surface\":[{\"colorbar\":{\"outlinewidth\":0,\"ticks\":\"\"},\"colorscale\":[[0.0,\"#0d0887\"],[0.1111111111111111,\"#46039f\"],[0.2222222222222222,\"#7201a8\"],[0.3333333333333333,\"#9c179e\"],[0.4444444444444444,\"#bd3786\"],[0.5555555555555556,\"#d8576b\"],[0.6666666666666666,\"#ed7953\"],[0.7777777777777778,\"#fb9f3a\"],[0.8888888888888888,\"#fdca26\"],[1.0,\"#f0f921\"]],\"type\":\"surface\"}],\"table\":[{\"cells\":{\"fill\":{\"color\":\"#EBF0F8\"},\"line\":{\"color\":\"white\"}},\"header\":{\"fill\":{\"color\":\"#C8D4E3\"},\"line\":{\"color\":\"white\"}},\"type\":\"table\"}]},\"layout\":{\"annotationdefaults\":{\"arrowcolor\":\"#2a3f5f\",\"arrowhead\":0,\"arrowwidth\":1},\"autotypenumbers\":\"strict\",\"coloraxis\":{\"colorbar\":{\"outlinewidth\":0,\"ticks\":\"\"}},\"colorscale\":{\"diverging\":[[0,\"#8e0152\"],[0.1,\"#c51b7d\"],[0.2,\"#de77ae\"],[0.3,\"#f1b6da\"],[0.4,\"#fde0ef\"],[0.5,\"#f7f7f7\"],[0.6,\"#e6f5d0\"],[0.7,\"#b8e186\"],[0.8,\"#7fbc41\"],[0.9,\"#4d9221\"],[1,\"#276419\"]],\"sequential\":[[0.0,\"#0d0887\"],[0.1111111111111111,\"#46039f\"],[0.2222222222222222,\"#7201a8\"],[0.3333333333333333,\"#9c179e\"],[0.4444444444444444,\"#bd3786\"],[0.5555555555555556,\"#d8576b\"],[0.6666666666666666,\"#ed7953\"],[0.7777777777777778,\"#fb9f3a\"],[0.8888888888888888,\"#fdca26\"],[1.0,\"#f0f921\"]],\"sequentialminus\":[[0.0,\"#0d0887\"],[0.1111111111111111,\"#46039f\"],[0.2222222222222222,\"#7201a8\"],[0.3333333333333333,\"#9c179e\"],[0.4444444444444444,\"#bd3786\"],[0.5555555555555556,\"#d8576b\"],[0.6666666666666666,\"#ed7953\"],[0.7777777777777778,\"#fb9f3a\"],[0.8888888888888888,\"#fdca26\"],[1.0,\"#f0f921\"]]},\"colorway\":[\"#636efa\",\"#EF553B\",\"#00cc96\",\"#ab63fa\",\"#FFA15A\",\"#19d3f3\",\"#FF6692\",\"#B6E880\",\"#FF97FF\",\"#FECB52\"],\"font\":{\"color\":\"#2a3f5f\"},\"geo\":{\"bgcolor\":\"white\",\"lakecolor\":\"white\",\"landcolor\":\"#E5ECF6\",\"showlakes\":true,\"showland\":true,\"subunitcolor\":\"white\"},\"hoverlabel\":{\"align\":\"left\"},\"hovermode\":\"closest\",\"mapbox\":{\"style\":\"light\"},\"paper_bgcolor\":\"white\",\"plot_bgcolor\":\"#E5ECF6\",\"polar\":{\"angularaxis\":{\"gridcolor\":\"white\",\"linecolor\":\"white\",\"ticks\":\"\"},\"bgcolor\":\"#E5ECF6\",\"radialaxis\":{\"gridcolor\":\"white\",\"linecolor\":\"white\",\"ticks\":\"\"}},\"scene\":{\"xaxis\":{\"backgroundcolor\":\"#E5ECF6\",\"gridcolor\":\"white\",\"gridwidth\":2,\"linecolor\":\"white\",\"showbackground\":true,\"ticks\":\"\",\"zerolinecolor\":\"white\"},\"yaxis\":{\"backgroundcolor\":\"#E5ECF6\",\"gridcolor\":\"white\",\"gridwidth\":2,\"linecolor\":\"white\",\"showbackground\":true,\"ticks\":\"\",\"zerolinecolor\":\"white\"},\"zaxis\":{\"backgroundcolor\":\"#E5ECF6\",\"gridcolor\":\"white\",\"gridwidth\":2,\"linecolor\":\"white\",\"showbackground\":true,\"ticks\":\"\",\"zerolinecolor\":\"white\"}},\"shapedefaults\":{\"line\":{\"color\":\"#2a3f5f\"}},\"ternary\":{\"aaxis\":{\"gridcolor\":\"white\",\"linecolor\":\"white\",\"ticks\":\"\"},\"baxis\":{\"gridcolor\":\"white\",\"linecolor\":\"white\",\"ticks\":\"\"},\"bgcolor\":\"#E5ECF6\",\"caxis\":{\"gridcolor\":\"white\",\"linecolor\":\"white\",\"ticks\":\"\"}},\"title\":{\"x\":0.05},\"xaxis\":{\"automargin\":true,\"gridcolor\":\"white\",\"linecolor\":\"white\",\"ticks\":\"\",\"title\":{\"standoff\":15},\"zerolinecolor\":\"white\",\"zerolinewidth\":2},\"yaxis\":{\"automargin\":true,\"gridcolor\":\"white\",\"linecolor\":\"white\",\"ticks\":\"\",\"title\":{\"standoff\":15},\"zerolinecolor\":\"white\",\"zerolinewidth\":2}}}},                        {\"responsive\": true}                    ).then(function(){\n",
              "                            \n",
              "var gd = document.getElementById('59062bf0-f36a-4c5d-b581-aa44306c90e1');\n",
              "var x = new MutationObserver(function (mutations, observer) {{\n",
              "        var display = window.getComputedStyle(gd).display;\n",
              "        if (!display || display === 'none') {{\n",
              "            console.log([gd, 'removed!']);\n",
              "            Plotly.purge(gd);\n",
              "            observer.disconnect();\n",
              "        }}\n",
              "}});\n",
              "\n",
              "// Listen for the removal of the full notebook cells\n",
              "var notebookContainer = gd.closest('#notebook-container');\n",
              "if (notebookContainer) {{\n",
              "    x.observe(notebookContainer, {childList: true});\n",
              "}}\n",
              "\n",
              "// Listen for the clearing of the current output cell\n",
              "var outputEl = gd.closest('.output');\n",
              "if (outputEl) {{\n",
              "    x.observe(outputEl, {childList: true});\n",
              "}}\n",
              "\n",
              "                        })                };                            </script>        </div>\n",
              "</body>\n",
              "</html>"
            ]
          },
          "metadata": {}
        }
      ],
      "source": [
        "fig"
      ]
    },
    {
      "cell_type": "markdown",
      "metadata": {
        "id": "-btf-Ki0Y5Jw"
      },
      "source": [
        "*  4 (b) Use the following bad debt equation: Bad Debt = P (Second Mortgage ∩ Home Equity Loan) \n",
        "*    Bad Debt = second_mortgage + home_equity - home_equity_second_mortgage "
      ]
    },
    {
      "cell_type": "code",
      "execution_count": 76,
      "metadata": {
        "id": "5_minVYPY5Jw"
      },
      "outputs": [],
      "source": [
        "# home_equity_second_mortgage-percent of houses with a second mortgage and home equity loan\n",
        "# in order to not overcount this intersection needs to be subtracted from (second_mortgage + home_equity)\n",
        "df['bad_debt']=df['second_mortgage'] + df['home_equity'] - df['home_equity_second_mortgage']\n",
        "df['good_debt']=df['debt']-df['bad_debt']\n",
        "df['remaining_income']=df['family_mean']-df['hi_mean']"
      ]
    },
    {
      "cell_type": "markdown",
      "metadata": {
        "id": "-jPVQZb-Y5Jw"
      },
      "source": [
        "* 4 (c) Create pie charts to show overall debt and bad debt"
      ]
    },
    {
      "cell_type": "code",
      "execution_count": 77,
      "metadata": {
        "colab": {
          "base_uri": "https://localhost:8080/",
          "height": 0
        },
        "id": "barNPvBVY5Jx",
        "outputId": "613001ca-d904-4e7e-8fce-850a2522ea7f"
      },
      "outputs": [
        {
          "output_type": "execute_result",
          "data": {
            "text/plain": [
              "[13949.61679, 2796.55566]"
            ]
          },
          "metadata": {},
          "execution_count": 77
        }
      ],
      "source": [
        "df_pie = [df['good_debt'].sum(),df['bad_debt'].sum()]\n",
        "df_pie"
      ]
    },
    {
      "cell_type": "code",
      "execution_count": 78,
      "metadata": {
        "colab": {
          "base_uri": "https://localhost:8080/",
          "height": 248
        },
        "id": "I2mSfkDDY5Jy",
        "outputId": "cc4c6e74-22eb-4cf7-e409-fb4e30081b92"
      },
      "outputs": [
        {
          "output_type": "display_data",
          "data": {
            "text/plain": [
              "<Figure size 432x288 with 1 Axes>"
            ],
            "image/png": "[encoded data removed]"
          },
          "metadata": {}
        }
      ],
      "source": [
        "plt.pie(df_pie , labels = ['Good Debt', 'Bad Debt'], autopct='%0.1f%%');"
      ]
    },
    {
      "cell_type": "markdown",
      "metadata": {
        "id": "NG5dvHeAY5Jy"
      },
      "source": [
        "*  4 (d) Create Box and whisker plot and analyze the distribution for 2nd mortgage, home equity, good debt, and bad debt for different cities"
      ]
    },
    {
      "cell_type": "code",
      "source": [
        "import random"
      ],
      "metadata": {
        "id": "uLKwNw0-mPUG"
      },
      "execution_count": 79,
      "outputs": []
    },
    {
      "cell_type": "code",
      "source": [
        "#Find the top 5 most occuring records by city\n",
        "df['city'].value_counts().head(5)"
      ],
      "metadata": {
        "colab": {
          "base_uri": "https://localhost:8080/",
          "height": 0
        },
        "id": "NmJwhsOos_zB",
        "outputId": "21d1bf88-4a42-48d2-f61c-18ecfee82e58"
      },
      "execution_count": 80,
      "outputs": [
        {
          "output_type": "execute_result",
          "data": {
            "text/plain": [
              "Chicago         286\n",
              "Brooklyn        261\n",
              "Los Angeles     219\n",
              "Houston         213\n",
              "Philadelphia    160\n",
              "Name: city, dtype: int64"
            ]
          },
          "metadata": {},
          "execution_count": 80
        }
      ]
    },
    {
      "cell_type": "code",
      "execution_count": 81,
      "metadata": {
        "id": "Ly_5Q1SGY5Jy"
      },
      "outputs": [],
      "source": [
        "#all_cities = [df['city'].unique()]\n",
        "#run below once\n",
        "#print(np.random.choice(all_cities[0], size=5, replace=False))"
      ]
    },
    {
      "cell_type": "code",
      "source": [
        "cities = ['Chicago', 'Brooklyn', 'Los Angeles', 'Houston' ,'Philadelphia']\n"
      ],
      "metadata": {
        "id": "xuFBtos-rCp8"
      },
      "execution_count": 82,
      "outputs": []
    },
    {
      "cell_type": "code",
      "source": [
        "df_cities = df.loc[df['city'].isin(cities)]\n",
        "df_cities"
      ],
      "metadata": {
        "colab": {
          "base_uri": "https://localhost:8080/",
          "height": 658
        },
        "id": "bji4SNlLp4fy",
        "outputId": "521b8889-9ebe-4a31-ff00-94c079691ffe"
      },
      "execution_count": 83,
      "outputs": [
        {
          "output_type": "execute_result",
          "data": {
            "text/plain": [
              "        COUNTYID  STATEID         state state_ab          city  \\\n",
              "UID                                                              \n",
              "225738        37        6    California       CA   Los Angeles   \n",
              "267431        47       36      New York       NY      Brooklyn   \n",
              "278415       101       42  Pennsylvania       PA  Philadelphia   \n",
              "242859        31       17      Illinois       IL       Chicago   \n",
              "242616        31       17      Illinois       IL       Chicago   \n",
              "...          ...      ...           ...      ...           ...   \n",
              "242329        31       17      Illinois       IL       Chicago   \n",
              "225853        37        6    California       CA   Los Angeles   \n",
              "267041        47       36      New York       NY      Brooklyn   \n",
              "285683       201       48         Texas       TX       Houston   \n",
              "278140       101       42  Pennsylvania       PA  Philadelphia   \n",
              "\n",
              "                           place     type primary  zip_code  area_code  ...  \\\n",
              "UID                                                                     ...   \n",
              "225738   View Park-windsor Hills     City   tract     90019        323  ...   \n",
              "267431             New York City     City   tract     11218        718  ...   \n",
              "278415         Cornwells Heights  Borough   tract     19114        215  ...   \n",
              "242859              Chicago City  Village   tract     60636        773  ...   \n",
              "242616                    Cicero  Village   tract     60623        773  ...   \n",
              "...                          ...      ...     ...       ...        ...  ...   \n",
              "242329               Lincolnwood  Village   tract     60618        773  ...   \n",
              "225853           Florence-graham     City   tract     90003        323  ...   \n",
              "267041             New York City     City   tract     11209        718  ...   \n",
              "285683  Bunker Hill Village City     Town   tract     77079        713  ...   \n",
              "278140                    Colwyn  Borough   tract     19148        215  ...   \n",
              "\n",
              "        female_age_sample_weight  female_age_samples  pct_own  married  \\\n",
              "UID                                                                      \n",
              "225738                 703.54749              2699.0  0.02972  0.36015   \n",
              "267431                 454.27183              1806.0  0.29696  0.55029   \n",
              "278415                 468.61138              2165.0  0.48917  0.50419   \n",
              "242859                 186.44001               799.0  0.60152  0.16021   \n",
              "242616                 484.58017              2039.0  0.27222  0.25113   \n",
              "...                          ...                 ...      ...      ...   \n",
              "242329                 128.91435               648.0  0.53301  0.45719   \n",
              "225853                 413.86758              1583.0  0.37744  0.37553   \n",
              "267041                 242.36784               987.0  0.51602  0.52200   \n",
              "285683                 503.11406              2186.0  0.53521  0.64215   \n",
              "278140                1034.10537              4376.0  0.49279  0.42116   \n",
              "\n",
              "        married_snp  separated  divorced  bad_debt  good_debt  \\\n",
              "UID                                                             \n",
              "225738      0.10843    0.06368   0.05077   0.00000    0.57377   \n",
              "267431      0.06051    0.00491   0.04742   0.06220    0.58852   \n",
              "278415      0.01916    0.01557   0.03713   0.03699    0.57110   \n",
              "242859      0.05634    0.03697   0.09155   0.15547    0.22268   \n",
              "242616      0.07706    0.05893   0.17135   0.03571    0.52858   \n",
              "...             ...        ...       ...       ...        ...   \n",
              "242329      0.00000    0.00000   0.01988   0.07018    0.70175   \n",
              "225853      0.10950    0.02652   0.02908   0.13393    0.70982   \n",
              "267041      0.03642    0.00000   0.05311   0.04000    0.55250   \n",
              "285683      0.02955    0.01051   0.10834   0.10286    0.55314   \n",
              "278140      0.14688    0.02711   0.07160   0.02871    0.60560   \n",
              "\n",
              "        remaining_income  \n",
              "UID                       \n",
              "225738        1349.14396  \n",
              "267431        3208.84095  \n",
              "278415       11437.27727  \n",
              "242859       12074.72043  \n",
              "242616        5749.86283  \n",
              "...                  ...  \n",
              "242329       27950.70890  \n",
              "225853         421.69263  \n",
              "267041       12253.75085  \n",
              "285683        6813.92750  \n",
              "278140        -878.30608  \n",
              "\n",
              "[1139 rows x 80 columns]"
            ],
            "text/html": [
              "\n",
              "  <div id=\"df-3873091e-60a2-4c85-8f25-3e7dc045606f\">\n",
              "    <div class=\"colab-df-container\">\n",
              "      <div>\n",
              "<style scoped>\n",
              "    .dataframe tbody tr th:only-of-type {\n",
              "        vertical-align: middle;\n",
              "    }\n",
              "\n",
              "    .dataframe tbody tr th {\n",
              "        vertical-align: top;\n",
              "    }\n",
              "\n",
              "    .dataframe thead th {\n",
              "        text-align: right;\n",
              "    }\n",
              "</style>\n",
              "<table border=\"1\" class=\"dataframe\">\n",
              "  <thead>\n",
              "    <tr style=\"text-align: right;\">\n",
              "      <th></th>\n",
              "      <th>COUNTYID</th>\n",
              "      <th>STATEID</th>\n",
              "      <th>state</th>\n",
              "      <th>state_ab</th>\n",
              "      <th>city</th>\n",
              "      <th>place</th>\n",
              "      <th>type</th>\n",
              "      <th>primary</th>\n",
              "      <th>zip_code</th>\n",
              "      <th>area_code</th>\n",
              "      <th>...</th>\n",
              "      <th>female_age_sample_weight</th>\n",
              "      <th>female_age_samples</th>\n",
              "      <th>pct_own</th>\n",
              "      <th>married</th>\n",
              "      <th>married_snp</th>\n",
              "      <th>separated</th>\n",
              "      <th>divorced</th>\n",
              "      <th>bad_debt</th>\n",
              "      <th>good_debt</th>\n",
              "      <th>remaining_income</th>\n",
              "    </tr>\n",
              "    <tr>\n",
              "      <th>UID</th>\n",
              "      <th></th>\n",
              "      <th></th>\n",
              "      <th></th>\n",
              "      <th></th>\n",
              "      <th></th>\n",
              "      <th></th>\n",
              "      <th></th>\n",
              "      <th></th>\n",
              "      <th></th>\n",
              "      <th></th>\n",
              "      <th></th>\n",
              "      <th></th>\n",
              "      <th></th>\n",
              "      <th></th>\n",
              "      <th></th>\n",
              "      <th></th>\n",
              "      <th></th>\n",
              "      <th></th>\n",
              "      <th></th>\n",
              "      <th></th>\n",
              "      <th></th>\n",
              "    </tr>\n",
              "  </thead>\n",
              "  <tbody>\n",
              "    <tr>\n",
              "      <th>225738</th>\n",
              "      <td>37</td>\n",
              "      <td>6</td>\n",
              "      <td>California</td>\n",
              "      <td>CA</td>\n",
              "      <td>Los Angeles</td>\n",
              "      <td>View Park-windsor Hills</td>\n",
              "      <td>City</td>\n",
              "      <td>tract</td>\n",
              "      <td>90019</td>\n",
              "      <td>323</td>\n",
              "      <td>...</td>\n",
              "      <td>703.54749</td>\n",
              "      <td>2699.0</td>\n",
              "      <td>0.02972</td>\n",
              "      <td>0.36015</td>\n",
              "      <td>0.10843</td>\n",
              "      <td>0.06368</td>\n",
              "      <td>0.05077</td>\n",
              "      <td>0.00000</td>\n",
              "      <td>0.57377</td>\n",
              "      <td>1349.14396</td>\n",
              "    </tr>\n",
              "    <tr>\n",
              "      <th>267431</th>\n",
              "      <td>47</td>\n",
              "      <td>36</td>\n",
              "      <td>New York</td>\n",
              "      <td>NY</td>\n",
              "      <td>Brooklyn</td>\n",
              "      <td>New York City</td>\n",
              "      <td>City</td>\n",
              "      <td>tract</td>\n",
              "      <td>11218</td>\n",
              "      <td>718</td>\n",
              "      <td>...</td>\n",
              "      <td>454.27183</td>\n",
              "      <td>1806.0</td>\n",
              "      <td>0.29696</td>\n",
              "      <td>0.55029</td>\n",
              "      <td>0.06051</td>\n",
              "      <td>0.00491</td>\n",
              "      <td>0.04742</td>\n",
              "      <td>0.06220</td>\n",
              "      <td>0.58852</td>\n",
              "      <td>3208.84095</td>\n",
              "    </tr>\n",
              "    <tr>\n",
              "      <th>278415</th>\n",
              "      <td>101</td>\n",
              "      <td>42</td>\n",
              "      <td>Pennsylvania</td>\n",
              "      <td>PA</td>\n",
              "      <td>Philadelphia</td>\n",
              "      <td>Cornwells Heights</td>\n",
              "      <td>Borough</td>\n",
              "      <td>tract</td>\n",
              "      <td>19114</td>\n",
              "      <td>215</td>\n",
              "      <td>...</td>\n",
              "      <td>468.61138</td>\n",
              "      <td>2165.0</td>\n",
              "      <td>0.48917</td>\n",
              "      <td>0.50419</td>\n",
              "      <td>0.01916</td>\n",
              "      <td>0.01557</td>\n",
              "      <td>0.03713</td>\n",
              "      <td>0.03699</td>\n",
              "      <td>0.57110</td>\n",
              "      <td>11437.27727</td>\n",
              "    </tr>\n",
              "    <tr>\n",
              "      <th>242859</th>\n",
              "      <td>31</td>\n",
              "      <td>17</td>\n",
              "      <td>Illinois</td>\n",
              "      <td>IL</td>\n",
              "      <td>Chicago</td>\n",
              "      <td>Chicago City</td>\n",
              "      <td>Village</td>\n",
              "      <td>tract</td>\n",
              "      <td>60636</td>\n",
              "      <td>773</td>\n",
              "      <td>...</td>\n",
              "      <td>186.44001</td>\n",
              "      <td>799.0</td>\n",
              "      <td>0.60152</td>\n",
              "      <td>0.16021</td>\n",
              "      <td>0.05634</td>\n",
              "      <td>0.03697</td>\n",
              "      <td>0.09155</td>\n",
              "      <td>0.15547</td>\n",
              "      <td>0.22268</td>\n",
              "      <td>12074.72043</td>\n",
              "    </tr>\n",
              "    <tr>\n",
              "      <th>242616</th>\n",
              "      <td>31</td>\n",
              "      <td>17</td>\n",
              "      <td>Illinois</td>\n",
              "      <td>IL</td>\n",
              "      <td>Chicago</td>\n",
              "      <td>Cicero</td>\n",
              "      <td>Village</td>\n",
              "      <td>tract</td>\n",
              "      <td>60623</td>\n",
              "      <td>773</td>\n",
              "      <td>...</td>\n",
              "      <td>484.58017</td>\n",
              "      <td>2039.0</td>\n",
              "      <td>0.27222</td>\n",
              "      <td>0.25113</td>\n",
              "      <td>0.07706</td>\n",
              "      <td>0.05893</td>\n",
              "      <td>0.17135</td>\n",
              "      <td>0.03571</td>\n",
              "      <td>0.52858</td>\n",
              "      <td>5749.86283</td>\n",
              "    </tr>\n",
              "    <tr>\n",
              "      <th>...</th>\n",
              "      <td>...</td>\n",
              "      <td>...</td>\n",
              "      <td>...</td>\n",
              "      <td>...</td>\n",
              "      <td>...</td>\n",
              "      <td>...</td>\n",
              "      <td>...</td>\n",
              "      <td>...</td>\n",
              "      <td>...</td>\n",
              "      <td>...</td>\n",
              "      <td>...</td>\n",
              "      <td>...</td>\n",
              "      <td>...</td>\n",
              "      <td>...</td>\n",
              "      <td>...</td>\n",
              "      <td>...</td>\n",
              "      <td>...</td>\n",
              "      <td>...</td>\n",
              "      <td>...</td>\n",
              "      <td>...</td>\n",
              "      <td>...</td>\n",
              "    </tr>\n",
              "    <tr>\n",
              "      <th>242329</th>\n",
              "      <td>31</td>\n",
              "      <td>17</td>\n",
              "      <td>Illinois</td>\n",
              "      <td>IL</td>\n",
              "      <td>Chicago</td>\n",
              "      <td>Lincolnwood</td>\n",
              "      <td>Village</td>\n",
              "      <td>tract</td>\n",
              "      <td>60618</td>\n",
              "      <td>773</td>\n",
              "      <td>...</td>\n",
              "      <td>128.91435</td>\n",
              "      <td>648.0</td>\n",
              "      <td>0.53301</td>\n",
              "      <td>0.45719</td>\n",
              "      <td>0.00000</td>\n",
              "      <td>0.00000</td>\n",
              "      <td>0.01988</td>\n",
              "      <td>0.07018</td>\n",
              "      <td>0.70175</td>\n",
              "      <td>27950.70890</td>\n",
              "    </tr>\n",
              "    <tr>\n",
              "      <th>225853</th>\n",
              "      <td>37</td>\n",
              "      <td>6</td>\n",
              "      <td>California</td>\n",
              "      <td>CA</td>\n",
              "      <td>Los Angeles</td>\n",
              "      <td>Florence-graham</td>\n",
              "      <td>City</td>\n",
              "      <td>tract</td>\n",
              "      <td>90003</td>\n",
              "      <td>323</td>\n",
              "      <td>...</td>\n",
              "      <td>413.86758</td>\n",
              "      <td>1583.0</td>\n",
              "      <td>0.37744</td>\n",
              "      <td>0.37553</td>\n",
              "      <td>0.10950</td>\n",
              "      <td>0.02652</td>\n",
              "      <td>0.02908</td>\n",
              "      <td>0.13393</td>\n",
              "      <td>0.70982</td>\n",
              "      <td>421.69263</td>\n",
              "    </tr>\n",
              "    <tr>\n",
              "      <th>267041</th>\n",
              "      <td>47</td>\n",
              "      <td>36</td>\n",
              "      <td>New York</td>\n",
              "      <td>NY</td>\n",
              "      <td>Brooklyn</td>\n",
              "      <td>New York City</td>\n",
              "      <td>City</td>\n",
              "      <td>tract</td>\n",
              "      <td>11209</td>\n",
              "      <td>718</td>\n",
              "      <td>...</td>\n",
              "      <td>242.36784</td>\n",
              "      <td>987.0</td>\n",
              "      <td>0.51602</td>\n",
              "      <td>0.52200</td>\n",
              "      <td>0.03642</td>\n",
              "      <td>0.00000</td>\n",
              "      <td>0.05311</td>\n",
              "      <td>0.04000</td>\n",
              "      <td>0.55250</td>\n",
              "      <td>12253.75085</td>\n",
              "    </tr>\n",
              "    <tr>\n",
              "      <th>285683</th>\n",
              "      <td>201</td>\n",
              "      <td>48</td>\n",
              "      <td>Texas</td>\n",
              "      <td>TX</td>\n",
              "      <td>Houston</td>\n",
              "      <td>Bunker Hill Village City</td>\n",
              "      <td>Town</td>\n",
              "      <td>tract</td>\n",
              "      <td>77079</td>\n",
              "      <td>713</td>\n",
              "      <td>...</td>\n",
              "      <td>503.11406</td>\n",
              "      <td>2186.0</td>\n",
              "      <td>0.53521</td>\n",
              "      <td>0.64215</td>\n",
              "      <td>0.02955</td>\n",
              "      <td>0.01051</td>\n",
              "      <td>0.10834</td>\n",
              "      <td>0.10286</td>\n",
              "      <td>0.55314</td>\n",
              "      <td>6813.92750</td>\n",
              "    </tr>\n",
              "    <tr>\n",
              "      <th>278140</th>\n",
              "      <td>101</td>\n",
              "      <td>42</td>\n",
              "      <td>Pennsylvania</td>\n",
              "      <td>PA</td>\n",
              "      <td>Philadelphia</td>\n",
              "      <td>Colwyn</td>\n",
              "      <td>Borough</td>\n",
              "      <td>tract</td>\n",
              "      <td>19148</td>\n",
              "      <td>215</td>\n",
              "      <td>...</td>\n",
              "      <td>1034.10537</td>\n",
              "      <td>4376.0</td>\n",
              "      <td>0.49279</td>\n",
              "      <td>0.42116</td>\n",
              "      <td>0.14688</td>\n",
              "      <td>0.02711</td>\n",
              "      <td>0.07160</td>\n",
              "      <td>0.02871</td>\n",
              "      <td>0.60560</td>\n",
              "      <td>-878.30608</td>\n",
              "    </tr>\n",
              "  </tbody>\n",
              "</table>\n",
              "<p>1139 rows × 80 columns</p>\n",
              "</div>\n",
              "      <button class=\"colab-df-convert\" onclick=\"convertToInteractive('df-3873091e-60a2-4c85-8f25-3e7dc045606f')\"\n",
              "              title=\"Convert this dataframe to an interactive table.\"\n",
              "              style=\"display:none;\">\n",
              "        \n",
              "  <svg xmlns=\"http://www.w3.org/2000/svg\" height=\"24px\"viewBox=\"0 0 24 24\"\n",
              "       width=\"24px\">\n",
              "    <path d=\"M0 0h24v24H0V0z\" fill=\"none\"/>\n",
              "    <path d=\"M18.56 5.44l.94 2.06.94-2.06 2.06-.94-2.06-.94-.94-2.06-.94 2.06-2.06.94zm-11 1L8.5 8.5l.94-2.06 2.06-.94-2.06-.94L8.5 2.5l-.94 2.06-2.06.94zm10 10l.94 2.06.94-2.06 2.06-.94-2.06-.94-.94-2.06-.94 2.06-2.06.94z\"/><path d=\"M17.41 7.96l-1.37-1.37c-.4-.4-.92-.59-1.43-.59-.52 0-1.04.2-1.43.59L10.3 9.45l-7.72 7.72c-.78.78-.78 2.05 0 2.83L4 21.41c.39.39.9.59 1.41.59.51 0 1.02-.2 1.41-.59l7.78-7.78 2.81-2.81c.8-.78.8-2.07 0-2.86zM5.41 20L4 18.59l7.72-7.72 1.47 1.35L5.41 20z\"/>\n",
              "  </svg>\n",
              "      </button>\n",
              "      \n",
              "  <style>\n",
              "    .colab-df-container {\n",
              "      display:flex;\n",
              "      flex-wrap:wrap;\n",
              "      gap: 12px;\n",
              "    }\n",
              "\n",
              "    .colab-df-convert {\n",
              "      background-color: #E8F0FE;\n",
              "      border: none;\n",
              "      border-radius: 50%;\n",
              "      cursor: pointer;\n",
              "      display: none;\n",
              "      fill: #1967D2;\n",
              "      height: 32px;\n",
              "      padding: 0 0 0 0;\n",
              "      width: 32px;\n",
              "    }\n",
              "\n",
              "    .colab-df-convert:hover {\n",
              "      background-color: #E2EBFA;\n",
              "      box-shadow: 0px 1px 2px rgba(60, 64, 67, 0.3), 0px 1px 3px 1px rgba(60, 64, 67, 0.15);\n",
              "      fill: #174EA6;\n",
              "    }\n",
              "\n",
              "    [theme=dark] .colab-df-convert {\n",
              "      background-color: #3B4455;\n",
              "      fill: #D2E3FC;\n",
              "    }\n",
              "\n",
              "    [theme=dark] .colab-df-convert:hover {\n",
              "      background-color: #434B5C;\n",
              "      box-shadow: 0px 1px 3px 1px rgba(0, 0, 0, 0.15);\n",
              "      filter: drop-shadow(0px 1px 2px rgba(0, 0, 0, 0.3));\n",
              "      fill: #FFFFFF;\n",
              "    }\n",
              "  </style>\n",
              "\n",
              "      <script>\n",
              "        const buttonEl =\n",
              "          document.querySelector('#df-3873091e-60a2-4c85-8f25-3e7dc045606f button.colab-df-convert');\n",
              "        buttonEl.style.display =\n",
              "          google.colab.kernel.accessAllowed ? 'block' : 'none';\n",
              "\n",
              "        async function convertToInteractive(key) {\n",
              "          const element = document.querySelector('#df-3873091e-60a2-4c85-8f25-3e7dc045606f');\n",
              "          const dataTable =\n",
              "            await google.colab.kernel.invokeFunction('convertToInteractive',\n",
              "                                                     [key], {});\n",
              "          if (!dataTable) return;\n",
              "\n",
              "          const docLinkHtml = 'Like what you see? Visit the ' +\n",
              "            '<a target=\"_blank\" href=https://colab.research.google.com/notebooks/data_table.ipynb>data table notebook</a>'\n",
              "            + ' to learn more about interactive tables.';\n",
              "          element.innerHTML = '';\n",
              "          dataTable['output_type'] = 'display_data';\n",
              "          await google.colab.output.renderOutput(dataTable, element);\n",
              "          const docLink = document.createElement('div');\n",
              "          docLink.innerHTML = docLinkHtml;\n",
              "          element.appendChild(docLink);\n",
              "        }\n",
              "      </script>\n",
              "    </div>\n",
              "  </div>\n",
              "  "
            ]
          },
          "metadata": {},
          "execution_count": 83
        }
      ]
    },
    {
      "cell_type": "code",
      "execution_count": 84,
      "metadata": {
        "colab": {
          "base_uri": "https://localhost:8080/",
          "height": 1167
        },
        "id": "yR9QqnX9Y5Jz",
        "outputId": "f500707b-9f1c-44e4-81b7-8cdd9c24116c"
      },
      "outputs": [
        {
          "output_type": "execute_result",
          "data": {
            "text/plain": [
              "<matplotlib.axes._subplots.AxesSubplot at 0x7f672510f070>"
            ]
          },
          "metadata": {},
          "execution_count": 84
        },
        {
          "output_type": "display_data",
          "data": {
            "text/plain": [
              "<Figure size 1440x1440 with 4 Axes>"
            ],
            "image/png": "[encoded data removed]"
          },
          "metadata": {
            "needs_background": "light"
          }
        }
      ],
      "source": [
        "import seaborn as sns\n",
        "fig , axes = plt.subplots(ncols=2,nrows=2, figsize=(20, 20))\n",
        "sns.boxplot(y='second_mortgage', x='city', data=df_cities, ax=axes[0,0])\n",
        "sns.boxplot(y='home_equity', x='city', data=df_cities, ax=axes[0,1])\n",
        "sns.boxplot(y='good_debt', x='city', data=df_cities, ax=axes[1,0])\n",
        "sns.boxplot(y='bad_debt', x='city', data=df_cities, ax=axes[1,1])"
      ]
    },
    {
      "cell_type": "markdown",
      "source": [
        "### Findings from boxplots:\n",
        "Los Angeles and Chicago have the highest median perentage of second mortgages from the selected cities.LA also has the highest median of percentage of households with home equity loans. LA and Chicago lead in good debt and bad debt."
      ],
      "metadata": {
        "id": "7AvrRcr1yYBo"
      }
    },
    {
      "cell_type": "markdown",
      "source": [
        "e) Create a collated income distribution chart for family income, house hold income, and remaining income"
      ],
      "metadata": {
        "id": "DTUzzLWS2yJw"
      }
    },
    {
      "cell_type": "code",
      "source": [
        "fig, axes=plt.subplots(ncols=3, nrows=1, figsize=(15,5))\n",
        "# family income - Multiple incomes under one family.\n",
        "sns.histplot(x=df['family_mean'], ax=axes[0])\n",
        "# household income - all income under one address\n",
        "sns.histplot(x=df['hi_mean'], ax=axes[1])\n",
        "# remaining_income = family_mean - hi_mean\n",
        "sns.histplot(x=df['remaining_income'], ax=axes[2])"
      ],
      "metadata": {
        "colab": {
          "base_uri": "https://localhost:8080/",
          "height": 355
        },
        "id": "in6sX8hc23_Y",
        "outputId": "baf16306-520b-4c45-dc40-8c9342d46051"
      },
      "execution_count": 85,
      "outputs": [
        {
          "output_type": "execute_result",
          "data": {
            "text/plain": [
              "<matplotlib.axes._subplots.AxesSubplot at 0x7f6724e7ea30>"
            ]
          },
          "metadata": {},
          "execution_count": 85
        },
        {
          "output_type": "display_data",
          "data": {
            "text/plain": [
              "<Figure size 1080x360 with 3 Axes>"
            ],
            "image/png": "[encoded data removed]"
          },
          "metadata": {
            "needs_background": "light"
          }
        }
      ]
    },
    {
      "cell_type": "markdown",
      "source": [
        "Family mean income is mostly distributed between 30K-100K. \n",
        "Household income is mostly distributed between 25k-125K."
      ],
      "metadata": {
        "id": "9H_5WEJQ3w3J"
      }
    },
    {
      "cell_type": "markdown",
      "source": [
        "1. Perform EDA and come out with insights into population density and age. You may have to derive new fields (make sure to weight averages for accurate measurements):\n",
        "\n",
        "a) Use pop and ALand variables to create a new field called population density\n",
        "\n",
        "b) Use male_age_median, female_age_median, male_pop, and female_pop to create a new field called median age c) Visualize the findings using appropriate chart type"
      ],
      "metadata": {
        "id": "7F641we7_oEy"
      }
    },
    {
      "cell_type": "code",
      "source": [
        "df['population_density']=df['pop']/df['ALand']"
      ],
      "metadata": {
        "id": "zEPxlHwJ_ruA"
      },
      "execution_count": 34,
      "outputs": []
    },
    {
      "cell_type": "code",
      "source": [
        "df['median_age'] = ((df['male_pop']*df['male_age_median'])+(df['female_pop']*df['female_age_median']))\\\n",
        "/(df['male_pop']+df['female_pop'])"
      ],
      "metadata": {
        "id": "ixZehwx-Al39"
      },
      "execution_count": 35,
      "outputs": []
    },
    {
      "cell_type": "code",
      "source": [
        "fig, axes=plt.subplots(ncols=1, nrows=1, figsize=(10,10))\n",
        "sns.histplot(x=df['median_age'])"
      ],
      "metadata": {
        "colab": {
          "base_uri": "https://localhost:8080/",
          "height": 624
        },
        "id": "4yvsG7a2D-rp",
        "outputId": "7b9c062b-deb6-4e37-b323-ebd3ffa5ef94"
      },
      "execution_count": 36,
      "outputs": [
        {
          "output_type": "execute_result",
          "data": {
            "text/plain": [
              "<matplotlib.axes._subplots.AxesSubplot at 0x7f671a62c670>"
            ]
          },
          "metadata": {},
          "execution_count": 36
        },
        {
          "output_type": "display_data",
          "data": {
            "text/plain": [
              "<Figure size 720x720 with 1 Axes>"
            ],
            "image/png": "[encoded data removed]"
          },
          "metadata": {
            "needs_background": "light"
          }
        }
      ]
    },
    {
      "cell_type": "markdown",
      "source": [
        "Median age distribution mostly between 30-50 years."
      ],
      "metadata": {
        "id": "mzVZFjSy4nz7"
      }
    },
    {
      "cell_type": "markdown",
      "source": [
        "2. Create bins for population into a new variable by selecting appropriate class interval so that the number of categories don’t exceed 5 for the ease of analysis.\n",
        "\n",
        "  a) Analyze the married, separated, and divorced population for these population brackets\n",
        "\n",
        "  b) Visualize using appropriate chart type"
      ],
      "metadata": {
        "id": "uZ2KegY7HB64"
      }
    },
    {
      "cell_type": "code",
      "source": [
        "df['pop'].describe()"
      ],
      "metadata": {
        "colab": {
          "base_uri": "https://localhost:8080/",
          "height": 0
        },
        "id": "P-azgqilIeCp",
        "outputId": "2b15051d-8b6d-4404-a342-7efcc905fe8d"
      },
      "execution_count": 37,
      "outputs": [
        {
          "output_type": "execute_result",
          "data": {
            "text/plain": [
              "count    26585.000000\n",
              "mean      4367.763438\n",
              "std       2093.787018\n",
              "min         63.000000\n",
              "25%       2938.000000\n",
              "50%       4078.000000\n",
              "75%       5456.000000\n",
              "max      53812.000000\n",
              "Name: pop, dtype: float64"
            ]
          },
          "metadata": {},
          "execution_count": 37
        }
      ]
    },
    {
      "cell_type": "code",
      "source": [
        "#figuring out cut\n",
        "53812/3"
      ],
      "metadata": {
        "colab": {
          "base_uri": "https://localhost:8080/",
          "height": 0
        },
        "id": "HwJoS3jCJHq3",
        "outputId": "e903fd7f-ec99-43e7-da8d-33255be17f6c"
      },
      "execution_count": 38,
      "outputs": [
        {
          "output_type": "execute_result",
          "data": {
            "text/plain": [
              "17937.333333333332"
            ]
          },
          "metadata": {},
          "execution_count": 38
        }
      ]
    },
    {
      "cell_type": "code",
      "source": [
        "# create a new column for population band\n",
        "df['pop_bins']=pd.cut(df['pop'],bins=[0,18000,36000,54000])\n",
        "df['pop_bins']"
      ],
      "metadata": {
        "colab": {
          "base_uri": "https://localhost:8080/",
          "height": 0
        },
        "id": "cBQqv17BJYwX",
        "outputId": "6c28636d-530b-484a-8f99-85a3a1abd406"
      },
      "execution_count": 39,
      "outputs": [
        {
          "output_type": "execute_result",
          "data": {
            "text/plain": [
              "UID\n",
              "267822    (0, 18000]\n",
              "246444    (0, 18000]\n",
              "245683    (0, 18000]\n",
              "279653    (0, 18000]\n",
              "247218    (0, 18000]\n",
              "             ...    \n",
              "279212    (0, 18000]\n",
              "277856    (0, 18000]\n",
              "233000    (0, 18000]\n",
              "287425    (0, 18000]\n",
              "265371    (0, 18000]\n",
              "Name: pop_bins, Length: 26585, dtype: category\n",
              "Categories (3, interval[int64, right]): [(0, 18000] < (18000, 36000] < (36000, 54000]]"
            ]
          },
          "metadata": {},
          "execution_count": 39
        }
      ]
    },
    {
      "cell_type": "code",
      "source": [
        "chart = df.groupby(by ='pop_bins')[['married','separated','divorced']].mean()\n",
        "chart"
      ],
      "metadata": {
        "colab": {
          "base_uri": "https://localhost:8080/",
          "height": 175
        },
        "id": "aKAkXBCeJ_VA",
        "outputId": "a8f9963b-457d-403f-dedd-6b47714761b9"
      },
      "execution_count": 40,
      "outputs": [
        {
          "output_type": "execute_result",
          "data": {
            "text/plain": [
              "                 married  separated  divorced\n",
              "pop_bins                                     \n",
              "(0, 18000]      0.512476   0.018989  0.100838\n",
              "(18000, 36000]  0.640555   0.010473  0.065222\n",
              "(36000, 54000]  0.782710   0.004785  0.046705"
            ],
            "text/html": [
              "\n",
              "  <div id=\"df-e4aa07e2-2ffd-4f6b-96c8-a5372e9d644b\">\n",
              "    <div class=\"colab-df-container\">\n",
              "      <div>\n",
              "<style scoped>\n",
              "    .dataframe tbody tr th:only-of-type {\n",
              "        vertical-align: middle;\n",
              "    }\n",
              "\n",
              "    .dataframe tbody tr th {\n",
              "        vertical-align: top;\n",
              "    }\n",
              "\n",
              "    .dataframe thead th {\n",
              "        text-align: right;\n",
              "    }\n",
              "</style>\n",
              "<table border=\"1\" class=\"dataframe\">\n",
              "  <thead>\n",
              "    <tr style=\"text-align: right;\">\n",
              "      <th></th>\n",
              "      <th>married</th>\n",
              "      <th>separated</th>\n",
              "      <th>divorced</th>\n",
              "    </tr>\n",
              "    <tr>\n",
              "      <th>pop_bins</th>\n",
              "      <th></th>\n",
              "      <th></th>\n",
              "      <th></th>\n",
              "    </tr>\n",
              "  </thead>\n",
              "  <tbody>\n",
              "    <tr>\n",
              "      <th>(0, 18000]</th>\n",
              "      <td>0.512476</td>\n",
              "      <td>0.018989</td>\n",
              "      <td>0.100838</td>\n",
              "    </tr>\n",
              "    <tr>\n",
              "      <th>(18000, 36000]</th>\n",
              "      <td>0.640555</td>\n",
              "      <td>0.010473</td>\n",
              "      <td>0.065222</td>\n",
              "    </tr>\n",
              "    <tr>\n",
              "      <th>(36000, 54000]</th>\n",
              "      <td>0.782710</td>\n",
              "      <td>0.004785</td>\n",
              "      <td>0.046705</td>\n",
              "    </tr>\n",
              "  </tbody>\n",
              "</table>\n",
              "</div>\n",
              "      <button class=\"colab-df-convert\" onclick=\"convertToInteractive('df-e4aa07e2-2ffd-4f6b-96c8-a5372e9d644b')\"\n",
              "              title=\"Convert this dataframe to an interactive table.\"\n",
              "              style=\"display:none;\">\n",
              "        \n",
              "  <svg xmlns=\"http://www.w3.org/2000/svg\" height=\"24px\"viewBox=\"0 0 24 24\"\n",
              "       width=\"24px\">\n",
              "    <path d=\"M0 0h24v24H0V0z\" fill=\"none\"/>\n",
              "    <path d=\"M18.56 5.44l.94 2.06.94-2.06 2.06-.94-2.06-.94-.94-2.06-.94 2.06-2.06.94zm-11 1L8.5 8.5l.94-2.06 2.06-.94-2.06-.94L8.5 2.5l-.94 2.06-2.06.94zm10 10l.94 2.06.94-2.06 2.06-.94-2.06-.94-.94-2.06-.94 2.06-2.06.94z\"/><path d=\"M17.41 7.96l-1.37-1.37c-.4-.4-.92-.59-1.43-.59-.52 0-1.04.2-1.43.59L10.3 9.45l-7.72 7.72c-.78.78-.78 2.05 0 2.83L4 21.41c.39.39.9.59 1.41.59.51 0 1.02-.2 1.41-.59l7.78-7.78 2.81-2.81c.8-.78.8-2.07 0-2.86zM5.41 20L4 18.59l7.72-7.72 1.47 1.35L5.41 20z\"/>\n",
              "  </svg>\n",
              "      </button>\n",
              "      \n",
              "  <style>\n",
              "    .colab-df-container {\n",
              "      display:flex;\n",
              "      flex-wrap:wrap;\n",
              "      gap: 12px;\n",
              "    }\n",
              "\n",
              "    .colab-df-convert {\n",
              "      background-color: #E8F0FE;\n",
              "      border: none;\n",
              "      border-radius: 50%;\n",
              "      cursor: pointer;\n",
              "      display: none;\n",
              "      fill: #1967D2;\n",
              "      height: 32px;\n",
              "      padding: 0 0 0 0;\n",
              "      width: 32px;\n",
              "    }\n",
              "\n",
              "    .colab-df-convert:hover {\n",
              "      background-color: #E2EBFA;\n",
              "      box-shadow: 0px 1px 2px rgba(60, 64, 67, 0.3), 0px 1px 3px 1px rgba(60, 64, 67, 0.15);\n",
              "      fill: #174EA6;\n",
              "    }\n",
              "\n",
              "    [theme=dark] .colab-df-convert {\n",
              "      background-color: #3B4455;\n",
              "      fill: #D2E3FC;\n",
              "    }\n",
              "\n",
              "    [theme=dark] .colab-df-convert:hover {\n",
              "      background-color: #434B5C;\n",
              "      box-shadow: 0px 1px 3px 1px rgba(0, 0, 0, 0.15);\n",
              "      filter: drop-shadow(0px 1px 2px rgba(0, 0, 0, 0.3));\n",
              "      fill: #FFFFFF;\n",
              "    }\n",
              "  </style>\n",
              "\n",
              "      <script>\n",
              "        const buttonEl =\n",
              "          document.querySelector('#df-e4aa07e2-2ffd-4f6b-96c8-a5372e9d644b button.colab-df-convert');\n",
              "        buttonEl.style.display =\n",
              "          google.colab.kernel.accessAllowed ? 'block' : 'none';\n",
              "\n",
              "        async function convertToInteractive(key) {\n",
              "          const element = document.querySelector('#df-e4aa07e2-2ffd-4f6b-96c8-a5372e9d644b');\n",
              "          const dataTable =\n",
              "            await google.colab.kernel.invokeFunction('convertToInteractive',\n",
              "                                                     [key], {});\n",
              "          if (!dataTable) return;\n",
              "\n",
              "          const docLinkHtml = 'Like what you see? Visit the ' +\n",
              "            '<a target=\"_blank\" href=https://colab.research.google.com/notebooks/data_table.ipynb>data table notebook</a>'\n",
              "            + ' to learn more about interactive tables.';\n",
              "          element.innerHTML = '';\n",
              "          dataTable['output_type'] = 'display_data';\n",
              "          await google.colab.output.renderOutput(dataTable, element);\n",
              "          const docLink = document.createElement('div');\n",
              "          docLink.innerHTML = docLinkHtml;\n",
              "          element.appendChild(docLink);\n",
              "        }\n",
              "      </script>\n",
              "    </div>\n",
              "  </div>\n",
              "  "
            ]
          },
          "metadata": {},
          "execution_count": 40
        }
      ]
    },
    {
      "cell_type": "code",
      "source": [
        "chart.plot(kind='bar')"
      ],
      "metadata": {
        "colab": {
          "base_uri": "https://localhost:8080/",
          "height": 365
        },
        "id": "IlCU7vRKKfa5",
        "outputId": "bc513a33-1ef1-4a45-eba7-536ecc2e6a26"
      },
      "execution_count": 41,
      "outputs": [
        {
          "output_type": "execute_result",
          "data": {
            "text/plain": [
              "<matplotlib.axes._subplots.AxesSubplot at 0x7f671a47cd30>"
            ]
          },
          "metadata": {},
          "execution_count": 41
        },
        {
          "output_type": "display_data",
          "data": {
            "text/plain": [
              "<Figure size 432x288 with 1 Axes>"
            ],
            "image/png": "[encoded data removed]"
          },
          "metadata": {
            "needs_background": "light"
          }
        }
      ]
    },
    {
      "cell_type": "markdown",
      "source": [
        "This chart show me the percentages of marriage status by population bins. For example in each of the population categories, married makes up most of the proportion of the populations compared to separated and divorced."
      ],
      "metadata": {
        "id": "r7Ci6AUeLU-F"
      }
    },
    {
      "cell_type": "markdown",
      "source": [
        "3. Please detail your observations for rent as a percentage of income at an overall level, and for different states.\n",
        "\n"
      ],
      "metadata": {
        "id": "cEFxY2QxM_fR"
      }
    },
    {
      "cell_type": "code",
      "source": [
        "#rent mean must be a monthly mean so multiply by 12 to get a full year's worth for calculating rent as a percentage of income\n",
        "df['rent_mean'].mean()"
      ],
      "metadata": {
        "colab": {
          "base_uri": "https://localhost:8080/",
          "height": 0
        },
        "id": "ns7E3iAlZCd2",
        "outputId": "7b2c1363-f4e5-45be-c126-e772655f40fe"
      },
      "execution_count": 42,
      "outputs": [
        {
          "output_type": "execute_result",
          "data": {
            "text/plain": [
              "1054.36884464322"
            ]
          },
          "metadata": {},
          "execution_count": 42
        }
      ]
    },
    {
      "cell_type": "code",
      "source": [
        "# Overall percentage of income\n",
        "\n",
        "(df['rent_mean'].sum()*12)/df['family_mean'].sum()*100"
      ],
      "metadata": {
        "colab": {
          "base_uri": "https://localhost:8080/",
          "height": 0
        },
        "id": "4z6_fuPYQBZ6",
        "outputId": "a0e6e534-94fe-498a-bf25-c26eb6511e03"
      },
      "execution_count": 43,
      "outputs": [
        {
          "output_type": "execute_result",
          "data": {
            "text/plain": [
              "15.958713541437888"
            ]
          },
          "metadata": {},
          "execution_count": 43
        }
      ]
    },
    {
      "cell_type": "markdown",
      "source": [
        "The overall rent spent as a percentage of family income is 16%"
      ],
      "metadata": {
        "id": "b-22I50iQgBj"
      }
    },
    {
      "cell_type": "code",
      "source": [
        "\n",
        "# View this percentage by state\n",
        "rent_percentage_by_state = ((df.groupby(by ='state')['rent_mean'].sum()*12)/(df.groupby(by ='state')['family_mean'].sum()))*100\n",
        "rent_percentage_by_state.sort_values(ascending = False).head(5)"
      ],
      "metadata": {
        "colab": {
          "base_uri": "https://localhost:8080/",
          "height": 0
        },
        "id": "57ww4qLDTGN6",
        "outputId": "190d8012-8173-4371-ec0b-cc905a0eafa5"
      },
      "execution_count": 44,
      "outputs": [
        {
          "output_type": "execute_result",
          "data": {
            "text/plain": [
              "state\n",
              "Hawaii         20.935087\n",
              "California     20.073129\n",
              "Florida        18.954422\n",
              "Puerto Rico    18.436555\n",
              "Nevada         18.268563\n",
              "dtype: float64"
            ]
          },
          "metadata": {},
          "execution_count": 44
        }
      ]
    },
    {
      "cell_type": "markdown",
      "source": [
        "The top 5 states that have the highest perentage of rent to family income are:\n",
        "Hawaii, California, Florida, Puerto Rico, and Nevada"
      ],
      "metadata": {
        "id": "lml57a_bavTB"
      }
    },
    {
      "cell_type": "code",
      "source": [
        "rent_percentage_by_state.sort_values().head(5)"
      ],
      "metadata": {
        "colab": {
          "base_uri": "https://localhost:8080/",
          "height": 0
        },
        "id": "Q8nKvMA7dtPG",
        "outputId": "e9b90726-4836-4eb4-90df-0aec35749a3d"
      },
      "execution_count": 45,
      "outputs": [
        {
          "output_type": "execute_result",
          "data": {
            "text/plain": [
              "state\n",
              "North Dakota     11.030834\n",
              "South Dakota     11.030880\n",
              "Iowa             11.913074\n",
              "West Virginia    12.408627\n",
              "Montana          12.724919\n",
              "dtype: float64"
            ]
          },
          "metadata": {},
          "execution_count": 45
        }
      ]
    },
    {
      "cell_type": "markdown",
      "source": [
        "The top 5 states with the lowest rent to family income ratio are:\n",
        "North Dakota, South Dakota, Iowa, West Virginia, and Montana"
      ],
      "metadata": {
        "id": "PTemDumtd6Sl"
      }
    },
    {
      "cell_type": "markdown",
      "source": [
        "4. Perform correlation analysis for all the relevant variables by creating a heatmap. Describe your findings."
      ],
      "metadata": {
        "id": "doY_NYU5P_UQ"
      }
    },
    {
      "cell_type": "code",
      "source": [
        "correlation_df = df[['family_mean', 'married', 'divorced', 'home_equity', 'hs_degree','median_age', 'second_mortgage', 'pct_own', 'bad_debt']]\n",
        "a = correlation_df.corr()"
      ],
      "metadata": {
        "id": "h-IDrLsfeHci"
      },
      "execution_count": 49,
      "outputs": []
    },
    {
      "cell_type": "code",
      "source": [
        "a.to_excel(\"correlation.xlsx\",sheet_name='correlation')"
      ],
      "metadata": {
        "id": "E4fKLFPuSizK"
      },
      "execution_count": 50,
      "outputs": []
    },
    {
      "cell_type": "code",
      "source": [
        "sns.heatmap(a)"
      ],
      "metadata": {
        "colab": {
          "base_uri": "https://localhost:8080/",
          "height": 367
        },
        "id": "6ILYuT2nenzc",
        "outputId": "482ab8b8-b3d1-4451-d61c-4acbe478301b"
      },
      "execution_count": 145,
      "outputs": [
        {
          "output_type": "execute_result",
          "data": {
            "text/plain": [
              "<matplotlib.axes._subplots.AxesSubplot at 0x7f2b6aec6400>"
            ]
          },
          "metadata": {},
          "execution_count": 145
        },
        {
          "output_type": "display_data",
          "data": {
            "text/plain": [
              "<Figure size 432x288 with 2 Axes>"
            ],
            "image/png": "[encoded data removed]"
          },
          "metadata": {
            "needs_background": "light"
          }
        }
      ]
    },
    {
      "cell_type": "markdown",
      "source": [
        "### Findings from correlation heatmap:\n",
        "Family mean income is positively correlated to percentage of people with at least a high school degree. Married people is positively correlated to percentage of home ownership."
      ],
      "metadata": {
        "id": "c77ZNjTryDYQ"
      }
    },
    {
      "cell_type": "code",
      "source": [
        "df.to_excel(\"df.xlsx\",sheet_name='df')"
      ],
      "metadata": {
        "id": "LxUqAV-CkEJX"
      },
      "execution_count": 51,
      "outputs": []
    },
    {
      "cell_type": "markdown",
      "source": [
        "Data Pre-processing:\n",
        "\n",
        "1. The economic multivariate data has a significant number of measured variables. **The goal is to find where the measured variables depend on a number of smaller unobserved common factors or latent variables.** \n",
        "2. Each variable is assumed to be dependent upon a linear combination of the common factors, and **the coefficients are known as loadings**. Each measured variable also includes a component due to independent random variability, known as **“specific variance”** because it is specific to one variable. **Obtain the common factors and then plot the loadings.** **Use factor analysis** to find latent variables in our dataset and gain insight into the linear relationships in the data. Following are the list of latent variables:\n",
        "\n",
        "• Highschool graduation rates\n",
        "\n",
        "• Median population age\n",
        "\n",
        "• Second mortgage statistics\n",
        "\n",
        "• Percent own\n",
        "\n",
        "• Bad debt expense"
      ],
      "metadata": {
        "id": "9Y1EDiJD8N03"
      }
    },
    {
      "cell_type": "code",
      "source": [
        "# save the latent variables for factor analysis into a new dataframe\n",
        "print(list(df.columns))"
      ],
      "metadata": {
        "colab": {
          "base_uri": "https://localhost:8080/",
          "height": 0
        },
        "id": "QSsUpeYJgchd",
        "outputId": "e862716a-c626-4905-b89e-fcb6d4300dc4"
      },
      "execution_count": 56,
      "outputs": [
        {
          "output_type": "stream",
          "name": "stdout",
          "text": [
            "['COUNTYID', 'STATEID', 'state', 'state_ab', 'city', 'place', 'type', 'primary', 'zip_code', 'area_code', 'lat', 'lng', 'ALand', 'AWater', 'pop', 'male_pop', 'female_pop', 'rent_mean', 'rent_median', 'rent_stdev', 'rent_sample_weight', 'rent_samples', 'rent_gt_10', 'rent_gt_15', 'rent_gt_20', 'rent_gt_25', 'rent_gt_30', 'rent_gt_35', 'rent_gt_40', 'rent_gt_50', 'universe_samples', 'used_samples', 'hi_mean', 'hi_median', 'hi_stdev', 'hi_sample_weight', 'hi_samples', 'family_mean', 'family_median', 'family_stdev', 'family_sample_weight', 'family_samples', 'hc_mortgage_mean', 'hc_mortgage_median', 'hc_mortgage_stdev', 'hc_mortgage_sample_weight', 'hc_mortgage_samples', 'hc_mean', 'hc_median', 'hc_stdev', 'hc_samples', 'hc_sample_weight', 'home_equity_second_mortgage', 'second_mortgage', 'home_equity', 'debt', 'second_mortgage_cdf', 'home_equity_cdf', 'debt_cdf', 'hs_degree', 'hs_degree_male', 'hs_degree_female', 'male_age_mean', 'male_age_median', 'male_age_stdev', 'male_age_sample_weight', 'male_age_samples', 'female_age_mean', 'female_age_median', 'female_age_stdev', 'female_age_sample_weight', 'female_age_samples', 'pct_own', 'married', 'married_snp', 'separated', 'divorced', 'bad_debt', 'good_debt', 'remaining_income', 'population_density', 'median_age', 'pop_bins']\n"
          ]
        }
      ]
    },
    {
      "cell_type": "code",
      "source": [
        "df_fa = df[['family_mean', 'married', 'divorced', 'home_equity', 'hs_degree','median_age', 'second_mortgage', 'pct_own', 'bad_debt' ]]"
      ],
      "metadata": {
        "id": "emfynnOFkXNX"
      },
      "execution_count": 133,
      "outputs": []
    },
    {
      "cell_type": "code",
      "source": [
        "df_fa"
      ],
      "metadata": {
        "id": "_SZmcTq-ljsz"
      },
      "execution_count": null,
      "outputs": []
    },
    {
      "cell_type": "code",
      "source": [
        "df_fa.isnull().sum().sum()"
      ],
      "metadata": {
        "id": "Znkqygf6lo1u"
      },
      "execution_count": null,
      "outputs": []
    },
    {
      "cell_type": "code",
      "source": [
        "#Standardize the features- mean 0, std 1\n",
        "from sklearn.preprocessing import StandardScaler\n",
        "scaler = StandardScaler()\n",
        "scaled_df_fa = scaler.fit_transform(df_fa)"
      ],
      "metadata": {
        "id": "_cuCXzHaszqf"
      },
      "execution_count": 135,
      "outputs": []
    },
    {
      "cell_type": "code",
      "source": [
        "scaled_df_fa"
      ],
      "metadata": {
        "colab": {
          "base_uri": "https://localhost:8080/",
          "height": 0
        },
        "id": "y-K3vkRVwuMs",
        "outputId": "1a588caf-47b1-46a5-91e0-bc5900912ce7"
      },
      "execution_count": 136,
      "outputs": [
        {
          "output_type": "execute_result",
          "data": {
            "text/plain": [
              "array([[-0.36267632,  0.5043254 , -0.27477163, ..., -0.29696034,\n",
              "         0.65732321, -0.16413614],\n",
              "       [-0.91928223, -1.25295184, -0.22025652, ..., -0.24967349,\n",
              "        -0.58124857, -0.9224153 ],\n",
              "       [ 0.51343167,  1.03185291,  0.12088226, ..., -0.97430375,\n",
              "         0.95037834, -0.1487756 ],\n",
              "       ...,\n",
              "       [ 0.30832131,  1.46847489, -0.49660619, ..., -0.3142445 ,\n",
              "         0.6322375 , -0.39321502],\n",
              "       [ 2.82307432,  1.85505293, -1.01051593, ...,  1.48787376,\n",
              "         1.3531951 ,  0.55913871],\n",
              "       [-0.78382676, -1.28815095,  0.67924277, ..., -0.51382763,\n",
              "        -1.72693796,  1.15834763]])"
            ]
          },
          "metadata": {},
          "execution_count": 136
        }
      ]
    },
    {
      "cell_type": "code",
      "source": [
        "# Attempting to reduce 10 features down to 3 using factor analysis\n",
        "from sklearn.decomposition import FactorAnalysis \n",
        "#fa = FactorAnalysis(n_components = 3, rotation = 'varimax', max_iter = 500)\n",
        "# modified by increasing factors to 4 to achieve a better R2 score\n",
        "fa = FactorAnalysis(n_components = 4, rotation = 'varimax', max_iter = 500)\n",
        "X_transformed = fa.fit_transform(scaled_df_fa)\n",
        "pd.DataFrame(X_transformed)"
      ],
      "metadata": {
        "colab": {
          "base_uri": "https://localhost:8080/",
          "height": 424
        },
        "id": "Q0Iyaa2PBAJp",
        "outputId": "8fdcc655-cccf-41c6-c8ad-4328830587b0"
      },
      "execution_count": 137,
      "outputs": [
        {
          "output_type": "execute_result",
          "data": {
            "text/plain": [
              "              0         1         2         3\n",
              "0     -0.162830 -0.699993  0.011630  0.317488\n",
              "1     -0.871887  0.920148 -0.018465  0.035346\n",
              "2     -0.283770 -0.910526  0.072539 -0.484995\n",
              "3     -1.413641 -0.225836  0.403891 -0.070381\n",
              "4     -0.744330  2.977918 -0.979583 -0.670235\n",
              "...         ...       ...       ...       ...\n",
              "26580 -1.261406  0.829472  0.821332  1.270334\n",
              "26581  1.377884 -0.212914 -0.770488 -0.686699\n",
              "26582 -0.535074 -1.130520 -0.406465 -0.187444\n",
              "26583  0.114679 -1.244574 -1.002379 -1.838606\n",
              "26584  1.389531  1.480444  0.635419  0.394714\n",
              "\n",
              "[26585 rows x 4 columns]"
            ],
            "text/html": [
              "\n",
              "  <div id=\"df-1b68955b-b6f8-4b39-91ab-fe3710344cd7\">\n",
              "    <div class=\"colab-df-container\">\n",
              "      <div>\n",
              "<style scoped>\n",
              "    .dataframe tbody tr th:only-of-type {\n",
              "        vertical-align: middle;\n",
              "    }\n",
              "\n",
              "    .dataframe tbody tr th {\n",
              "        vertical-align: top;\n",
              "    }\n",
              "\n",
              "    .dataframe thead th {\n",
              "        text-align: right;\n",
              "    }\n",
              "</style>\n",
              "<table border=\"1\" class=\"dataframe\">\n",
              "  <thead>\n",
              "    <tr style=\"text-align: right;\">\n",
              "      <th></th>\n",
              "      <th>0</th>\n",
              "      <th>1</th>\n",
              "      <th>2</th>\n",
              "      <th>3</th>\n",
              "    </tr>\n",
              "  </thead>\n",
              "  <tbody>\n",
              "    <tr>\n",
              "      <th>0</th>\n",
              "      <td>-0.162830</td>\n",
              "      <td>-0.699993</td>\n",
              "      <td>0.011630</td>\n",
              "      <td>0.317488</td>\n",
              "    </tr>\n",
              "    <tr>\n",
              "      <th>1</th>\n",
              "      <td>-0.871887</td>\n",
              "      <td>0.920148</td>\n",
              "      <td>-0.018465</td>\n",
              "      <td>0.035346</td>\n",
              "    </tr>\n",
              "    <tr>\n",
              "      <th>2</th>\n",
              "      <td>-0.283770</td>\n",
              "      <td>-0.910526</td>\n",
              "      <td>0.072539</td>\n",
              "      <td>-0.484995</td>\n",
              "    </tr>\n",
              "    <tr>\n",
              "      <th>3</th>\n",
              "      <td>-1.413641</td>\n",
              "      <td>-0.225836</td>\n",
              "      <td>0.403891</td>\n",
              "      <td>-0.070381</td>\n",
              "    </tr>\n",
              "    <tr>\n",
              "      <th>4</th>\n",
              "      <td>-0.744330</td>\n",
              "      <td>2.977918</td>\n",
              "      <td>-0.979583</td>\n",
              "      <td>-0.670235</td>\n",
              "    </tr>\n",
              "    <tr>\n",
              "      <th>...</th>\n",
              "      <td>...</td>\n",
              "      <td>...</td>\n",
              "      <td>...</td>\n",
              "      <td>...</td>\n",
              "    </tr>\n",
              "    <tr>\n",
              "      <th>26580</th>\n",
              "      <td>-1.261406</td>\n",
              "      <td>0.829472</td>\n",
              "      <td>0.821332</td>\n",
              "      <td>1.270334</td>\n",
              "    </tr>\n",
              "    <tr>\n",
              "      <th>26581</th>\n",
              "      <td>1.377884</td>\n",
              "      <td>-0.212914</td>\n",
              "      <td>-0.770488</td>\n",
              "      <td>-0.686699</td>\n",
              "    </tr>\n",
              "    <tr>\n",
              "      <th>26582</th>\n",
              "      <td>-0.535074</td>\n",
              "      <td>-1.130520</td>\n",
              "      <td>-0.406465</td>\n",
              "      <td>-0.187444</td>\n",
              "    </tr>\n",
              "    <tr>\n",
              "      <th>26583</th>\n",
              "      <td>0.114679</td>\n",
              "      <td>-1.244574</td>\n",
              "      <td>-1.002379</td>\n",
              "      <td>-1.838606</td>\n",
              "    </tr>\n",
              "    <tr>\n",
              "      <th>26584</th>\n",
              "      <td>1.389531</td>\n",
              "      <td>1.480444</td>\n",
              "      <td>0.635419</td>\n",
              "      <td>0.394714</td>\n",
              "    </tr>\n",
              "  </tbody>\n",
              "</table>\n",
              "<p>26585 rows × 4 columns</p>\n",
              "</div>\n",
              "      <button class=\"colab-df-convert\" onclick=\"convertToInteractive('df-1b68955b-b6f8-4b39-91ab-fe3710344cd7')\"\n",
              "              title=\"Convert this dataframe to an interactive table.\"\n",
              "              style=\"display:none;\">\n",
              "        \n",
              "  <svg xmlns=\"http://www.w3.org/2000/svg\" height=\"24px\"viewBox=\"0 0 24 24\"\n",
              "       width=\"24px\">\n",
              "    <path d=\"M0 0h24v24H0V0z\" fill=\"none\"/>\n",
              "    <path d=\"M18.56 5.44l.94 2.06.94-2.06 2.06-.94-2.06-.94-.94-2.06-.94 2.06-2.06.94zm-11 1L8.5 8.5l.94-2.06 2.06-.94-2.06-.94L8.5 2.5l-.94 2.06-2.06.94zm10 10l.94 2.06.94-2.06 2.06-.94-2.06-.94-.94-2.06-.94 2.06-2.06.94z\"/><path d=\"M17.41 7.96l-1.37-1.37c-.4-.4-.92-.59-1.43-.59-.52 0-1.04.2-1.43.59L10.3 9.45l-7.72 7.72c-.78.78-.78 2.05 0 2.83L4 21.41c.39.39.9.59 1.41.59.51 0 1.02-.2 1.41-.59l7.78-7.78 2.81-2.81c.8-.78.8-2.07 0-2.86zM5.41 20L4 18.59l7.72-7.72 1.47 1.35L5.41 20z\"/>\n",
              "  </svg>\n",
              "      </button>\n",
              "      \n",
              "  <style>\n",
              "    .colab-df-container {\n",
              "      display:flex;\n",
              "      flex-wrap:wrap;\n",
              "      gap: 12px;\n",
              "    }\n",
              "\n",
              "    .colab-df-convert {\n",
              "      background-color: #E8F0FE;\n",
              "      border: none;\n",
              "      border-radius: 50%;\n",
              "      cursor: pointer;\n",
              "      display: none;\n",
              "      fill: #1967D2;\n",
              "      height: 32px;\n",
              "      padding: 0 0 0 0;\n",
              "      width: 32px;\n",
              "    }\n",
              "\n",
              "    .colab-df-convert:hover {\n",
              "      background-color: #E2EBFA;\n",
              "      box-shadow: 0px 1px 2px rgba(60, 64, 67, 0.3), 0px 1px 3px 1px rgba(60, 64, 67, 0.15);\n",
              "      fill: #174EA6;\n",
              "    }\n",
              "\n",
              "    [theme=dark] .colab-df-convert {\n",
              "      background-color: #3B4455;\n",
              "      fill: #D2E3FC;\n",
              "    }\n",
              "\n",
              "    [theme=dark] .colab-df-convert:hover {\n",
              "      background-color: #434B5C;\n",
              "      box-shadow: 0px 1px 3px 1px rgba(0, 0, 0, 0.15);\n",
              "      filter: drop-shadow(0px 1px 2px rgba(0, 0, 0, 0.3));\n",
              "      fill: #FFFFFF;\n",
              "    }\n",
              "  </style>\n",
              "\n",
              "      <script>\n",
              "        const buttonEl =\n",
              "          document.querySelector('#df-1b68955b-b6f8-4b39-91ab-fe3710344cd7 button.colab-df-convert');\n",
              "        buttonEl.style.display =\n",
              "          google.colab.kernel.accessAllowed ? 'block' : 'none';\n",
              "\n",
              "        async function convertToInteractive(key) {\n",
              "          const element = document.querySelector('#df-1b68955b-b6f8-4b39-91ab-fe3710344cd7');\n",
              "          const dataTable =\n",
              "            await google.colab.kernel.invokeFunction('convertToInteractive',\n",
              "                                                     [key], {});\n",
              "          if (!dataTable) return;\n",
              "\n",
              "          const docLinkHtml = 'Like what you see? Visit the ' +\n",
              "            '<a target=\"_blank\" href=https://colab.research.google.com/notebooks/data_table.ipynb>data table notebook</a>'\n",
              "            + ' to learn more about interactive tables.';\n",
              "          element.innerHTML = '';\n",
              "          dataTable['output_type'] = 'display_data';\n",
              "          await google.colab.output.renderOutput(dataTable, element);\n",
              "          const docLink = document.createElement('div');\n",
              "          docLink.innerHTML = docLinkHtml;\n",
              "          element.appendChild(docLink);\n",
              "        }\n",
              "      </script>\n",
              "    </div>\n",
              "  </div>\n",
              "  "
            ]
          },
          "metadata": {},
          "execution_count": 137
        }
      ]
    },
    {
      "cell_type": "code",
      "source": [
        "#loadings = pd.DataFrame(fa.components_, index = [\"Factor1\", \"Factor2\", \"Factor3\"], columns = df_fa.columns).T\n",
        "loadings = pd.DataFrame(fa.components_, index = [\"Factor1\", \"Factor2\", \"Factor3\", \"Factor4\"], columns = df_fa.columns).T\n",
        "loadings"
      ],
      "metadata": {
        "colab": {
          "base_uri": "https://localhost:8080/",
          "height": 332
        },
        "id": "hy0g4BObBIlc",
        "outputId": "fbfc33ee-5a3b-49ca-e457-3e1cf2278bec"
      },
      "execution_count": 138,
      "outputs": [
        {
          "output_type": "execute_result",
          "data": {
            "text/plain": [
              "                  Factor1   Factor2   Factor3   Factor4\n",
              "family_mean      0.343160 -0.328803 -0.255385 -0.734965\n",
              "married          0.092777 -0.829570 -0.226661 -0.182576\n",
              "divorced        -0.150213  0.106977  0.798705  0.124254\n",
              "home_equity      0.965170 -0.073556 -0.069616 -0.172150\n",
              "hs_degree        0.266267 -0.309319  0.079964 -0.645149\n",
              "median_age       0.004794 -0.621801  0.292550 -0.225554\n",
              "second_mortgage  0.590644  0.088543 -0.019514  0.124160\n",
              "pct_own          0.061857 -0.782130 -0.015357 -0.233596\n",
              "bad_debt         0.982388 -0.065746 -0.073353 -0.156953"
            ],
            "text/html": [
              "\n",
              "  <div id=\"df-0d9837de-c239-4b32-bb0f-cb068997d317\">\n",
              "    <div class=\"colab-df-container\">\n",
              "      <div>\n",
              "<style scoped>\n",
              "    .dataframe tbody tr th:only-of-type {\n",
              "        vertical-align: middle;\n",
              "    }\n",
              "\n",
              "    .dataframe tbody tr th {\n",
              "        vertical-align: top;\n",
              "    }\n",
              "\n",
              "    .dataframe thead th {\n",
              "        text-align: right;\n",
              "    }\n",
              "</style>\n",
              "<table border=\"1\" class=\"dataframe\">\n",
              "  <thead>\n",
              "    <tr style=\"text-align: right;\">\n",
              "      <th></th>\n",
              "      <th>Factor1</th>\n",
              "      <th>Factor2</th>\n",
              "      <th>Factor3</th>\n",
              "      <th>Factor4</th>\n",
              "    </tr>\n",
              "  </thead>\n",
              "  <tbody>\n",
              "    <tr>\n",
              "      <th>family_mean</th>\n",
              "      <td>0.343160</td>\n",
              "      <td>-0.328803</td>\n",
              "      <td>-0.255385</td>\n",
              "      <td>-0.734965</td>\n",
              "    </tr>\n",
              "    <tr>\n",
              "      <th>married</th>\n",
              "      <td>0.092777</td>\n",
              "      <td>-0.829570</td>\n",
              "      <td>-0.226661</td>\n",
              "      <td>-0.182576</td>\n",
              "    </tr>\n",
              "    <tr>\n",
              "      <th>divorced</th>\n",
              "      <td>-0.150213</td>\n",
              "      <td>0.106977</td>\n",
              "      <td>0.798705</td>\n",
              "      <td>0.124254</td>\n",
              "    </tr>\n",
              "    <tr>\n",
              "      <th>home_equity</th>\n",
              "      <td>0.965170</td>\n",
              "      <td>-0.073556</td>\n",
              "      <td>-0.069616</td>\n",
              "      <td>-0.172150</td>\n",
              "    </tr>\n",
              "    <tr>\n",
              "      <th>hs_degree</th>\n",
              "      <td>0.266267</td>\n",
              "      <td>-0.309319</td>\n",
              "      <td>0.079964</td>\n",
              "      <td>-0.645149</td>\n",
              "    </tr>\n",
              "    <tr>\n",
              "      <th>median_age</th>\n",
              "      <td>0.004794</td>\n",
              "      <td>-0.621801</td>\n",
              "      <td>0.292550</td>\n",
              "      <td>-0.225554</td>\n",
              "    </tr>\n",
              "    <tr>\n",
              "      <th>second_mortgage</th>\n",
              "      <td>0.590644</td>\n",
              "      <td>0.088543</td>\n",
              "      <td>-0.019514</td>\n",
              "      <td>0.124160</td>\n",
              "    </tr>\n",
              "    <tr>\n",
              "      <th>pct_own</th>\n",
              "      <td>0.061857</td>\n",
              "      <td>-0.782130</td>\n",
              "      <td>-0.015357</td>\n",
              "      <td>-0.233596</td>\n",
              "    </tr>\n",
              "    <tr>\n",
              "      <th>bad_debt</th>\n",
              "      <td>0.982388</td>\n",
              "      <td>-0.065746</td>\n",
              "      <td>-0.073353</td>\n",
              "      <td>-0.156953</td>\n",
              "    </tr>\n",
              "  </tbody>\n",
              "</table>\n",
              "</div>\n",
              "      <button class=\"colab-df-convert\" onclick=\"convertToInteractive('df-0d9837de-c239-4b32-bb0f-cb068997d317')\"\n",
              "              title=\"Convert this dataframe to an interactive table.\"\n",
              "              style=\"display:none;\">\n",
              "        \n",
              "  <svg xmlns=\"http://www.w3.org/2000/svg\" height=\"24px\"viewBox=\"0 0 24 24\"\n",
              "       width=\"24px\">\n",
              "    <path d=\"M0 0h24v24H0V0z\" fill=\"none\"/>\n",
              "    <path d=\"M18.56 5.44l.94 2.06.94-2.06 2.06-.94-2.06-.94-.94-2.06-.94 2.06-2.06.94zm-11 1L8.5 8.5l.94-2.06 2.06-.94-2.06-.94L8.5 2.5l-.94 2.06-2.06.94zm10 10l.94 2.06.94-2.06 2.06-.94-2.06-.94-.94-2.06-.94 2.06-2.06.94z\"/><path d=\"M17.41 7.96l-1.37-1.37c-.4-.4-.92-.59-1.43-.59-.52 0-1.04.2-1.43.59L10.3 9.45l-7.72 7.72c-.78.78-.78 2.05 0 2.83L4 21.41c.39.39.9.59 1.41.59.51 0 1.02-.2 1.41-.59l7.78-7.78 2.81-2.81c.8-.78.8-2.07 0-2.86zM5.41 20L4 18.59l7.72-7.72 1.47 1.35L5.41 20z\"/>\n",
              "  </svg>\n",
              "      </button>\n",
              "      \n",
              "  <style>\n",
              "    .colab-df-container {\n",
              "      display:flex;\n",
              "      flex-wrap:wrap;\n",
              "      gap: 12px;\n",
              "    }\n",
              "\n",
              "    .colab-df-convert {\n",
              "      background-color: #E8F0FE;\n",
              "      border: none;\n",
              "      border-radius: 50%;\n",
              "      cursor: pointer;\n",
              "      display: none;\n",
              "      fill: #1967D2;\n",
              "      height: 32px;\n",
              "      padding: 0 0 0 0;\n",
              "      width: 32px;\n",
              "    }\n",
              "\n",
              "    .colab-df-convert:hover {\n",
              "      background-color: #E2EBFA;\n",
              "      box-shadow: 0px 1px 2px rgba(60, 64, 67, 0.3), 0px 1px 3px 1px rgba(60, 64, 67, 0.15);\n",
              "      fill: #174EA6;\n",
              "    }\n",
              "\n",
              "    [theme=dark] .colab-df-convert {\n",
              "      background-color: #3B4455;\n",
              "      fill: #D2E3FC;\n",
              "    }\n",
              "\n",
              "    [theme=dark] .colab-df-convert:hover {\n",
              "      background-color: #434B5C;\n",
              "      box-shadow: 0px 1px 3px 1px rgba(0, 0, 0, 0.15);\n",
              "      filter: drop-shadow(0px 1px 2px rgba(0, 0, 0, 0.3));\n",
              "      fill: #FFFFFF;\n",
              "    }\n",
              "  </style>\n",
              "\n",
              "      <script>\n",
              "        const buttonEl =\n",
              "          document.querySelector('#df-0d9837de-c239-4b32-bb0f-cb068997d317 button.colab-df-convert');\n",
              "        buttonEl.style.display =\n",
              "          google.colab.kernel.accessAllowed ? 'block' : 'none';\n",
              "\n",
              "        async function convertToInteractive(key) {\n",
              "          const element = document.querySelector('#df-0d9837de-c239-4b32-bb0f-cb068997d317');\n",
              "          const dataTable =\n",
              "            await google.colab.kernel.invokeFunction('convertToInteractive',\n",
              "                                                     [key], {});\n",
              "          if (!dataTable) return;\n",
              "\n",
              "          const docLinkHtml = 'Like what you see? Visit the ' +\n",
              "            '<a target=\"_blank\" href=https://colab.research.google.com/notebooks/data_table.ipynb>data table notebook</a>'\n",
              "            + ' to learn more about interactive tables.';\n",
              "          element.innerHTML = '';\n",
              "          dataTable['output_type'] = 'display_data';\n",
              "          await google.colab.output.renderOutput(dataTable, element);\n",
              "          const docLink = document.createElement('div');\n",
              "          docLink.innerHTML = docLinkHtml;\n",
              "          element.appendChild(docLink);\n",
              "        }\n",
              "      </script>\n",
              "    </div>\n",
              "  </div>\n",
              "  "
            ]
          },
          "metadata": {},
          "execution_count": 138
        }
      ]
    },
    {
      "cell_type": "markdown",
      "source": [
        "Factor Analysis helps us find the latent variables\n",
        "-  Factor1: (home_equity, second_mortgage, bad debt) They are all related and we can think of this factor as being **Bad Payers**.\n",
        "-  Factor2:(married, median_age, pct_own) **Owners**\n",
        "-  Factor3: **Divorced**\n",
        "-  Factor4:(family_mean, hs_degree). **Income/Education**"
      ],
      "metadata": {
        "id": "BeCVJviAEYtW"
      }
    },
    {
      "cell_type": "markdown",
      "source": [
        "- positive coefficient: independent variable increases -> the mean of the dependent variable increases. \n",
        "- negative coefficient: independent variable increases -> the dependent variable decreases."
      ],
      "metadata": {
        "id": "pIdArjmfIDnL"
      }
    },
    {
      "cell_type": "code",
      "source": [
        "plt.figure(figsize =(15,5))\n",
        "plt.plot(loadings)\n",
        "plt.legend(['F1-Bad Payers', 'F2-Owners', 'F3-Divorced', 'F4-Familyl Income/Education'])"
      ],
      "metadata": {
        "colab": {
          "base_uri": "https://localhost:8080/",
          "height": 339
        },
        "id": "8puzmH6uBiTo",
        "outputId": "eac2d1c9-2b88-405e-e781-9c9b4adc72e5"
      },
      "execution_count": 139,
      "outputs": [
        {
          "output_type": "execute_result",
          "data": {
            "text/plain": [
              "<matplotlib.legend.Legend at 0x7f2b6ab66a30>"
            ]
          },
          "metadata": {},
          "execution_count": 139
        },
        {
          "output_type": "display_data",
          "data": {
            "text/plain": [
              "<Figure size 1080x360 with 1 Axes>"
            ],
            "image/png": "[encoded data removed]"
          },
          "metadata": {
            "needs_background": "light"
          }
        }
      ]
    },
    {
      "cell_type": "code",
      "source": [
        "# Prepare the dataframe for model\n",
        "# Convert array to a dataframe\n",
        "factors_df = pd.DataFrame(X_transformed)\n",
        "# Target\n",
        "label = pd.DataFrame(df.hc_mortgage_mean)\n",
        "label.reset_index(inplace = True, drop = True)\n",
        "#combine into one dataframe\n",
        "final_df = pd.concat([factors_df, label], axis = 1)\n",
        "final_df"
      ],
      "metadata": {
        "colab": {
          "base_uri": "https://localhost:8080/",
          "height": 424
        },
        "id": "JSJso_ZHKJXB",
        "outputId": "8075edb7-8331-4168-eb11-7376c8be4ce2"
      },
      "execution_count": 140,
      "outputs": [
        {
          "output_type": "execute_result",
          "data": {
            "text/plain": [
              "              0         1         2         3  hc_mortgage_mean\n",
              "0     -0.162830 -0.699993  0.011630  0.317488        1414.80295\n",
              "1     -0.871887  0.920148 -0.018465  0.035346         864.41390\n",
              "2     -0.283770 -0.910526  0.072539 -0.484995        1506.06758\n",
              "3     -1.413641 -0.225836  0.403891 -0.070381        1175.28642\n",
              "4     -0.744330  2.977918 -0.979583 -0.670235        1192.58759\n",
              "...         ...       ...       ...       ...               ...\n",
              "26580 -1.261406  0.829472  0.821332  1.270334         770.11560\n",
              "26581  1.377884 -0.212914 -0.770488 -0.686699        2210.84055\n",
              "26582 -0.535074 -1.130520 -0.406465 -0.187444        1671.07908\n",
              "26583  0.114679 -1.244574 -1.002379 -1.838606        3074.83088\n",
              "26584  1.389531  1.480444  0.635419  0.394714        1455.42340\n",
              "\n",
              "[26585 rows x 5 columns]"
            ],
            "text/html": [
              "\n",
              "  <div id=\"df-8b319c34-8c7e-466c-8546-bf01415135ab\">\n",
              "    <div class=\"colab-df-container\">\n",
              "      <div>\n",
              "<style scoped>\n",
              "    .dataframe tbody tr th:only-of-type {\n",
              "        vertical-align: middle;\n",
              "    }\n",
              "\n",
              "    .dataframe tbody tr th {\n",
              "        vertical-align: top;\n",
              "    }\n",
              "\n",
              "    .dataframe thead th {\n",
              "        text-align: right;\n",
              "    }\n",
              "</style>\n",
              "<table border=\"1\" class=\"dataframe\">\n",
              "  <thead>\n",
              "    <tr style=\"text-align: right;\">\n",
              "      <th></th>\n",
              "      <th>0</th>\n",
              "      <th>1</th>\n",
              "      <th>2</th>\n",
              "      <th>3</th>\n",
              "      <th>hc_mortgage_mean</th>\n",
              "    </tr>\n",
              "  </thead>\n",
              "  <tbody>\n",
              "    <tr>\n",
              "      <th>0</th>\n",
              "      <td>-0.162830</td>\n",
              "      <td>-0.699993</td>\n",
              "      <td>0.011630</td>\n",
              "      <td>0.317488</td>\n",
              "      <td>1414.80295</td>\n",
              "    </tr>\n",
              "    <tr>\n",
              "      <th>1</th>\n",
              "      <td>-0.871887</td>\n",
              "      <td>0.920148</td>\n",
              "      <td>-0.018465</td>\n",
              "      <td>0.035346</td>\n",
              "      <td>864.41390</td>\n",
              "    </tr>\n",
              "    <tr>\n",
              "      <th>2</th>\n",
              "      <td>-0.283770</td>\n",
              "      <td>-0.910526</td>\n",
              "      <td>0.072539</td>\n",
              "      <td>-0.484995</td>\n",
              "      <td>1506.06758</td>\n",
              "    </tr>\n",
              "    <tr>\n",
              "      <th>3</th>\n",
              "      <td>-1.413641</td>\n",
              "      <td>-0.225836</td>\n",
              "      <td>0.403891</td>\n",
              "      <td>-0.070381</td>\n",
              "      <td>1175.28642</td>\n",
              "    </tr>\n",
              "    <tr>\n",
              "      <th>4</th>\n",
              "      <td>-0.744330</td>\n",
              "      <td>2.977918</td>\n",
              "      <td>-0.979583</td>\n",
              "      <td>-0.670235</td>\n",
              "      <td>1192.58759</td>\n",
              "    </tr>\n",
              "    <tr>\n",
              "      <th>...</th>\n",
              "      <td>...</td>\n",
              "      <td>...</td>\n",
              "      <td>...</td>\n",
              "      <td>...</td>\n",
              "      <td>...</td>\n",
              "    </tr>\n",
              "    <tr>\n",
              "      <th>26580</th>\n",
              "      <td>-1.261406</td>\n",
              "      <td>0.829472</td>\n",
              "      <td>0.821332</td>\n",
              "      <td>1.270334</td>\n",
              "      <td>770.11560</td>\n",
              "    </tr>\n",
              "    <tr>\n",
              "      <th>26581</th>\n",
              "      <td>1.377884</td>\n",
              "      <td>-0.212914</td>\n",
              "      <td>-0.770488</td>\n",
              "      <td>-0.686699</td>\n",
              "      <td>2210.84055</td>\n",
              "    </tr>\n",
              "    <tr>\n",
              "      <th>26582</th>\n",
              "      <td>-0.535074</td>\n",
              "      <td>-1.130520</td>\n",
              "      <td>-0.406465</td>\n",
              "      <td>-0.187444</td>\n",
              "      <td>1671.07908</td>\n",
              "    </tr>\n",
              "    <tr>\n",
              "      <th>26583</th>\n",
              "      <td>0.114679</td>\n",
              "      <td>-1.244574</td>\n",
              "      <td>-1.002379</td>\n",
              "      <td>-1.838606</td>\n",
              "      <td>3074.83088</td>\n",
              "    </tr>\n",
              "    <tr>\n",
              "      <th>26584</th>\n",
              "      <td>1.389531</td>\n",
              "      <td>1.480444</td>\n",
              "      <td>0.635419</td>\n",
              "      <td>0.394714</td>\n",
              "      <td>1455.42340</td>\n",
              "    </tr>\n",
              "  </tbody>\n",
              "</table>\n",
              "<p>26585 rows × 5 columns</p>\n",
              "</div>\n",
              "      <button class=\"colab-df-convert\" onclick=\"convertToInteractive('df-8b319c34-8c7e-466c-8546-bf01415135ab')\"\n",
              "              title=\"Convert this dataframe to an interactive table.\"\n",
              "              style=\"display:none;\">\n",
              "        \n",
              "  <svg xmlns=\"http://www.w3.org/2000/svg\" height=\"24px\"viewBox=\"0 0 24 24\"\n",
              "       width=\"24px\">\n",
              "    <path d=\"M0 0h24v24H0V0z\" fill=\"none\"/>\n",
              "    <path d=\"M18.56 5.44l.94 2.06.94-2.06 2.06-.94-2.06-.94-.94-2.06-.94 2.06-2.06.94zm-11 1L8.5 8.5l.94-2.06 2.06-.94-2.06-.94L8.5 2.5l-.94 2.06-2.06.94zm10 10l.94 2.06.94-2.06 2.06-.94-2.06-.94-.94-2.06-.94 2.06-2.06.94z\"/><path d=\"M17.41 7.96l-1.37-1.37c-.4-.4-.92-.59-1.43-.59-.52 0-1.04.2-1.43.59L10.3 9.45l-7.72 7.72c-.78.78-.78 2.05 0 2.83L4 21.41c.39.39.9.59 1.41.59.51 0 1.02-.2 1.41-.59l7.78-7.78 2.81-2.81c.8-.78.8-2.07 0-2.86zM5.41 20L4 18.59l7.72-7.72 1.47 1.35L5.41 20z\"/>\n",
              "  </svg>\n",
              "      </button>\n",
              "      \n",
              "  <style>\n",
              "    .colab-df-container {\n",
              "      display:flex;\n",
              "      flex-wrap:wrap;\n",
              "      gap: 12px;\n",
              "    }\n",
              "\n",
              "    .colab-df-convert {\n",
              "      background-color: #E8F0FE;\n",
              "      border: none;\n",
              "      border-radius: 50%;\n",
              "      cursor: pointer;\n",
              "      display: none;\n",
              "      fill: #1967D2;\n",
              "      height: 32px;\n",
              "      padding: 0 0 0 0;\n",
              "      width: 32px;\n",
              "    }\n",
              "\n",
              "    .colab-df-convert:hover {\n",
              "      background-color: #E2EBFA;\n",
              "      box-shadow: 0px 1px 2px rgba(60, 64, 67, 0.3), 0px 1px 3px 1px rgba(60, 64, 67, 0.15);\n",
              "      fill: #174EA6;\n",
              "    }\n",
              "\n",
              "    [theme=dark] .colab-df-convert {\n",
              "      background-color: #3B4455;\n",
              "      fill: #D2E3FC;\n",
              "    }\n",
              "\n",
              "    [theme=dark] .colab-df-convert:hover {\n",
              "      background-color: #434B5C;\n",
              "      box-shadow: 0px 1px 3px 1px rgba(0, 0, 0, 0.15);\n",
              "      filter: drop-shadow(0px 1px 2px rgba(0, 0, 0, 0.3));\n",
              "      fill: #FFFFFF;\n",
              "    }\n",
              "  </style>\n",
              "\n",
              "      <script>\n",
              "        const buttonEl =\n",
              "          document.querySelector('#df-8b319c34-8c7e-466c-8546-bf01415135ab button.colab-df-convert');\n",
              "        buttonEl.style.display =\n",
              "          google.colab.kernel.accessAllowed ? 'block' : 'none';\n",
              "\n",
              "        async function convertToInteractive(key) {\n",
              "          const element = document.querySelector('#df-8b319c34-8c7e-466c-8546-bf01415135ab');\n",
              "          const dataTable =\n",
              "            await google.colab.kernel.invokeFunction('convertToInteractive',\n",
              "                                                     [key], {});\n",
              "          if (!dataTable) return;\n",
              "\n",
              "          const docLinkHtml = 'Like what you see? Visit the ' +\n",
              "            '<a target=\"_blank\" href=https://colab.research.google.com/notebooks/data_table.ipynb>data table notebook</a>'\n",
              "            + ' to learn more about interactive tables.';\n",
              "          element.innerHTML = '';\n",
              "          dataTable['output_type'] = 'display_data';\n",
              "          await google.colab.output.renderOutput(dataTable, element);\n",
              "          const docLink = document.createElement('div');\n",
              "          docLink.innerHTML = docLinkHtml;\n",
              "          element.appendChild(docLink);\n",
              "        }\n",
              "      </script>\n",
              "    </div>\n",
              "  </div>\n",
              "  "
            ]
          },
          "metadata": {},
          "execution_count": 140
        }
      ]
    },
    {
      "cell_type": "markdown",
      "source": [
        "# Data Modeling :\n",
        "1. Build a linear Regression model to predict the total monthly expenditure for home mortgages loan. Please refer ‘deplotment_RE.xlsx’. Column hc_mortgage_mean is predicted variable. This is the mean monthly     mortgage and owner costs of specified geographical location. Note: Exclude loans from prediction model which have NaN (Not a Number) values for hc_mortgage_mean.\n",
        "\n",
        "-  a) Run a model at a Nation level. If the accuracy levels and R square are not satisfactory proceed to below step.\n",
        "\n",
        "  b) Run another model at State level. There are 52 states in USA.\n",
        "\n",
        "  c) Keep below considerations while building a linear regression model.\n",
        "> Data Modeling:\n",
        "> -  variables should have significant impact on predicting Monthly mortgage and owner costs\n",
        "> - Utilize all predictor variable to start with initial hypothesis\n",
        "> - R square of 60 percent and above should be achieved\n",
        "> - Ensure Multi-collinearity does not exist in dependent variables\n",
        "> - Test if predicted variable is normally distributed"
      ],
      "metadata": {
        "id": "cSSYkIrkilPi"
      }
    },
    {
      "cell_type": "code",
      "source": [
        "# Check there are no missing values for the target variable\n",
        "final_df['hc_mortgage_mean'].isnull().sum().sum()"
      ],
      "metadata": {
        "colab": {
          "base_uri": "https://localhost:8080/",
          "height": 0
        },
        "id": "HK8J48J4r_vb",
        "outputId": "f1188fff-b066-454b-a0ce-422fc44c7a7c"
      },
      "execution_count": 141,
      "outputs": [
        {
          "output_type": "execute_result",
          "data": {
            "text/plain": [
              "0"
            ]
          },
          "metadata": {},
          "execution_count": 141
        }
      ]
    },
    {
      "cell_type": "code",
      "source": [
        "from sklearn.linear_model import LinearRegression\n",
        "lm = LinearRegression()\n",
        "X = final_df.drop(columns = 'hc_mortgage_mean')\n",
        "y = final_df.hc_mortgage_mean # this is a series\n",
        "lm.fit(X,y)\n",
        "y_predict = lm.predict(X)"
      ],
      "metadata": {
        "id": "wOB9kMtYkEho"
      },
      "execution_count": 142,
      "outputs": []
    },
    {
      "cell_type": "code",
      "source": [
        "round(lm.score(X,y)*100,1)"
      ],
      "metadata": {
        "colab": {
          "base_uri": "https://localhost:8080/",
          "height": 0
        },
        "id": "aldwwwRZnG9c",
        "outputId": "d28d98fe-9b92-415b-afff-614e06077a41"
      },
      "execution_count": 143,
      "outputs": [
        {
          "output_type": "execute_result",
          "data": {
            "text/plain": [
              "62.7"
            ]
          },
          "metadata": {},
          "execution_count": 143
        }
      ]
    },
    {
      "cell_type": "markdown",
      "source": [
        "Success. I was able to come up with a model whose R squared score is above 60%."
      ],
      "metadata": {
        "id": "M9WA2C2wq2SJ"
      }
    },
    {
      "cell_type": "code",
      "source": [
        "y_predict"
      ],
      "metadata": {
        "colab": {
          "base_uri": "https://localhost:8080/",
          "height": 0
        },
        "id": "YjXwyQjMtJuO",
        "outputId": "b68d5419-5439-4cc1-aac2-402c0dfdc613"
      },
      "execution_count": 130,
      "outputs": [
        {
          "output_type": "execute_result",
          "data": {
            "text/plain": [
              "array([1437.62833112, 1434.39965199, 1730.47816887, ..., 1656.24909908,\n",
              "       2647.84624218, 1662.91339785])"
            ]
          },
          "metadata": {},
          "execution_count": 130
        }
      ]
    },
    {
      "cell_type": "code",
      "source": [
        "#Test if predicted variable is normally distributed\n",
        "sns.histplot(y_predict, kde = True)"
      ],
      "metadata": {
        "colab": {
          "base_uri": "https://localhost:8080/",
          "height": 283
        },
        "id": "ogrLIhvvsvsV",
        "outputId": "0a72e673-9083-4efc-a060-bf23edc81a56"
      },
      "execution_count": 131,
      "outputs": [
        {
          "output_type": "execute_result",
          "data": {
            "text/plain": [
              "<matplotlib.axes._subplots.AxesSubplot at 0x7f2b6ae220d0>"
            ]
          },
          "metadata": {},
          "execution_count": 131
        },
        {
          "output_type": "display_data",
          "data": {
            "text/plain": [
              "<Figure size 432x288 with 1 Axes>"
            ],
            "image/png": "[encoded data removed]"
          },
          "metadata": {
            "needs_background": "light"
          }
        }
      ]
    },
    {
      "cell_type": "markdown",
      "source": [
        "The plot has a bell shaped curve and so is normally distributed."
      ],
      "metadata": {
        "id": "64Lk-roxuIir"
      }
    },
    {
      "cell_type": "code",
      "source": [
        "# left off at ~ 1:21:00\n",
        "# Next part is to create the Tableau dashboard.\n",
        "# make some more remarks here for all of your charts that are missing findings"
      ],
      "metadata": {
        "id": "EMcvnojLtXQW"
      },
      "execution_count": null,
      "outputs": []
    }
  ],
  "metadata": {
    "kernelspec": {
      "display_name": "Python 3",
      "language": "python",
      "name": "python3"
    },
    "language_info": {
      "codemirror_mode": {
        "name": "ipython",
        "version": 3
      },
      "file_extension": ".py",
      "mimetype": "text/x-python",
      "name": "python",
      "nbconvert_exporter": "python",
      "pygments_lexer": "ipython3",
      "version": "3.7.6"
    },
    "colab": {
      "provenance": []
    }
  },
  "nbformat": 4,
  "nbformat_minor": 0
}